{
 "cells": [
  {
   "cell_type": "code",
   "execution_count": 1,
   "metadata": {},
   "outputs": [
    {
     "data": {
      "text/plain": [
       "\"./../testy/pan_tadeusz.txt\""
      ]
     },
     "metadata": {},
     "output_type": "display_data"
    }
   ],
   "source": [
    "using Plots\n",
    "\n",
    "test = \"./../testy/pan_tadeusz.txt\""
   ]
  },
  {
   "cell_type": "code",
   "execution_count": 12,
   "metadata": {},
   "outputs": [
    {
     "data": {
      "text/plain": [
       "run_experiment_2_3 (generic function with 1 method)"
      ]
     },
     "metadata": {},
     "output_type": "display_data"
    }
   ],
   "source": [
    "function run_experiment_2_3(p)\n",
    "    run(`cargo run --release --bin coder $test ./testing/coded.bin`)\n",
    "    run(`cargo run --release --bin noise $p ./testing/coded.bin ./testing/noise.bin`)\n",
    "    (double_errors, decoding_total) = split(readchomp(`cargo run --release --bin decoder ./testing/noise.bin ./testing/decoded.bin`))\n",
    "    (check_errors, check_total) = split(readchomp(`cargo run --release --bin check ./testing/decoded.bin $test`))\n",
    "\n",
    "    double_errors = parse(Int, double_errors)\n",
    "    decoding_total = parse(Int, decoding_total)\n",
    "    check_errors = parse(Int, check_errors)\n",
    "    check_total = parse(Int, check_total)\n",
    "\n",
    "    return (double_errors / decoding_total, check_errors / check_total)\n",
    "end"
   ]
  },
  {
   "cell_type": "code",
   "execution_count": 16,
   "metadata": {},
   "outputs": [
    {
     "data": {
      "text/plain": [
       "run_experiment_1 (generic function with 1 method)"
      ]
     },
     "metadata": {},
     "output_type": "display_data"
    }
   ],
   "source": [
    "function run_experiment_1(p)\n",
    "    run(`cargo run --release --bin noise $p $test ./testing/noise.bin`)\n",
    "    (check_errors, check_total) = split(readchomp(`cargo run --release --bin check ./testing/noise.bin $test`))\n",
    "\n",
    "    check_errors = parse(Int, check_errors)\n",
    "    check_total = parse(Int, check_total)\n",
    "\n",
    "    return check_errors / check_total\n",
    "end"
   ]
  },
  {
   "cell_type": "code",
   "execution_count": 18,
   "metadata": {},
   "outputs": [
    {
     "name": "stderr",
     "output_type": "stream",
     "text": [
      "    Finished release [optimized] target(s) in 0.02s\n",
      "     Running `/home/dawiderter/Projects/Studies/compression/target/release/noise 0.0 ./../testy/pan_tadeusz.txt ./testing/noise.bin`\n"
     ]
    },
    {
     "name": "stderr",
     "output_type": "stream",
     "text": [
      "    Finished release [optimized] target(s) in 0.02s\n",
      "     Running `/home/dawiderter/Projects/Studies/compression/target/release/check ./testing/noise.bin ./../testy/pan_tadeusz.txt`\n"
     ]
    },
    {
     "name": "stderr",
     "output_type": "stream",
     "text": [
      "    Finished release [optimized] target(s) in 0.03s\n",
      "     Running `/home/dawiderter/Projects/Studies/compression/target/release/coder ./../testy/pan_tadeusz.txt ./testing/coded.bin`\n"
     ]
    },
    {
     "name": "stderr",
     "output_type": "stream",
     "text": [
      "    Finished release [optimized] target(s) in 0.03s\n",
      "     Running `/home/dawiderter/Projects/Studies/compression/target/release/noise 0.0 ./testing/coded.bin ./testing/noise.bin`\n"
     ]
    },
    {
     "name": "stderr",
     "output_type": "stream",
     "text": [
      "    Finished release [optimized] target(s) in 0.02s\n",
      "     Running `/home/dawiderter/Projects/Studies/compression/target/release/decoder ./testing/noise.bin ./testing/decoded.bin`\n"
     ]
    },
    {
     "name": "stderr",
     "output_type": "stream",
     "text": [
      "    Finished release [optimized] target(s) in 0.02s\n",
      "     Running `/home/dawiderter/Projects/Studies/compression/target/release/check ./testing/decoded.bin ./../testy/pan_tadeusz.txt`\n"
     ]
    },
    {
     "name": "stderr",
     "output_type": "stream",
     "text": [
      "    Finished release [optimized] target(s) in 0.02s\n",
      "     Running `/home/dawiderter/Projects/Studies/compression/target/release/noise 0.010101010101010102 ./../testy/pan_tadeusz.txt ./testing/noise.bin`\n"
     ]
    },
    {
     "name": "stderr",
     "output_type": "stream",
     "text": [
      "    Finished release [optimized] target(s) in 0.02s\n",
      "     Running `/home/dawiderter/Projects/Studies/compression/target/release/check ./testing/noise.bin ./../testy/pan_tadeusz.txt`\n"
     ]
    },
    {
     "name": "stderr",
     "output_type": "stream",
     "text": [
      "    Finished release [optimized] target(s) in 0.02s\n",
      "     Running `/home/dawiderter/Projects/Studies/compression/target/release/coder ./../testy/pan_tadeusz.txt ./testing/coded.bin`\n",
      "    Finished release [optimized] target(s) in 0.02s\n",
      "     Running `/home/dawiderter/Projects/Studies/compression/target/release/noise 0.010101010101010102 ./testing/coded.bin ./testing/noise.bin`\n"
     ]
    },
    {
     "name": "stderr",
     "output_type": "stream",
     "text": [
      "    Finished release [optimized] target(s) in 0.02s\n",
      "     Running `/home/dawiderter/Projects/Studies/compression/target/release/decoder ./testing/noise.bin ./testing/decoded.bin`\n"
     ]
    },
    {
     "name": "stderr",
     "output_type": "stream",
     "text": [
      "    Finished release [optimized] target(s) in 0.02s\n",
      "     Running `/home/dawiderter/Projects/Studies/compression/target/release/check ./testing/decoded.bin ./../testy/pan_tadeusz.txt`\n",
      "    Finished release [optimized] target(s) in 0.02s\n",
      "     Running `/home/dawiderter/Projects/Studies/compression/target/release/noise 0.020202020202020204 ./../testy/pan_tadeusz.txt ./testing/noise.bin`\n"
     ]
    },
    {
     "name": "stderr",
     "output_type": "stream",
     "text": [
      "    Finished release [optimized] target(s) in 0.02s\n",
      "     Running `/home/dawiderter/Projects/Studies/compression/target/release/check ./testing/noise.bin ./../testy/pan_tadeusz.txt`\n",
      "    Finished release [optimized] target(s) in 0.02s\n",
      "     Running `/home/dawiderter/Projects/Studies/compression/target/release/coder ./../testy/pan_tadeusz.txt ./testing/coded.bin`\n"
     ]
    },
    {
     "name": "stderr",
     "output_type": "stream",
     "text": [
      "    Finished release [optimized] target(s) in 0.02s\n",
      "     Running `/home/dawiderter/Projects/Studies/compression/target/release/noise 0.020202020202020204 ./testing/coded.bin ./testing/noise.bin`\n"
     ]
    },
    {
     "name": "stderr",
     "output_type": "stream",
     "text": [
      "    Finished release [optimized] target(s) in 0.02s\n",
      "     Running `/home/dawiderter/Projects/Studies/compression/target/release/decoder ./testing/noise.bin ./testing/decoded.bin`\n"
     ]
    },
    {
     "name": "stderr",
     "output_type": "stream",
     "text": [
      "    Finished release [optimized] target(s) in 0.03s\n",
      "     Running `/home/dawiderter/Projects/Studies/compression/target/release/check ./testing/decoded.bin ./../testy/pan_tadeusz.txt`\n"
     ]
    },
    {
     "name": "stderr",
     "output_type": "stream",
     "text": [
      "    Finished release [optimized] target(s) in 0.04s\n",
      "     Running `/home/dawiderter/Projects/Studies/compression/target/release/noise 0.030303030303030304 ./../testy/pan_tadeusz.txt ./testing/noise.bin`\n"
     ]
    },
    {
     "name": "stderr",
     "output_type": "stream",
     "text": [
      "    Finished release [optimized] target(s) in 0.03s\n",
      "     Running `/home/dawiderter/Projects/Studies/compression/target/release/check ./testing/noise.bin ./../testy/pan_tadeusz.txt`\n"
     ]
    },
    {
     "name": "stderr",
     "output_type": "stream",
     "text": [
      "    Finished release [optimized] target(s) in 0.03s\n",
      "     Running `/home/dawiderter/Projects/Studies/compression/target/release/coder ./../testy/pan_tadeusz.txt ./testing/coded.bin`\n"
     ]
    },
    {
     "name": "stderr",
     "output_type": "stream",
     "text": [
      "    Finished release [optimized] target(s) in 0.02s\n",
      "     Running `/home/dawiderter/Projects/Studies/compression/target/release/noise 0.030303030303030304 ./testing/coded.bin ./testing/noise.bin`\n"
     ]
    },
    {
     "name": "stderr",
     "output_type": "stream",
     "text": [
      "    Finished release [optimized] target(s) in 0.02s\n",
      "     Running `/home/dawiderter/Projects/Studies/compression/target/release/decoder ./testing/noise.bin ./testing/decoded.bin`\n"
     ]
    },
    {
     "name": "stderr",
     "output_type": "stream",
     "text": [
      "    Finished release [optimized] target(s) in 0.02s\n",
      "     Running `/home/dawiderter/Projects/Studies/compression/target/release/check ./testing/decoded.bin ./../testy/pan_tadeusz.txt`\n"
     ]
    },
    {
     "name": "stderr",
     "output_type": "stream",
     "text": [
      "    Finished release [optimized] target(s) in 0.02s\n",
      "     Running `/home/dawiderter/Projects/Studies/compression/target/release/noise 0.04040404040404041 ./../testy/pan_tadeusz.txt ./testing/noise.bin`\n"
     ]
    },
    {
     "name": "stderr",
     "output_type": "stream",
     "text": [
      "    Finished release [optimized] target(s) in 0.02s\n",
      "     Running `/home/dawiderter/Projects/Studies/compression/target/release/check ./testing/noise.bin ./../testy/pan_tadeusz.txt`\n"
     ]
    },
    {
     "name": "stderr",
     "output_type": "stream",
     "text": [
      "    Finished release [optimized] target(s) in 0.02s\n",
      "     Running `/home/dawiderter/Projects/Studies/compression/target/release/coder ./../testy/pan_tadeusz.txt ./testing/coded.bin`\n"
     ]
    },
    {
     "name": "stderr",
     "output_type": "stream",
     "text": [
      "    Finished release [optimized] target(s) in 0.02s\n",
      "     Running `/home/dawiderter/Projects/Studies/compression/target/release/noise 0.04040404040404041 ./testing/coded.bin ./testing/noise.bin`\n"
     ]
    },
    {
     "name": "stderr",
     "output_type": "stream",
     "text": [
      "    Finished release [optimized] target(s) in 0.02s\n",
      "     Running `/home/dawiderter/Projects/Studies/compression/target/release/decoder ./testing/noise.bin ./testing/decoded.bin`\n",
      "    Finished release [optimized] target(s) in 0.02s\n",
      "     Running `/home/dawiderter/Projects/Studies/compression/target/release/check ./testing/decoded.bin ./../testy/pan_tadeusz.txt`\n"
     ]
    },
    {
     "name": "stderr",
     "output_type": "stream",
     "text": [
      "    Finished release [optimized] target(s) in 0.02s\n",
      "     Running `/home/dawiderter/Projects/Studies/compression/target/release/noise 0.050505050505050504 ./../testy/pan_tadeusz.txt ./testing/noise.bin`\n"
     ]
    },
    {
     "name": "stderr",
     "output_type": "stream",
     "text": [
      "    Finished release [optimized] target(s) in 0.02s\n",
      "     Running `/home/dawiderter/Projects/Studies/compression/target/release/check ./testing/noise.bin ./../testy/pan_tadeusz.txt`\n"
     ]
    },
    {
     "name": "stderr",
     "output_type": "stream",
     "text": [
      "    Finished release [optimized] target(s) in 0.02s\n",
      "     Running `/home/dawiderter/Projects/Studies/compression/target/release/coder ./../testy/pan_tadeusz.txt ./testing/coded.bin`\n"
     ]
    },
    {
     "name": "stderr",
     "output_type": "stream",
     "text": [
      "    Finished release [optimized] target(s) in 0.02s\n",
      "     Running `/home/dawiderter/Projects/Studies/compression/target/release/noise 0.050505050505050504 ./testing/coded.bin ./testing/noise.bin`\n"
     ]
    },
    {
     "name": "stderr",
     "output_type": "stream",
     "text": [
      "    Finished release [optimized] target(s) in 0.02s\n",
      "     Running `/home/dawiderter/Projects/Studies/compression/target/release/decoder ./testing/noise.bin ./testing/decoded.bin`\n"
     ]
    },
    {
     "name": "stderr",
     "output_type": "stream",
     "text": [
      "    Finished release [optimized] target(s) in 0.02s\n",
      "     Running `/home/dawiderter/Projects/Studies/compression/target/release/check ./testing/decoded.bin ./../testy/pan_tadeusz.txt`\n"
     ]
    },
    {
     "name": "stderr",
     "output_type": "stream",
     "text": [
      "    Finished release [optimized] target(s) in 0.03s\n",
      "     Running `/home/dawiderter/Projects/Studies/compression/target/release/noise 0.06060606060606061 ./../testy/pan_tadeusz.txt ./testing/noise.bin`\n"
     ]
    },
    {
     "name": "stderr",
     "output_type": "stream",
     "text": [
      "    Finished release [optimized] target(s) in 0.03s\n",
      "     Running `/home/dawiderter/Projects/Studies/compression/target/release/check ./testing/noise.bin ./../testy/pan_tadeusz.txt`\n"
     ]
    },
    {
     "name": "stderr",
     "output_type": "stream",
     "text": [
      "    Finished release [optimized] target(s) in 0.03s\n",
      "     Running `/home/dawiderter/Projects/Studies/compression/target/release/coder ./../testy/pan_tadeusz.txt ./testing/coded.bin`\n"
     ]
    },
    {
     "name": "stderr",
     "output_type": "stream",
     "text": [
      "    Finished release [optimized] target(s) in 0.03s\n",
      "     Running `/home/dawiderter/Projects/Studies/compression/target/release/noise 0.06060606060606061 ./testing/coded.bin ./testing/noise.bin`\n"
     ]
    },
    {
     "name": "stderr",
     "output_type": "stream",
     "text": [
      "    Finished release [optimized] target(s) in 0.02s\n",
      "     Running `/home/dawiderter/Projects/Studies/compression/target/release/decoder ./testing/noise.bin ./testing/decoded.bin`\n"
     ]
    },
    {
     "name": "stderr",
     "output_type": "stream",
     "text": [
      "    Finished release [optimized] target(s) in 0.02s\n",
      "     Running `/home/dawiderter/Projects/Studies/compression/target/release/check ./testing/decoded.bin ./../testy/pan_tadeusz.txt`\n",
      "    Finished release [optimized] target(s) in 0.02s\n"
     ]
    },
    {
     "name": "stderr",
     "output_type": "stream",
     "text": [
      "     Running `/home/dawiderter/Projects/Studies/compression/target/release/noise 0.0707070707070707 ./../testy/pan_tadeusz.txt ./testing/noise.bin`\n"
     ]
    },
    {
     "name": "stderr",
     "output_type": "stream",
     "text": [
      "    Finished release [optimized] target(s) in 0.02s\n",
      "     Running `/home/dawiderter/Projects/Studies/compression/target/release/check ./testing/noise.bin ./../testy/pan_tadeusz.txt`\n"
     ]
    },
    {
     "name": "stderr",
     "output_type": "stream",
     "text": [
      "    Finished release [optimized] target(s) in 0.02s\n",
      "     Running `/home/dawiderter/Projects/Studies/compression/target/release/coder ./../testy/pan_tadeusz.txt ./testing/coded.bin`\n"
     ]
    },
    {
     "name": "stderr",
     "output_type": "stream",
     "text": [
      "    Finished release [optimized] target(s) in 0.03s\n",
      "     Running `/home/dawiderter/Projects/Studies/compression/target/release/noise 0.0707070707070707 ./testing/coded.bin ./testing/noise.bin`\n"
     ]
    },
    {
     "name": "stderr",
     "output_type": "stream",
     "text": [
      "    Finished release [optimized] target(s) in 0.02s\n",
      "     Running `/home/dawiderter/Projects/Studies/compression/target/release/decoder ./testing/noise.bin ./testing/decoded.bin`\n"
     ]
    },
    {
     "name": "stderr",
     "output_type": "stream",
     "text": [
      "    Finished release [optimized] target(s) in 0.02s\n",
      "     Running `/home/dawiderter/Projects/Studies/compression/target/release/check ./testing/decoded.bin ./../testy/pan_tadeusz.txt`\n"
     ]
    },
    {
     "name": "stderr",
     "output_type": "stream",
     "text": [
      "    Finished release [optimized] target(s) in 0.02s\n",
      "     Running `/home/dawiderter/Projects/Studies/compression/target/release/noise 0.08080808080808081 ./../testy/pan_tadeusz.txt ./testing/noise.bin`\n"
     ]
    },
    {
     "name": "stderr",
     "output_type": "stream",
     "text": [
      "    Finished release [optimized] target(s) in 0.03s\n",
      "     Running `/home/dawiderter/Projects/Studies/compression/target/release/check ./testing/noise.bin ./../testy/pan_tadeusz.txt`\n"
     ]
    },
    {
     "name": "stderr",
     "output_type": "stream",
     "text": [
      "    Finished release [optimized] target(s) in 0.02s\n",
      "     Running `/home/dawiderter/Projects/Studies/compression/target/release/coder ./../testy/pan_tadeusz.txt ./testing/coded.bin`\n"
     ]
    },
    {
     "name": "stderr",
     "output_type": "stream",
     "text": [
      "    Finished release [optimized] target(s) in 0.02s\n",
      "     Running `/home/dawiderter/Projects/Studies/compression/target/release/noise 0.08080808080808081 ./testing/coded.bin ./testing/noise.bin`\n"
     ]
    },
    {
     "name": "stderr",
     "output_type": "stream",
     "text": [
      "    Finished release [optimized] target(s) in 0.02s\n",
      "     Running `/home/dawiderter/Projects/Studies/compression/target/release/decoder ./testing/noise.bin ./testing/decoded.bin`\n"
     ]
    },
    {
     "name": "stderr",
     "output_type": "stream",
     "text": [
      "    Finished release [optimized] target(s) in 0.03s\n",
      "     Running `/home/dawiderter/Projects/Studies/compression/target/release/check ./testing/decoded.bin ./../testy/pan_tadeusz.txt`\n"
     ]
    },
    {
     "name": "stderr",
     "output_type": "stream",
     "text": [
      "    Finished release [optimized] target(s) in 0.03s\n",
      "     Running `/home/dawiderter/Projects/Studies/compression/target/release/noise 0.09090909090909091 ./../testy/pan_tadeusz.txt ./testing/noise.bin`\n"
     ]
    },
    {
     "name": "stderr",
     "output_type": "stream",
     "text": [
      "    Finished release [optimized] target(s) in 0.02s\n",
      "     Running `/home/dawiderter/Projects/Studies/compression/target/release/check ./testing/noise.bin ./../testy/pan_tadeusz.txt`\n"
     ]
    },
    {
     "name": "stderr",
     "output_type": "stream",
     "text": [
      "    Finished release [optimized] target(s) in 0.03s\n",
      "     Running `/home/dawiderter/Projects/Studies/compression/target/release/coder ./../testy/pan_tadeusz.txt ./testing/coded.bin`\n"
     ]
    },
    {
     "name": "stderr",
     "output_type": "stream",
     "text": [
      "    Finished release [optimized] target(s) in 0.04s\n",
      "     Running `/home/dawiderter/Projects/Studies/compression/target/release/noise 0.09090909090909091 ./testing/coded.bin ./testing/noise.bin`\n"
     ]
    },
    {
     "name": "stderr",
     "output_type": "stream",
     "text": [
      "    Finished release [optimized] target(s) in 0.02s\n",
      "     Running `/home/dawiderter/Projects/Studies/compression/target/release/decoder ./testing/noise.bin ./testing/decoded.bin`\n"
     ]
    },
    {
     "name": "stderr",
     "output_type": "stream",
     "text": [
      "    Finished release [optimized] target(s) in 0.02s\n",
      "     Running `/home/dawiderter/Projects/Studies/compression/target/release/check ./testing/decoded.bin ./../testy/pan_tadeusz.txt`\n",
      "    Finished release [optimized] target(s) in 0.02s\n",
      "     Running `/home/dawiderter/Projects/Studies/compression/target/release/noise 0.10101010101010101 ./../testy/pan_tadeusz.txt ./testing/noise.bin`\n"
     ]
    },
    {
     "name": "stderr",
     "output_type": "stream",
     "text": [
      "    Finished release [optimized] target(s) in 0.02s\n",
      "     Running `/home/dawiderter/Projects/Studies/compression/target/release/check ./testing/noise.bin ./../testy/pan_tadeusz.txt`\n",
      "    Finished release [optimized] target(s) in 0.02s\n",
      "     Running `/home/dawiderter/Projects/Studies/compression/target/release/coder ./../testy/pan_tadeusz.txt ./testing/coded.bin`\n"
     ]
    },
    {
     "name": "stderr",
     "output_type": "stream",
     "text": [
      "    Finished release [optimized] target(s) in 0.02s\n",
      "     Running `/home/dawiderter/Projects/Studies/compression/target/release/noise 0.10101010101010101 ./testing/coded.bin ./testing/noise.bin`\n"
     ]
    },
    {
     "name": "stderr",
     "output_type": "stream",
     "text": [
      "    Finished release [optimized] target(s) in 0.02s\n",
      "     Running `/home/dawiderter/Projects/Studies/compression/target/release/decoder ./testing/noise.bin ./testing/decoded.bin`\n"
     ]
    },
    {
     "name": "stderr",
     "output_type": "stream",
     "text": [
      "    Finished release [optimized] target(s) in 0.03s\n",
      "     Running `/home/dawiderter/Projects/Studies/compression/target/release/check ./testing/decoded.bin ./../testy/pan_tadeusz.txt`\n"
     ]
    },
    {
     "name": "stderr",
     "output_type": "stream",
     "text": [
      "    Finished release [optimized] target(s) in 0.03s\n",
      "     Running `/home/dawiderter/Projects/Studies/compression/target/release/noise 0.1111111111111111 ./../testy/pan_tadeusz.txt ./testing/noise.bin`\n"
     ]
    },
    {
     "name": "stderr",
     "output_type": "stream",
     "text": [
      "    Finished release [optimized] target(s) in 0.02s\n",
      "     Running `/home/dawiderter/Projects/Studies/compression/target/release/check ./testing/noise.bin ./../testy/pan_tadeusz.txt`\n"
     ]
    },
    {
     "name": "stderr",
     "output_type": "stream",
     "text": [
      "    Finished release [optimized] target(s) in 0.03s\n",
      "     Running `/home/dawiderter/Projects/Studies/compression/target/release/coder ./../testy/pan_tadeusz.txt ./testing/coded.bin`\n"
     ]
    },
    {
     "name": "stderr",
     "output_type": "stream",
     "text": [
      "    Finished release [optimized] target(s) in 0.03s\n",
      "     Running `/home/dawiderter/Projects/Studies/compression/target/release/noise 0.1111111111111111 ./testing/coded.bin ./testing/noise.bin`\n"
     ]
    },
    {
     "name": "stderr",
     "output_type": "stream",
     "text": [
      "    Finished release [optimized] target(s) in 0.02s\n",
      "     Running `/home/dawiderter/Projects/Studies/compression/target/release/decoder ./testing/noise.bin ./testing/decoded.bin`\n"
     ]
    },
    {
     "name": "stderr",
     "output_type": "stream",
     "text": [
      "    Finished release [optimized] target(s) in 0.02s\n",
      "     Running `/home/dawiderter/Projects/Studies/compression/target/release/check ./testing/decoded.bin ./../testy/pan_tadeusz.txt`\n"
     ]
    },
    {
     "name": "stderr",
     "output_type": "stream",
     "text": [
      "    Finished release [optimized] target(s) in 0.02s\n",
      "     Running `/home/dawiderter/Projects/Studies/compression/target/release/noise 0.12121212121212122 ./../testy/pan_tadeusz.txt ./testing/noise.bin`\n"
     ]
    },
    {
     "name": "stderr",
     "output_type": "stream",
     "text": [
      "    Finished release [optimized] target(s) in 0.02s\n",
      "     Running `/home/dawiderter/Projects/Studies/compression/target/release/check ./testing/noise.bin ./../testy/pan_tadeusz.txt`\n"
     ]
    },
    {
     "name": "stderr",
     "output_type": "stream",
     "text": [
      "    Finished release [optimized] target(s) in 0.03s\n",
      "     Running `/home/dawiderter/Projects/Studies/compression/target/release/coder ./../testy/pan_tadeusz.txt ./testing/coded.bin`\n"
     ]
    },
    {
     "name": "stderr",
     "output_type": "stream",
     "text": [
      "    Finished release [optimized] target(s) in 0.03s\n",
      "     Running `/home/dawiderter/Projects/Studies/compression/target/release/noise 0.12121212121212122 ./testing/coded.bin ./testing/noise.bin`\n"
     ]
    },
    {
     "name": "stderr",
     "output_type": "stream",
     "text": [
      "    Finished release [optimized] target(s) in 0.02s\n",
      "     Running `/home/dawiderter/Projects/Studies/compression/target/release/decoder ./testing/noise.bin ./testing/decoded.bin`\n"
     ]
    },
    {
     "name": "stderr",
     "output_type": "stream",
     "text": [
      "    Finished release [optimized] target(s) in 0.02s\n",
      "     Running `/home/dawiderter/Projects/Studies/compression/target/release/check ./testing/decoded.bin ./../testy/pan_tadeusz.txt`\n"
     ]
    },
    {
     "name": "stderr",
     "output_type": "stream",
     "text": [
      "    Finished release [optimized] target(s) in 0.02s\n",
      "     Running `/home/dawiderter/Projects/Studies/compression/target/release/noise 0.13131313131313133 ./../testy/pan_tadeusz.txt ./testing/noise.bin`\n"
     ]
    },
    {
     "name": "stderr",
     "output_type": "stream",
     "text": [
      "    Finished release [optimized] target(s) in 0.03s\n",
      "     Running `/home/dawiderter/Projects/Studies/compression/target/release/check ./testing/noise.bin ./../testy/pan_tadeusz.txt`\n"
     ]
    },
    {
     "name": "stderr",
     "output_type": "stream",
     "text": [
      "    Finished release [optimized] target(s) in 0.02s\n",
      "     Running `/home/dawiderter/Projects/Studies/compression/target/release/coder ./../testy/pan_tadeusz.txt ./testing/coded.bin`\n",
      "    Finished release [optimized] target(s) in 0.02s\n",
      "     Running `/home/dawiderter/Projects/Studies/compression/target/release/noise 0.13131313131313133 ./testing/coded.bin ./testing/noise.bin`\n"
     ]
    },
    {
     "name": "stderr",
     "output_type": "stream",
     "text": [
      "    Finished release [optimized] target(s) in 0.02s\n",
      "     Running `/home/dawiderter/Projects/Studies/compression/target/release/decoder ./testing/noise.bin ./testing/decoded.bin`\n"
     ]
    },
    {
     "name": "stderr",
     "output_type": "stream",
     "text": [
      "    Finished release [optimized] target(s) in 0.02s\n",
      "     Running `/home/dawiderter/Projects/Studies/compression/target/release/check ./testing/decoded.bin ./../testy/pan_tadeusz.txt`\n"
     ]
    },
    {
     "name": "stderr",
     "output_type": "stream",
     "text": [
      "    Finished release [optimized] target(s) in 0.02s\n",
      "     Running `/home/dawiderter/Projects/Studies/compression/target/release/noise 0.1414141414141414 ./../testy/pan_tadeusz.txt ./testing/noise.bin`\n"
     ]
    },
    {
     "name": "stderr",
     "output_type": "stream",
     "text": [
      "    Finished release [optimized] target(s) in 0.02s\n",
      "     Running `/home/dawiderter/Projects/Studies/compression/target/release/check ./testing/noise.bin ./../testy/pan_tadeusz.txt`\n"
     ]
    },
    {
     "name": "stderr",
     "output_type": "stream",
     "text": [
      "    Finished release [optimized] target(s) in 0.02s\n",
      "     Running `/home/dawiderter/Projects/Studies/compression/target/release/coder ./../testy/pan_tadeusz.txt ./testing/coded.bin`\n"
     ]
    },
    {
     "name": "stderr",
     "output_type": "stream",
     "text": [
      "    Finished release [optimized] target(s) in 0.02s\n",
      "     Running `/home/dawiderter/Projects/Studies/compression/target/release/noise 0.1414141414141414 ./testing/coded.bin ./testing/noise.bin`\n"
     ]
    },
    {
     "name": "stderr",
     "output_type": "stream",
     "text": [
      "    Finished release [optimized] target(s) in 0.02s\n",
      "     Running `/home/dawiderter/Projects/Studies/compression/target/release/decoder ./testing/noise.bin ./testing/decoded.bin`\n"
     ]
    },
    {
     "name": "stderr",
     "output_type": "stream",
     "text": [
      "    Finished release [optimized] target(s) in 0.02s\n",
      "     Running `/home/dawiderter/Projects/Studies/compression/target/release/check ./testing/decoded.bin ./../testy/pan_tadeusz.txt`\n",
      "    Finished release [optimized] target(s) in 0.02s\n",
      "     Running `/home/dawiderter/Projects/Studies/compression/target/release/noise 0.15151515151515152 ./../testy/pan_tadeusz.txt ./testing/noise.bin`\n"
     ]
    },
    {
     "name": "stderr",
     "output_type": "stream",
     "text": [
      "    Finished release [optimized] target(s) in 0.02s\n",
      "     Running `/home/dawiderter/Projects/Studies/compression/target/release/check ./testing/noise.bin ./../testy/pan_tadeusz.txt`\n"
     ]
    },
    {
     "name": "stderr",
     "output_type": "stream",
     "text": [
      "    Finished release [optimized] target(s) in 0.02s\n",
      "     Running `/home/dawiderter/Projects/Studies/compression/target/release/coder ./../testy/pan_tadeusz.txt ./testing/coded.bin`\n",
      "    Finished release [optimized] target(s) in 0.02s\n",
      "     Running `/home/dawiderter/Projects/Studies/compression/target/release/noise 0.15151515151515152 ./testing/coded.bin ./testing/noise.bin`\n"
     ]
    },
    {
     "name": "stderr",
     "output_type": "stream",
     "text": [
      "    Finished release [optimized] target(s) in 0.02s\n",
      "     Running `/home/dawiderter/Projects/Studies/compression/target/release/decoder ./testing/noise.bin ./testing/decoded.bin`\n"
     ]
    },
    {
     "name": "stderr",
     "output_type": "stream",
     "text": [
      "    Finished release [optimized] target(s) in 0.02s\n",
      "     Running `/home/dawiderter/Projects/Studies/compression/target/release/check ./testing/decoded.bin ./../testy/pan_tadeusz.txt`\n"
     ]
    },
    {
     "name": "stderr",
     "output_type": "stream",
     "text": [
      "    Finished release [optimized] target(s) in 0.03s\n",
      "     Running `/home/dawiderter/Projects/Studies/compression/target/release/noise 0.16161616161616163 ./../testy/pan_tadeusz.txt ./testing/noise.bin`\n"
     ]
    },
    {
     "name": "stderr",
     "output_type": "stream",
     "text": [
      "    Finished release [optimized] target(s) in 0.02s\n",
      "     Running `/home/dawiderter/Projects/Studies/compression/target/release/check ./testing/noise.bin ./../testy/pan_tadeusz.txt`\n"
     ]
    },
    {
     "name": "stderr",
     "output_type": "stream",
     "text": [
      "    Finished release [optimized] target(s) in 0.02s\n",
      "     Running `/home/dawiderter/Projects/Studies/compression/target/release/coder ./../testy/pan_tadeusz.txt ./testing/coded.bin`\n"
     ]
    },
    {
     "name": "stderr",
     "output_type": "stream",
     "text": [
      "    Finished release [optimized] target(s) in 0.03s\n",
      "     Running `/home/dawiderter/Projects/Studies/compression/target/release/noise 0.16161616161616163 ./testing/coded.bin ./testing/noise.bin`\n"
     ]
    },
    {
     "name": "stderr",
     "output_type": "stream",
     "text": [
      "    Finished release [optimized] target(s) in 0.02s\n",
      "     Running `/home/dawiderter/Projects/Studies/compression/target/release/decoder ./testing/noise.bin ./testing/decoded.bin`\n"
     ]
    },
    {
     "name": "stderr",
     "output_type": "stream",
     "text": [
      "    Finished release [optimized] target(s) in 0.02s\n",
      "     Running `/home/dawiderter/Projects/Studies/compression/target/release/check ./testing/decoded.bin ./../testy/pan_tadeusz.txt`\n"
     ]
    },
    {
     "name": "stderr",
     "output_type": "stream",
     "text": [
      "    Finished release [optimized] target(s) in 0.02s\n",
      "     Running `/home/dawiderter/Projects/Studies/compression/target/release/noise 0.1717171717171717 ./../testy/pan_tadeusz.txt ./testing/noise.bin`\n"
     ]
    },
    {
     "name": "stderr",
     "output_type": "stream",
     "text": [
      "    Finished release [optimized] target(s) in 0.02s\n",
      "     Running `/home/dawiderter/Projects/Studies/compression/target/release/check ./testing/noise.bin ./../testy/pan_tadeusz.txt`\n",
      "    Finished release [optimized] target(s) in 0.02s\n",
      "     Running `/home/dawiderter/Projects/Studies/compression/target/release/coder ./../testy/pan_tadeusz.txt ./testing/coded.bin`\n"
     ]
    },
    {
     "name": "stderr",
     "output_type": "stream",
     "text": [
      "    Finished release [optimized] target(s) in 0.02s\n",
      "     Running `/home/dawiderter/Projects/Studies/compression/target/release/noise 0.1717171717171717 ./testing/coded.bin ./testing/noise.bin`\n"
     ]
    },
    {
     "name": "stderr",
     "output_type": "stream",
     "text": [
      "    Finished release [optimized] target(s) in 0.02s\n",
      "     Running `/home/dawiderter/Projects/Studies/compression/target/release/decoder ./testing/noise.bin ./testing/decoded.bin`\n"
     ]
    },
    {
     "name": "stderr",
     "output_type": "stream",
     "text": [
      "    Finished release [optimized] target(s) in 0.02s\n",
      "     Running `/home/dawiderter/Projects/Studies/compression/target/release/check ./testing/decoded.bin ./../testy/pan_tadeusz.txt`\n"
     ]
    },
    {
     "name": "stderr",
     "output_type": "stream",
     "text": [
      "    Finished release [optimized] target(s) in 0.02s\n",
      "     Running `/home/dawiderter/Projects/Studies/compression/target/release/noise 0.18181818181818182 ./../testy/pan_tadeusz.txt ./testing/noise.bin`\n"
     ]
    },
    {
     "name": "stderr",
     "output_type": "stream",
     "text": [
      "    Finished release [optimized] target(s) in 0.02s\n",
      "     Running `/home/dawiderter/Projects/Studies/compression/target/release/check ./testing/noise.bin ./../testy/pan_tadeusz.txt`\n"
     ]
    },
    {
     "name": "stderr",
     "output_type": "stream",
     "text": [
      "    Finished release [optimized] target(s) in 0.02s\n",
      "     Running `/home/dawiderter/Projects/Studies/compression/target/release/coder ./../testy/pan_tadeusz.txt ./testing/coded.bin`\n"
     ]
    },
    {
     "name": "stderr",
     "output_type": "stream",
     "text": [
      "    Finished release [optimized] target(s) in 0.02s\n",
      "     Running `/home/dawiderter/Projects/Studies/compression/target/release/noise 0.18181818181818182 ./testing/coded.bin ./testing/noise.bin`\n"
     ]
    },
    {
     "name": "stderr",
     "output_type": "stream",
     "text": [
      "    Finished release [optimized] target(s) in 0.02s\n",
      "     Running `/home/dawiderter/Projects/Studies/compression/target/release/decoder ./testing/noise.bin ./testing/decoded.bin`\n"
     ]
    },
    {
     "name": "stderr",
     "output_type": "stream",
     "text": [
      "    Finished release [optimized] target(s) in 0.02s\n",
      "     Running `/home/dawiderter/Projects/Studies/compression/target/release/check ./testing/decoded.bin ./../testy/pan_tadeusz.txt`\n",
      "    Finished release [optimized] target(s) in 0.02s\n",
      "     Running `/home/dawiderter/Projects/Studies/compression/target/release/noise 0.1919191919191919 ./../testy/pan_tadeusz.txt ./testing/noise.bin`\n"
     ]
    },
    {
     "name": "stderr",
     "output_type": "stream",
     "text": [
      "    Finished release [optimized] target(s) in 0.02s\n",
      "     Running `/home/dawiderter/Projects/Studies/compression/target/release/check ./testing/noise.bin ./../testy/pan_tadeusz.txt`\n",
      "    Finished release [optimized] target(s) in 0.02s\n",
      "     Running `/home/dawiderter/Projects/Studies/compression/target/release/coder ./../testy/pan_tadeusz.txt ./testing/coded.bin`\n"
     ]
    },
    {
     "name": "stderr",
     "output_type": "stream",
     "text": [
      "    Finished release [optimized] target(s) in 0.02s\n",
      "     Running `/home/dawiderter/Projects/Studies/compression/target/release/noise 0.1919191919191919 ./testing/coded.bin ./testing/noise.bin`\n"
     ]
    },
    {
     "name": "stderr",
     "output_type": "stream",
     "text": [
      "    Finished release [optimized] target(s) in 0.02s\n",
      "     Running `/home/dawiderter/Projects/Studies/compression/target/release/decoder ./testing/noise.bin ./testing/decoded.bin`\n"
     ]
    },
    {
     "name": "stderr",
     "output_type": "stream",
     "text": [
      "    Finished release [optimized] target(s) in 0.02s\n",
      "     Running `/home/dawiderter/Projects/Studies/compression/target/release/check ./testing/decoded.bin ./../testy/pan_tadeusz.txt`\n"
     ]
    },
    {
     "name": "stderr",
     "output_type": "stream",
     "text": [
      "    Finished release [optimized] target(s) in 0.02s\n",
      "     Running `/home/dawiderter/Projects/Studies/compression/target/release/noise 0.20202020202020202 ./../testy/pan_tadeusz.txt ./testing/noise.bin`\n"
     ]
    },
    {
     "name": "stderr",
     "output_type": "stream",
     "text": [
      "    Finished release [optimized] target(s) in 0.02s\n",
      "     Running `/home/dawiderter/Projects/Studies/compression/target/release/check ./testing/noise.bin ./../testy/pan_tadeusz.txt`\n"
     ]
    },
    {
     "name": "stderr",
     "output_type": "stream",
     "text": [
      "    Finished release [optimized] target(s) in 0.02s\n",
      "     Running `/home/dawiderter/Projects/Studies/compression/target/release/coder ./../testy/pan_tadeusz.txt ./testing/coded.bin`\n"
     ]
    },
    {
     "name": "stderr",
     "output_type": "stream",
     "text": [
      "    Finished release [optimized] target(s) in 0.02s\n",
      "     Running `/home/dawiderter/Projects/Studies/compression/target/release/noise 0.20202020202020202 ./testing/coded.bin ./testing/noise.bin`\n"
     ]
    },
    {
     "name": "stderr",
     "output_type": "stream",
     "text": [
      "    Finished release [optimized] target(s) in 0.02s\n",
      "     Running `/home/dawiderter/Projects/Studies/compression/target/release/decoder ./testing/noise.bin ./testing/decoded.bin`\n"
     ]
    },
    {
     "name": "stderr",
     "output_type": "stream",
     "text": [
      "    Finished release [optimized] target(s) in 0.02s\n",
      "     Running `/home/dawiderter/Projects/Studies/compression/target/release/check ./testing/decoded.bin ./../testy/pan_tadeusz.txt`\n"
     ]
    },
    {
     "name": "stderr",
     "output_type": "stream",
     "text": [
      "    Finished release [optimized] target(s) in 0.02s\n",
      "     Running `/home/dawiderter/Projects/Studies/compression/target/release/noise 0.21212121212121213 ./../testy/pan_tadeusz.txt ./testing/noise.bin`\n"
     ]
    },
    {
     "name": "stderr",
     "output_type": "stream",
     "text": [
      "    Finished release [optimized] target(s) in 0.02s\n",
      "     Running `/home/dawiderter/Projects/Studies/compression/target/release/check ./testing/noise.bin ./../testy/pan_tadeusz.txt`\n",
      "    Finished release [optimized] target(s) in 0.02s\n",
      "     Running `/home/dawiderter/Projects/Studies/compression/target/release/coder ./../testy/pan_tadeusz.txt ./testing/coded.bin`\n"
     ]
    },
    {
     "name": "stderr",
     "output_type": "stream",
     "text": [
      "    Finished release [optimized] target(s) in 0.03s\n",
      "     Running `/home/dawiderter/Projects/Studies/compression/target/release/noise 0.21212121212121213 ./testing/coded.bin ./testing/noise.bin`\n"
     ]
    },
    {
     "name": "stderr",
     "output_type": "stream",
     "text": [
      "    Finished release [optimized] target(s) in 0.03s\n",
      "     Running `/home/dawiderter/Projects/Studies/compression/target/release/decoder ./testing/noise.bin ./testing/decoded.bin`\n"
     ]
    },
    {
     "name": "stderr",
     "output_type": "stream",
     "text": [
      "    Finished release [optimized] target(s) in 0.03s\n",
      "     Running `/home/dawiderter/Projects/Studies/compression/target/release/check ./testing/decoded.bin ./../testy/pan_tadeusz.txt`\n"
     ]
    },
    {
     "name": "stderr",
     "output_type": "stream",
     "text": [
      "    Finished release [optimized] target(s) in 0.02s\n",
      "     Running `/home/dawiderter/Projects/Studies/compression/target/release/noise 0.2222222222222222 ./../testy/pan_tadeusz.txt ./testing/noise.bin`\n"
     ]
    },
    {
     "name": "stderr",
     "output_type": "stream",
     "text": [
      "    Finished release [optimized] target(s) in 0.02s\n",
      "     Running `/home/dawiderter/Projects/Studies/compression/target/release/check ./testing/noise.bin ./../testy/pan_tadeusz.txt`\n"
     ]
    },
    {
     "name": "stderr",
     "output_type": "stream",
     "text": [
      "    Finished release [optimized] target(s) in 0.02s\n",
      "     Running `/home/dawiderter/Projects/Studies/compression/target/release/coder ./../testy/pan_tadeusz.txt ./testing/coded.bin`\n"
     ]
    },
    {
     "name": "stderr",
     "output_type": "stream",
     "text": [
      "    Finished release [optimized] target(s) in 0.02s\n",
      "     Running `/home/dawiderter/Projects/Studies/compression/target/release/noise 0.2222222222222222 ./testing/coded.bin ./testing/noise.bin`\n"
     ]
    },
    {
     "name": "stderr",
     "output_type": "stream",
     "text": [
      "    Finished release [optimized] target(s) in 0.03s\n",
      "     Running `/home/dawiderter/Projects/Studies/compression/target/release/decoder ./testing/noise.bin ./testing/decoded.bin`\n"
     ]
    },
    {
     "name": "stderr",
     "output_type": "stream",
     "text": [
      "    Finished release [optimized] target(s) in 0.03s\n",
      "     Running `/home/dawiderter/Projects/Studies/compression/target/release/check ./testing/decoded.bin ./../testy/pan_tadeusz.txt`\n"
     ]
    },
    {
     "name": "stderr",
     "output_type": "stream",
     "text": [
      "    Finished release [optimized] target(s) in 0.03s\n",
      "     Running `/home/dawiderter/Projects/Studies/compression/target/release/noise 0.23232323232323232 ./../testy/pan_tadeusz.txt ./testing/noise.bin`\n"
     ]
    },
    {
     "name": "stderr",
     "output_type": "stream",
     "text": [
      "    Finished release [optimized] target(s) in 0.03s\n",
      "     Running `/home/dawiderter/Projects/Studies/compression/target/release/check ./testing/noise.bin ./../testy/pan_tadeusz.txt`\n"
     ]
    },
    {
     "name": "stderr",
     "output_type": "stream",
     "text": [
      "    Finished release [optimized] target(s) in 0.03s\n",
      "     Running `/home/dawiderter/Projects/Studies/compression/target/release/coder ./../testy/pan_tadeusz.txt ./testing/coded.bin`\n"
     ]
    },
    {
     "name": "stderr",
     "output_type": "stream",
     "text": [
      "    Finished release [optimized] target(s) in 0.03s\n",
      "     Running `/home/dawiderter/Projects/Studies/compression/target/release/noise 0.23232323232323232 ./testing/coded.bin ./testing/noise.bin`\n"
     ]
    },
    {
     "name": "stderr",
     "output_type": "stream",
     "text": [
      "    Finished release [optimized] target(s) in 0.02s\n",
      "     Running `/home/dawiderter/Projects/Studies/compression/target/release/decoder ./testing/noise.bin ./testing/decoded.bin`\n"
     ]
    },
    {
     "name": "stderr",
     "output_type": "stream",
     "text": [
      "    Finished release [optimized] target(s) in 0.02s\n",
      "     Running `/home/dawiderter/Projects/Studies/compression/target/release/check ./testing/decoded.bin ./../testy/pan_tadeusz.txt`\n",
      "    Finished release [optimized] target(s) in 0.02s\n",
      "     Running `/home/dawiderter/Projects/Studies/compression/target/release/noise 0.24242424242424243 ./../testy/pan_tadeusz.txt ./testing/noise.bin`\n"
     ]
    },
    {
     "name": "stderr",
     "output_type": "stream",
     "text": [
      "    Finished release [optimized] target(s) in 0.02s\n",
      "     Running `/home/dawiderter/Projects/Studies/compression/target/release/check ./testing/noise.bin ./../testy/pan_tadeusz.txt`\n"
     ]
    },
    {
     "name": "stderr",
     "output_type": "stream",
     "text": [
      "    Finished release [optimized] target(s) in 0.02s\n",
      "     Running `/home/dawiderter/Projects/Studies/compression/target/release/coder ./../testy/pan_tadeusz.txt ./testing/coded.bin`\n"
     ]
    },
    {
     "name": "stderr",
     "output_type": "stream",
     "text": [
      "    Finished release [optimized] target(s) in 0.02s\n",
      "     Running `/home/dawiderter/Projects/Studies/compression/target/release/noise 0.24242424242424243 ./testing/coded.bin ./testing/noise.bin`\n"
     ]
    },
    {
     "name": "stderr",
     "output_type": "stream",
     "text": [
      "    Finished release [optimized] target(s) in 0.02s\n",
      "     Running `/home/dawiderter/Projects/Studies/compression/target/release/decoder ./testing/noise.bin ./testing/decoded.bin`\n"
     ]
    },
    {
     "name": "stderr",
     "output_type": "stream",
     "text": [
      "    Finished release [optimized] target(s) in 0.03s\n",
      "     Running `/home/dawiderter/Projects/Studies/compression/target/release/check ./testing/decoded.bin ./../testy/pan_tadeusz.txt`\n",
      "    Finished release [optimized] target(s) in 0.02s\n",
      "     Running `/home/dawiderter/Projects/Studies/compression/target/release/noise 0.25252525252525254 ./../testy/pan_tadeusz.txt ./testing/noise.bin`\n"
     ]
    },
    {
     "name": "stderr",
     "output_type": "stream",
     "text": [
      "    Finished release [optimized] target(s) in 0.02s\n",
      "     Running `/home/dawiderter/Projects/Studies/compression/target/release/check ./testing/noise.bin ./../testy/pan_tadeusz.txt`\n",
      "    Finished release [optimized] target(s) in 0.02s\n",
      "     Running `/home/dawiderter/Projects/Studies/compression/target/release/coder ./../testy/pan_tadeusz.txt ./testing/coded.bin`\n"
     ]
    },
    {
     "name": "stderr",
     "output_type": "stream",
     "text": [
      "    Finished release [optimized] target(s) in 0.03s\n",
      "     Running `/home/dawiderter/Projects/Studies/compression/target/release/noise 0.25252525252525254 ./testing/coded.bin ./testing/noise.bin`\n"
     ]
    },
    {
     "name": "stderr",
     "output_type": "stream",
     "text": [
      "    Finished release [optimized] target(s) in 0.03s\n",
      "     Running `/home/dawiderter/Projects/Studies/compression/target/release/decoder ./testing/noise.bin ./testing/decoded.bin`\n"
     ]
    },
    {
     "name": "stderr",
     "output_type": "stream",
     "text": [
      "    Finished release [optimized] target(s) in 0.02s\n",
      "     Running `/home/dawiderter/Projects/Studies/compression/target/release/check ./testing/decoded.bin ./../testy/pan_tadeusz.txt`\n"
     ]
    },
    {
     "name": "stderr",
     "output_type": "stream",
     "text": [
      "    Finished release [optimized] target(s) in 0.02s\n",
      "     Running `/home/dawiderter/Projects/Studies/compression/target/release/noise 0.26262626262626265 ./../testy/pan_tadeusz.txt ./testing/noise.bin`\n"
     ]
    },
    {
     "name": "stderr",
     "output_type": "stream",
     "text": [
      "    Finished release [optimized] target(s) in 0.02s\n",
      "     Running `/home/dawiderter/Projects/Studies/compression/target/release/check ./testing/noise.bin ./../testy/pan_tadeusz.txt`\n",
      "    Finished release [optimized] target(s) in 0.02s\n",
      "     Running `/home/dawiderter/Projects/Studies/compression/target/release/coder ./../testy/pan_tadeusz.txt ./testing/coded.bin`\n"
     ]
    },
    {
     "name": "stderr",
     "output_type": "stream",
     "text": [
      "    Finished release [optimized] target(s) in 0.02s\n",
      "     Running `/home/dawiderter/Projects/Studies/compression/target/release/noise 0.26262626262626265 ./testing/coded.bin ./testing/noise.bin`\n"
     ]
    },
    {
     "name": "stderr",
     "output_type": "stream",
     "text": [
      "    Finished release [optimized] target(s) in 0.02s\n",
      "     Running `/home/dawiderter/Projects/Studies/compression/target/release/decoder ./testing/noise.bin ./testing/decoded.bin`\n"
     ]
    },
    {
     "name": "stderr",
     "output_type": "stream",
     "text": [
      "    Finished release [optimized] target(s) in 0.03s\n",
      "     Running `/home/dawiderter/Projects/Studies/compression/target/release/check ./testing/decoded.bin ./../testy/pan_tadeusz.txt`\n"
     ]
    },
    {
     "name": "stderr",
     "output_type": "stream",
     "text": [
      "    Finished release [optimized] target(s) in 0.03s\n",
      "     Running `/home/dawiderter/Projects/Studies/compression/target/release/noise 0.2727272727272727 ./../testy/pan_tadeusz.txt ./testing/noise.bin`\n"
     ]
    },
    {
     "name": "stderr",
     "output_type": "stream",
     "text": [
      "    Finished release [optimized] target(s) in 0.03s\n",
      "     Running `/home/dawiderter/Projects/Studies/compression/target/release/check ./testing/noise.bin ./../testy/pan_tadeusz.txt`\n"
     ]
    },
    {
     "name": "stderr",
     "output_type": "stream",
     "text": [
      "    Finished release [optimized] target(s) in 0.03s\n",
      "     Running `/home/dawiderter/Projects/Studies/compression/target/release/coder ./../testy/pan_tadeusz.txt ./testing/coded.bin`\n"
     ]
    },
    {
     "name": "stderr",
     "output_type": "stream",
     "text": [
      "    Finished release [optimized] target(s) in 0.02s\n",
      "     Running `/home/dawiderter/Projects/Studies/compression/target/release/noise 0.2727272727272727 ./testing/coded.bin ./testing/noise.bin`\n"
     ]
    },
    {
     "name": "stderr",
     "output_type": "stream",
     "text": [
      "    Finished release [optimized] target(s) in 0.03s\n",
      "     Running `/home/dawiderter/Projects/Studies/compression/target/release/decoder ./testing/noise.bin ./testing/decoded.bin`\n"
     ]
    },
    {
     "name": "stderr",
     "output_type": "stream",
     "text": [
      "    Finished release [optimized] target(s) in 0.03s\n",
      "     Running `/home/dawiderter/Projects/Studies/compression/target/release/check ./testing/decoded.bin ./../testy/pan_tadeusz.txt`\n"
     ]
    },
    {
     "name": "stderr",
     "output_type": "stream",
     "text": [
      "    Finished release [optimized] target(s) in 0.02s\n",
      "     Running `/home/dawiderter/Projects/Studies/compression/target/release/noise 0.2828282828282828 ./../testy/pan_tadeusz.txt ./testing/noise.bin`\n"
     ]
    },
    {
     "name": "stderr",
     "output_type": "stream",
     "text": [
      "    Finished release [optimized] target(s) in 0.02s\n",
      "     Running `/home/dawiderter/Projects/Studies/compression/target/release/check ./testing/noise.bin ./../testy/pan_tadeusz.txt`\n"
     ]
    },
    {
     "name": "stderr",
     "output_type": "stream",
     "text": [
      "    Finished release [optimized] target(s) in 0.02s\n",
      "     Running `/home/dawiderter/Projects/Studies/compression/target/release/coder ./../testy/pan_tadeusz.txt ./testing/coded.bin`\n"
     ]
    },
    {
     "name": "stderr",
     "output_type": "stream",
     "text": [
      "    Finished release [optimized] target(s) in 0.02s\n",
      "     Running `/home/dawiderter/Projects/Studies/compression/target/release/noise 0.2828282828282828 ./testing/coded.bin ./testing/noise.bin`\n"
     ]
    },
    {
     "name": "stderr",
     "output_type": "stream",
     "text": [
      "    Finished release [optimized] target(s) in 0.02s\n",
      "     Running `/home/dawiderter/Projects/Studies/compression/target/release/decoder ./testing/noise.bin ./testing/decoded.bin`\n"
     ]
    },
    {
     "name": "stderr",
     "output_type": "stream",
     "text": [
      "    Finished release [optimized] target(s) in 0.02s\n",
      "     Running `/home/dawiderter/Projects/Studies/compression/target/release/check ./testing/decoded.bin ./../testy/pan_tadeusz.txt`\n"
     ]
    },
    {
     "name": "stderr",
     "output_type": "stream",
     "text": [
      "    Finished release [optimized] target(s) in 0.03s\n",
      "     Running `/home/dawiderter/Projects/Studies/compression/target/release/noise 0.29292929292929293 ./../testy/pan_tadeusz.txt ./testing/noise.bin`\n"
     ]
    },
    {
     "name": "stderr",
     "output_type": "stream",
     "text": [
      "    Finished release [optimized] target(s) in 0.02s\n",
      "     Running `/home/dawiderter/Projects/Studies/compression/target/release/check ./testing/noise.bin ./../testy/pan_tadeusz.txt`\n"
     ]
    },
    {
     "name": "stderr",
     "output_type": "stream",
     "text": [
      "    Finished release [optimized] target(s) in 0.02s\n",
      "     Running `/home/dawiderter/Projects/Studies/compression/target/release/coder ./../testy/pan_tadeusz.txt ./testing/coded.bin`\n"
     ]
    },
    {
     "name": "stderr",
     "output_type": "stream",
     "text": [
      "    Finished release [optimized] target(s) in 0.02s\n",
      "     Running `/home/dawiderter/Projects/Studies/compression/target/release/noise 0.29292929292929293 ./testing/coded.bin ./testing/noise.bin`\n"
     ]
    },
    {
     "name": "stderr",
     "output_type": "stream",
     "text": [
      "    Finished release [optimized] target(s) in 0.03s\n",
      "     Running `/home/dawiderter/Projects/Studies/compression/target/release/decoder ./testing/noise.bin ./testing/decoded.bin`\n"
     ]
    },
    {
     "name": "stderr",
     "output_type": "stream",
     "text": [
      "    Finished release [optimized] target(s) in 0.02s\n",
      "     Running `/home/dawiderter/Projects/Studies/compression/target/release/check ./testing/decoded.bin ./../testy/pan_tadeusz.txt`\n"
     ]
    },
    {
     "name": "stderr",
     "output_type": "stream",
     "text": [
      "    Finished release [optimized] target(s) in 0.03s\n",
      "     Running `/home/dawiderter/Projects/Studies/compression/target/release/noise 0.30303030303030304 ./../testy/pan_tadeusz.txt ./testing/noise.bin`\n"
     ]
    },
    {
     "name": "stderr",
     "output_type": "stream",
     "text": [
      "    Finished release [optimized] target(s) in 0.03s\n",
      "     Running `/home/dawiderter/Projects/Studies/compression/target/release/check ./testing/noise.bin ./../testy/pan_tadeusz.txt`\n"
     ]
    },
    {
     "name": "stderr",
     "output_type": "stream",
     "text": [
      "    Finished release [optimized] target(s) in 0.03s\n",
      "     Running `/home/dawiderter/Projects/Studies/compression/target/release/coder ./../testy/pan_tadeusz.txt ./testing/coded.bin`\n"
     ]
    },
    {
     "name": "stderr",
     "output_type": "stream",
     "text": [
      "    Finished release [optimized] target(s) in 0.02s\n",
      "     Running `/home/dawiderter/Projects/Studies/compression/target/release/noise 0.30303030303030304 ./testing/coded.bin ./testing/noise.bin`\n"
     ]
    },
    {
     "name": "stderr",
     "output_type": "stream",
     "text": [
      "    Finished release [optimized] target(s) in 0.02s\n",
      "     Running `/home/dawiderter/Projects/Studies/compression/target/release/decoder ./testing/noise.bin ./testing/decoded.bin`\n"
     ]
    },
    {
     "name": "stderr",
     "output_type": "stream",
     "text": [
      "    Finished release [optimized] target(s) in 0.02s\n",
      "     Running `/home/dawiderter/Projects/Studies/compression/target/release/check ./testing/decoded.bin ./../testy/pan_tadeusz.txt`\n"
     ]
    },
    {
     "name": "stderr",
     "output_type": "stream",
     "text": [
      "    Finished release [optimized] target(s) in 0.02s\n",
      "     Running `/home/dawiderter/Projects/Studies/compression/target/release/noise 0.31313131313131315 ./../testy/pan_tadeusz.txt ./testing/noise.bin`\n"
     ]
    },
    {
     "name": "stderr",
     "output_type": "stream",
     "text": [
      "    Finished release [optimized] target(s) in 0.02s\n",
      "     Running `/home/dawiderter/Projects/Studies/compression/target/release/check ./testing/noise.bin ./../testy/pan_tadeusz.txt`\n"
     ]
    },
    {
     "name": "stderr",
     "output_type": "stream",
     "text": [
      "    Finished release [optimized] target(s) in 0.02s\n",
      "     Running `/home/dawiderter/Projects/Studies/compression/target/release/coder ./../testy/pan_tadeusz.txt ./testing/coded.bin`\n"
     ]
    },
    {
     "name": "stderr",
     "output_type": "stream",
     "text": [
      "    Finished release [optimized] target(s) in 0.02s\n",
      "     Running `/home/dawiderter/Projects/Studies/compression/target/release/noise 0.31313131313131315 ./testing/coded.bin ./testing/noise.bin`\n"
     ]
    },
    {
     "name": "stderr",
     "output_type": "stream",
     "text": [
      "    Finished release [optimized] target(s) in 0.02s\n",
      "     Running `/home/dawiderter/Projects/Studies/compression/target/release/decoder ./testing/noise.bin ./testing/decoded.bin`\n"
     ]
    },
    {
     "name": "stderr",
     "output_type": "stream",
     "text": [
      "    Finished release [optimized] target(s) in 0.02s\n",
      "     Running `/home/dawiderter/Projects/Studies/compression/target/release/check ./testing/decoded.bin ./../testy/pan_tadeusz.txt`\n"
     ]
    },
    {
     "name": "stderr",
     "output_type": "stream",
     "text": [
      "    Finished release [optimized] target(s) in 0.02s\n",
      "     Running `/home/dawiderter/Projects/Studies/compression/target/release/noise 0.32323232323232326 ./../testy/pan_tadeusz.txt ./testing/noise.bin`\n"
     ]
    },
    {
     "name": "stderr",
     "output_type": "stream",
     "text": [
      "    Finished release [optimized] target(s) in 0.02s\n",
      "     Running `/home/dawiderter/Projects/Studies/compression/target/release/check ./testing/noise.bin ./../testy/pan_tadeusz.txt`\n"
     ]
    },
    {
     "name": "stderr",
     "output_type": "stream",
     "text": [
      "    Finished release [optimized] target(s) in 0.03s\n",
      "     Running `/home/dawiderter/Projects/Studies/compression/target/release/coder ./../testy/pan_tadeusz.txt ./testing/coded.bin`\n"
     ]
    },
    {
     "name": "stderr",
     "output_type": "stream",
     "text": [
      "    Finished release [optimized] target(s) in 0.02s\n",
      "     Running `/home/dawiderter/Projects/Studies/compression/target/release/noise 0.32323232323232326 ./testing/coded.bin ./testing/noise.bin`\n"
     ]
    },
    {
     "name": "stderr",
     "output_type": "stream",
     "text": [
      "    Finished release [optimized] target(s) in 0.03s\n",
      "     Running `/home/dawiderter/Projects/Studies/compression/target/release/decoder ./testing/noise.bin ./testing/decoded.bin`\n"
     ]
    },
    {
     "name": "stderr",
     "output_type": "stream",
     "text": [
      "    Finished release [optimized] target(s) in 0.02s\n",
      "     Running `/home/dawiderter/Projects/Studies/compression/target/release/check ./testing/decoded.bin ./../testy/pan_tadeusz.txt`\n",
      "    Finished release [optimized] target(s) in 0.03s\n",
      "     Running `/home/dawiderter/Projects/Studies/compression/target/release/noise 0.3333333333333333 ./../testy/pan_tadeusz.txt ./testing/noise.bin`\n"
     ]
    },
    {
     "name": "stderr",
     "output_type": "stream",
     "text": [
      "    Finished release [optimized] target(s) in 0.03s\n",
      "     Running `/home/dawiderter/Projects/Studies/compression/target/release/check ./testing/noise.bin ./../testy/pan_tadeusz.txt`\n"
     ]
    },
    {
     "name": "stderr",
     "output_type": "stream",
     "text": [
      "    Finished release [optimized] target(s) in 0.03s\n",
      "     Running `/home/dawiderter/Projects/Studies/compression/target/release/coder ./../testy/pan_tadeusz.txt ./testing/coded.bin`\n"
     ]
    },
    {
     "name": "stderr",
     "output_type": "stream",
     "text": [
      "    Finished release [optimized] target(s) in 0.02s\n",
      "     Running `/home/dawiderter/Projects/Studies/compression/target/release/noise 0.3333333333333333 ./testing/coded.bin ./testing/noise.bin`\n"
     ]
    },
    {
     "name": "stderr",
     "output_type": "stream",
     "text": [
      "    Finished release [optimized] target(s) in 0.02s\n",
      "     Running `/home/dawiderter/Projects/Studies/compression/target/release/decoder ./testing/noise.bin ./testing/decoded.bin`\n"
     ]
    },
    {
     "name": "stderr",
     "output_type": "stream",
     "text": [
      "    Finished release [optimized] target(s) in 0.02s\n",
      "     Running `/home/dawiderter/Projects/Studies/compression/target/release/check ./testing/decoded.bin ./../testy/pan_tadeusz.txt`\n"
     ]
    },
    {
     "name": "stderr",
     "output_type": "stream",
     "text": [
      "    Finished release [optimized] target(s) in 0.02s\n",
      "     Running `/home/dawiderter/Projects/Studies/compression/target/release/noise 0.3434343434343434 ./../testy/pan_tadeusz.txt ./testing/noise.bin`\n"
     ]
    },
    {
     "name": "stderr",
     "output_type": "stream",
     "text": [
      "    Finished release [optimized] target(s) in 0.03s\n",
      "     Running `/home/dawiderter/Projects/Studies/compression/target/release/check ./testing/noise.bin ./../testy/pan_tadeusz.txt`\n"
     ]
    },
    {
     "name": "stderr",
     "output_type": "stream",
     "text": [
      "    Finished release [optimized] target(s) in 0.02s\n",
      "     Running `/home/dawiderter/Projects/Studies/compression/target/release/coder ./../testy/pan_tadeusz.txt ./testing/coded.bin`\n"
     ]
    },
    {
     "name": "stderr",
     "output_type": "stream",
     "text": [
      "    Finished release [optimized] target(s) in 0.03s\n",
      "     Running `/home/dawiderter/Projects/Studies/compression/target/release/noise 0.3434343434343434 ./testing/coded.bin ./testing/noise.bin`\n"
     ]
    },
    {
     "name": "stderr",
     "output_type": "stream",
     "text": [
      "    Finished release [optimized] target(s) in 0.02s\n",
      "     Running `/home/dawiderter/Projects/Studies/compression/target/release/decoder ./testing/noise.bin ./testing/decoded.bin`\n"
     ]
    },
    {
     "name": "stderr",
     "output_type": "stream",
     "text": [
      "    Finished release [optimized] target(s) in 0.03s\n",
      "     Running `/home/dawiderter/Projects/Studies/compression/target/release/check ./testing/decoded.bin ./../testy/pan_tadeusz.txt`\n"
     ]
    },
    {
     "name": "stderr",
     "output_type": "stream",
     "text": [
      "    Finished release [optimized] target(s) in 0.02s\n",
      "     Running `/home/dawiderter/Projects/Studies/compression/target/release/noise 0.35353535353535354 ./../testy/pan_tadeusz.txt ./testing/noise.bin`\n"
     ]
    },
    {
     "name": "stderr",
     "output_type": "stream",
     "text": [
      "    Finished release [optimized] target(s) in 0.02s\n",
      "     Running `/home/dawiderter/Projects/Studies/compression/target/release/check ./testing/noise.bin ./../testy/pan_tadeusz.txt`\n"
     ]
    },
    {
     "name": "stderr",
     "output_type": "stream",
     "text": [
      "    Finished release [optimized] target(s) in 0.03s\n",
      "     Running `/home/dawiderter/Projects/Studies/compression/target/release/coder ./../testy/pan_tadeusz.txt ./testing/coded.bin`\n"
     ]
    },
    {
     "name": "stderr",
     "output_type": "stream",
     "text": [
      "    Finished release [optimized] target(s) in 0.03s\n",
      "     Running `/home/dawiderter/Projects/Studies/compression/target/release/noise 0.35353535353535354 ./testing/coded.bin ./testing/noise.bin`\n"
     ]
    },
    {
     "name": "stderr",
     "output_type": "stream",
     "text": [
      "    Finished release [optimized] target(s) in 0.03s\n",
      "     Running `/home/dawiderter/Projects/Studies/compression/target/release/decoder ./testing/noise.bin ./testing/decoded.bin`\n"
     ]
    },
    {
     "name": "stderr",
     "output_type": "stream",
     "text": [
      "    Finished release [optimized] target(s) in 0.02s\n",
      "     Running `/home/dawiderter/Projects/Studies/compression/target/release/check ./testing/decoded.bin ./../testy/pan_tadeusz.txt`\n"
     ]
    },
    {
     "name": "stderr",
     "output_type": "stream",
     "text": [
      "    Finished release [optimized] target(s) in 0.03s\n",
      "     Running `/home/dawiderter/Projects/Studies/compression/target/release/noise 0.36363636363636365 ./../testy/pan_tadeusz.txt ./testing/noise.bin`\n"
     ]
    },
    {
     "name": "stderr",
     "output_type": "stream",
     "text": [
      "    Finished release [optimized] target(s) in 0.02s\n",
      "     Running `/home/dawiderter/Projects/Studies/compression/target/release/check ./testing/noise.bin ./../testy/pan_tadeusz.txt`\n"
     ]
    },
    {
     "name": "stderr",
     "output_type": "stream",
     "text": [
      "    Finished release [optimized] target(s) in 0.02s\n",
      "     Running `/home/dawiderter/Projects/Studies/compression/target/release/coder ./../testy/pan_tadeusz.txt ./testing/coded.bin`\n"
     ]
    },
    {
     "name": "stderr",
     "output_type": "stream",
     "text": [
      "    Finished release [optimized] target(s) in 0.02s\n",
      "     Running `/home/dawiderter/Projects/Studies/compression/target/release/noise 0.36363636363636365 ./testing/coded.bin ./testing/noise.bin`\n"
     ]
    },
    {
     "name": "stderr",
     "output_type": "stream",
     "text": [
      "    Finished release [optimized] target(s) in 0.03s\n",
      "     Running `/home/dawiderter/Projects/Studies/compression/target/release/decoder ./testing/noise.bin ./testing/decoded.bin`\n"
     ]
    },
    {
     "name": "stderr",
     "output_type": "stream",
     "text": [
      "    Finished release [optimized] target(s) in 0.02s\n",
      "     Running `/home/dawiderter/Projects/Studies/compression/target/release/check ./testing/decoded.bin ./../testy/pan_tadeusz.txt`\n",
      "    Finished release [optimized] target(s) in 0.02s\n",
      "     Running `/home/dawiderter/Projects/Studies/compression/target/release/noise 0.37373737373737376 ./../testy/pan_tadeusz.txt ./testing/noise.bin`\n"
     ]
    },
    {
     "name": "stderr",
     "output_type": "stream",
     "text": [
      "    Finished release [optimized] target(s) in 0.03s\n",
      "     Running `/home/dawiderter/Projects/Studies/compression/target/release/check ./testing/noise.bin ./../testy/pan_tadeusz.txt`\n"
     ]
    },
    {
     "name": "stderr",
     "output_type": "stream",
     "text": [
      "    Finished release [optimized] target(s) in 0.02s\n",
      "     Running `/home/dawiderter/Projects/Studies/compression/target/release/coder ./../testy/pan_tadeusz.txt ./testing/coded.bin`\n"
     ]
    },
    {
     "name": "stderr",
     "output_type": "stream",
     "text": [
      "    Finished release [optimized] target(s) in 0.02s\n",
      "     Running `/home/dawiderter/Projects/Studies/compression/target/release/noise 0.37373737373737376 ./testing/coded.bin ./testing/noise.bin`\n"
     ]
    },
    {
     "name": "stderr",
     "output_type": "stream",
     "text": [
      "    Finished release [optimized] target(s) in 0.02s\n",
      "     Running `/home/dawiderter/Projects/Studies/compression/target/release/decoder ./testing/noise.bin ./testing/decoded.bin`\n"
     ]
    },
    {
     "name": "stderr",
     "output_type": "stream",
     "text": [
      "    Finished release [optimized] target(s) in 0.02s\n",
      "     Running `/home/dawiderter/Projects/Studies/compression/target/release/check ./testing/decoded.bin ./../testy/pan_tadeusz.txt`\n"
     ]
    },
    {
     "name": "stderr",
     "output_type": "stream",
     "text": [
      "    Finished release [optimized] target(s) in 0.03s\n",
      "     Running `/home/dawiderter/Projects/Studies/compression/target/release/noise 0.3838383838383838 ./../testy/pan_tadeusz.txt ./testing/noise.bin`\n"
     ]
    },
    {
     "name": "stderr",
     "output_type": "stream",
     "text": [
      "    Finished release [optimized] target(s) in 0.03s\n",
      "     Running `/home/dawiderter/Projects/Studies/compression/target/release/check ./testing/noise.bin ./../testy/pan_tadeusz.txt`\n"
     ]
    },
    {
     "name": "stderr",
     "output_type": "stream",
     "text": [
      "    Finished release [optimized] target(s) in 0.03s\n",
      "     Running `/home/dawiderter/Projects/Studies/compression/target/release/coder ./../testy/pan_tadeusz.txt ./testing/coded.bin`\n"
     ]
    },
    {
     "name": "stderr",
     "output_type": "stream",
     "text": [
      "    Finished release [optimized] target(s) in 0.02s\n",
      "     Running `/home/dawiderter/Projects/Studies/compression/target/release/noise 0.3838383838383838 ./testing/coded.bin ./testing/noise.bin`\n"
     ]
    },
    {
     "name": "stderr",
     "output_type": "stream",
     "text": [
      "    Finished release [optimized] target(s) in 0.02s\n",
      "     Running `/home/dawiderter/Projects/Studies/compression/target/release/decoder ./testing/noise.bin ./testing/decoded.bin`\n"
     ]
    },
    {
     "name": "stderr",
     "output_type": "stream",
     "text": [
      "    Finished release [optimized] target(s) in 0.02s\n",
      "     Running `/home/dawiderter/Projects/Studies/compression/target/release/check ./testing/decoded.bin ./../testy/pan_tadeusz.txt`\n"
     ]
    },
    {
     "name": "stderr",
     "output_type": "stream",
     "text": [
      "    Finished release [optimized] target(s) in 0.03s\n",
      "     Running `/home/dawiderter/Projects/Studies/compression/target/release/noise 0.3939393939393939 ./../testy/pan_tadeusz.txt ./testing/noise.bin`\n"
     ]
    },
    {
     "name": "stderr",
     "output_type": "stream",
     "text": [
      "    Finished release [optimized] target(s) in 0.02s\n",
      "     Running `/home/dawiderter/Projects/Studies/compression/target/release/check ./testing/noise.bin ./../testy/pan_tadeusz.txt`\n"
     ]
    },
    {
     "name": "stderr",
     "output_type": "stream",
     "text": [
      "    Finished release [optimized] target(s) in 0.03s\n",
      "     Running `/home/dawiderter/Projects/Studies/compression/target/release/coder ./../testy/pan_tadeusz.txt ./testing/coded.bin`\n"
     ]
    },
    {
     "name": "stderr",
     "output_type": "stream",
     "text": [
      "    Finished release [optimized] target(s) in 0.02s\n",
      "     Running `/home/dawiderter/Projects/Studies/compression/target/release/noise 0.3939393939393939 ./testing/coded.bin ./testing/noise.bin`\n"
     ]
    },
    {
     "name": "stderr",
     "output_type": "stream",
     "text": [
      "    Finished release [optimized] target(s) in 0.02s\n",
      "     Running `/home/dawiderter/Projects/Studies/compression/target/release/decoder ./testing/noise.bin ./testing/decoded.bin`\n"
     ]
    },
    {
     "name": "stderr",
     "output_type": "stream",
     "text": [
      "    Finished release [optimized] target(s) in 0.03s\n",
      "     Running `/home/dawiderter/Projects/Studies/compression/target/release/check ./testing/decoded.bin ./../testy/pan_tadeusz.txt`\n"
     ]
    },
    {
     "name": "stderr",
     "output_type": "stream",
     "text": [
      "    Finished release [optimized] target(s) in 0.03s\n",
      "     Running `/home/dawiderter/Projects/Studies/compression/target/release/noise 0.40404040404040403 ./../testy/pan_tadeusz.txt ./testing/noise.bin`\n"
     ]
    },
    {
     "name": "stderr",
     "output_type": "stream",
     "text": [
      "    Finished release [optimized] target(s) in 0.02s\n",
      "     Running `/home/dawiderter/Projects/Studies/compression/target/release/check ./testing/noise.bin ./../testy/pan_tadeusz.txt`\n"
     ]
    },
    {
     "name": "stderr",
     "output_type": "stream",
     "text": [
      "    Finished release [optimized] target(s) in 0.02s\n",
      "     Running `/home/dawiderter/Projects/Studies/compression/target/release/coder ./../testy/pan_tadeusz.txt ./testing/coded.bin`\n"
     ]
    },
    {
     "name": "stderr",
     "output_type": "stream",
     "text": [
      "    Finished release [optimized] target(s) in 0.02s\n",
      "     Running `/home/dawiderter/Projects/Studies/compression/target/release/noise 0.40404040404040403 ./testing/coded.bin ./testing/noise.bin`\n"
     ]
    },
    {
     "name": "stderr",
     "output_type": "stream",
     "text": [
      "    Finished release [optimized] target(s) in 0.02s\n",
      "     Running `/home/dawiderter/Projects/Studies/compression/target/release/decoder ./testing/noise.bin ./testing/decoded.bin`\n"
     ]
    },
    {
     "name": "stderr",
     "output_type": "stream",
     "text": [
      "    Finished release [optimized] target(s) in 0.02s\n",
      "     Running `/home/dawiderter/Projects/Studies/compression/target/release/check ./testing/decoded.bin ./../testy/pan_tadeusz.txt`\n",
      "    Finished release [optimized] target(s) in 0.02s\n",
      "     Running `/home/dawiderter/Projects/Studies/compression/target/release/noise 0.41414141414141414 ./../testy/pan_tadeusz.txt ./testing/noise.bin`\n"
     ]
    },
    {
     "name": "stderr",
     "output_type": "stream",
     "text": [
      "    Finished release [optimized] target(s) in 0.02s\n",
      "     Running `/home/dawiderter/Projects/Studies/compression/target/release/check ./testing/noise.bin ./../testy/pan_tadeusz.txt`\n"
     ]
    },
    {
     "name": "stderr",
     "output_type": "stream",
     "text": [
      "    Finished release [optimized] target(s) in 0.03s\n",
      "     Running `/home/dawiderter/Projects/Studies/compression/target/release/coder ./../testy/pan_tadeusz.txt ./testing/coded.bin`\n"
     ]
    },
    {
     "name": "stderr",
     "output_type": "stream",
     "text": [
      "    Finished release [optimized] target(s) in 0.03s\n",
      "     Running `/home/dawiderter/Projects/Studies/compression/target/release/noise 0.41414141414141414 ./testing/coded.bin ./testing/noise.bin`\n"
     ]
    },
    {
     "name": "stderr",
     "output_type": "stream",
     "text": [
      "    Finished release [optimized] target(s) in 0.02s\n",
      "     Running `/home/dawiderter/Projects/Studies/compression/target/release/decoder ./testing/noise.bin ./testing/decoded.bin`\n"
     ]
    },
    {
     "name": "stderr",
     "output_type": "stream",
     "text": [
      "    Finished release [optimized] target(s) in 0.03s\n",
      "     Running `/home/dawiderter/Projects/Studies/compression/target/release/check ./testing/decoded.bin ./../testy/pan_tadeusz.txt`\n"
     ]
    },
    {
     "name": "stderr",
     "output_type": "stream",
     "text": [
      "    Finished release [optimized] target(s) in 0.02s\n",
      "     Running `/home/dawiderter/Projects/Studies/compression/target/release/noise 0.42424242424242425 ./../testy/pan_tadeusz.txt ./testing/noise.bin`\n"
     ]
    },
    {
     "name": "stderr",
     "output_type": "stream",
     "text": [
      "    Finished release [optimized] target(s) in 0.02s\n",
      "     Running `/home/dawiderter/Projects/Studies/compression/target/release/check ./testing/noise.bin ./../testy/pan_tadeusz.txt`\n"
     ]
    },
    {
     "name": "stderr",
     "output_type": "stream",
     "text": [
      "    Finished release [optimized] target(s) in 0.02s\n",
      "     Running `/home/dawiderter/Projects/Studies/compression/target/release/coder ./../testy/pan_tadeusz.txt ./testing/coded.bin`\n"
     ]
    },
    {
     "name": "stderr",
     "output_type": "stream",
     "text": [
      "    Finished release [optimized] target(s) in 0.02s\n",
      "     Running `/home/dawiderter/Projects/Studies/compression/target/release/noise 0.42424242424242425 ./testing/coded.bin ./testing/noise.bin`\n"
     ]
    },
    {
     "name": "stderr",
     "output_type": "stream",
     "text": [
      "    Finished release [optimized] target(s) in 0.02s\n",
      "     Running `/home/dawiderter/Projects/Studies/compression/target/release/decoder ./testing/noise.bin ./testing/decoded.bin`\n"
     ]
    },
    {
     "name": "stderr",
     "output_type": "stream",
     "text": [
      "    Finished release [optimized] target(s) in 0.03s\n",
      "     Running `/home/dawiderter/Projects/Studies/compression/target/release/check ./testing/decoded.bin ./../testy/pan_tadeusz.txt`\n"
     ]
    },
    {
     "name": "stderr",
     "output_type": "stream",
     "text": [
      "    Finished release [optimized] target(s) in 0.03s\n",
      "     Running `/home/dawiderter/Projects/Studies/compression/target/release/noise 0.43434343434343436 ./../testy/pan_tadeusz.txt ./testing/noise.bin`\n"
     ]
    },
    {
     "name": "stderr",
     "output_type": "stream",
     "text": [
      "    Finished release [optimized] target(s) in 0.04s\n",
      "     Running `/home/dawiderter/Projects/Studies/compression/target/release/check ./testing/noise.bin ./../testy/pan_tadeusz.txt`\n"
     ]
    },
    {
     "name": "stderr",
     "output_type": "stream",
     "text": [
      "    Finished release [optimized] target(s) in 0.02s\n",
      "     Running `/home/dawiderter/Projects/Studies/compression/target/release/coder ./../testy/pan_tadeusz.txt ./testing/coded.bin`\n"
     ]
    },
    {
     "name": "stderr",
     "output_type": "stream",
     "text": [
      "    Finished release [optimized] target(s) in 0.02s\n",
      "     Running `/home/dawiderter/Projects/Studies/compression/target/release/noise 0.43434343434343436 ./testing/coded.bin ./testing/noise.bin`\n"
     ]
    },
    {
     "name": "stderr",
     "output_type": "stream",
     "text": [
      "    Finished release [optimized] target(s) in 0.02s\n",
      "     Running `/home/dawiderter/Projects/Studies/compression/target/release/decoder ./testing/noise.bin ./testing/decoded.bin`\n"
     ]
    },
    {
     "name": "stderr",
     "output_type": "stream",
     "text": [
      "    Finished release [optimized] target(s) in 0.02s\n",
      "     Running `/home/dawiderter/Projects/Studies/compression/target/release/check ./testing/decoded.bin ./../testy/pan_tadeusz.txt`\n"
     ]
    },
    {
     "name": "stderr",
     "output_type": "stream",
     "text": [
      "    Finished release [optimized] target(s) in 0.03s\n",
      "     Running `/home/dawiderter/Projects/Studies/compression/target/release/noise 0.4444444444444444 ./../testy/pan_tadeusz.txt ./testing/noise.bin`\n"
     ]
    },
    {
     "name": "stderr",
     "output_type": "stream",
     "text": [
      "    Finished release [optimized] target(s) in 0.02s\n",
      "     Running `/home/dawiderter/Projects/Studies/compression/target/release/check ./testing/noise.bin ./../testy/pan_tadeusz.txt`\n"
     ]
    },
    {
     "name": "stderr",
     "output_type": "stream",
     "text": [
      "    Finished release [optimized] target(s) in 0.02s\n",
      "     Running `/home/dawiderter/Projects/Studies/compression/target/release/coder ./../testy/pan_tadeusz.txt ./testing/coded.bin`\n"
     ]
    },
    {
     "name": "stderr",
     "output_type": "stream",
     "text": [
      "    Finished release [optimized] target(s) in 0.02s\n",
      "     Running `/home/dawiderter/Projects/Studies/compression/target/release/noise 0.4444444444444444 ./testing/coded.bin ./testing/noise.bin`\n"
     ]
    },
    {
     "name": "stderr",
     "output_type": "stream",
     "text": [
      "    Finished release [optimized] target(s) in 0.02s\n",
      "     Running `/home/dawiderter/Projects/Studies/compression/target/release/decoder ./testing/noise.bin ./testing/decoded.bin`\n"
     ]
    },
    {
     "name": "stderr",
     "output_type": "stream",
     "text": [
      "    Finished release [optimized] target(s) in 0.02s\n",
      "     Running `/home/dawiderter/Projects/Studies/compression/target/release/check ./testing/decoded.bin ./../testy/pan_tadeusz.txt`\n"
     ]
    },
    {
     "name": "stderr",
     "output_type": "stream",
     "text": [
      "    Finished release [optimized] target(s) in 0.02s\n",
      "     Running `/home/dawiderter/Projects/Studies/compression/target/release/noise 0.45454545454545453 ./../testy/pan_tadeusz.txt ./testing/noise.bin`\n"
     ]
    },
    {
     "name": "stderr",
     "output_type": "stream",
     "text": [
      "    Finished release [optimized] target(s) in 0.02s\n"
     ]
    },
    {
     "name": "stderr",
     "output_type": "stream",
     "text": [
      "     Running `/home/dawiderter/Projects/Studies/compression/target/release/check ./testing/noise.bin ./../testy/pan_tadeusz.txt`\n",
      "    Finished release [optimized] target(s) in 0.02s\n",
      "     Running `/home/dawiderter/Projects/Studies/compression/target/release/coder ./../testy/pan_tadeusz.txt ./testing/coded.bin`\n"
     ]
    },
    {
     "name": "stderr",
     "output_type": "stream",
     "text": [
      "    Finished release [optimized] target(s) in 0.04s\n",
      "     Running `/home/dawiderter/Projects/Studies/compression/target/release/noise 0.45454545454545453 ./testing/coded.bin ./testing/noise.bin`\n"
     ]
    },
    {
     "name": "stderr",
     "output_type": "stream",
     "text": [
      "    Finished release [optimized] target(s) in 0.02s\n",
      "     Running `/home/dawiderter/Projects/Studies/compression/target/release/decoder ./testing/noise.bin ./testing/decoded.bin`\n"
     ]
    },
    {
     "name": "stderr",
     "output_type": "stream",
     "text": [
      "    Finished release [optimized] target(s) in 0.02s\n",
      "     Running `/home/dawiderter/Projects/Studies/compression/target/release/check ./testing/decoded.bin ./../testy/pan_tadeusz.txt`\n"
     ]
    },
    {
     "name": "stderr",
     "output_type": "stream",
     "text": [
      "    Finished release [optimized] target(s) in 0.02s\n",
      "     Running `/home/dawiderter/Projects/Studies/compression/target/release/noise 0.46464646464646464 ./../testy/pan_tadeusz.txt ./testing/noise.bin`\n"
     ]
    },
    {
     "name": "stderr",
     "output_type": "stream",
     "text": [
      "    Finished release [optimized] target(s) in 0.03s\n",
      "     Running `/home/dawiderter/Projects/Studies/compression/target/release/check ./testing/noise.bin ./../testy/pan_tadeusz.txt`\n"
     ]
    },
    {
     "name": "stderr",
     "output_type": "stream",
     "text": [
      "    Finished release [optimized] target(s) in 0.03s\n",
      "     Running `/home/dawiderter/Projects/Studies/compression/target/release/coder ./../testy/pan_tadeusz.txt ./testing/coded.bin`\n"
     ]
    },
    {
     "name": "stderr",
     "output_type": "stream",
     "text": [
      "    Finished release [optimized] target(s) in 0.02s\n",
      "     Running `/home/dawiderter/Projects/Studies/compression/target/release/noise 0.46464646464646464 ./testing/coded.bin ./testing/noise.bin`\n"
     ]
    },
    {
     "name": "stderr",
     "output_type": "stream",
     "text": [
      "    Finished release [optimized] target(s) in 0.02s\n",
      "     Running `/home/dawiderter/Projects/Studies/compression/target/release/decoder ./testing/noise.bin ./testing/decoded.bin`\n"
     ]
    },
    {
     "name": "stderr",
     "output_type": "stream",
     "text": [
      "    Finished release [optimized] target(s) in 0.03s\n",
      "     Running `/home/dawiderter/Projects/Studies/compression/target/release/check ./testing/decoded.bin ./../testy/pan_tadeusz.txt`\n"
     ]
    },
    {
     "name": "stderr",
     "output_type": "stream",
     "text": [
      "    Finished release [optimized] target(s) in 0.02s\n",
      "     Running `/home/dawiderter/Projects/Studies/compression/target/release/noise 0.47474747474747475 ./../testy/pan_tadeusz.txt ./testing/noise.bin`\n"
     ]
    },
    {
     "name": "stderr",
     "output_type": "stream",
     "text": [
      "    Finished release [optimized] target(s) in 0.02s\n",
      "     Running `/home/dawiderter/Projects/Studies/compression/target/release/check ./testing/noise.bin ./../testy/pan_tadeusz.txt`\n"
     ]
    },
    {
     "name": "stderr",
     "output_type": "stream",
     "text": [
      "    Finished release [optimized] target(s) in 0.02s\n",
      "     Running `/home/dawiderter/Projects/Studies/compression/target/release/coder ./../testy/pan_tadeusz.txt ./testing/coded.bin`\n",
      "    Finished release [optimized] target(s) in 0.02s\n",
      "     Running `/home/dawiderter/Projects/Studies/compression/target/release/noise 0.47474747474747475 ./testing/coded.bin ./testing/noise.bin`\n"
     ]
    },
    {
     "name": "stderr",
     "output_type": "stream",
     "text": [
      "    Finished release [optimized] target(s) in 0.02s\n",
      "     Running `/home/dawiderter/Projects/Studies/compression/target/release/decoder ./testing/noise.bin ./testing/decoded.bin`\n"
     ]
    },
    {
     "name": "stderr",
     "output_type": "stream",
     "text": [
      "    Finished release [optimized] target(s) in 0.02s\n",
      "     Running `/home/dawiderter/Projects/Studies/compression/target/release/check ./testing/decoded.bin ./../testy/pan_tadeusz.txt`\n"
     ]
    },
    {
     "name": "stderr",
     "output_type": "stream",
     "text": [
      "    Finished release [optimized] target(s) in 0.03s\n",
      "     Running `/home/dawiderter/Projects/Studies/compression/target/release/noise 0.48484848484848486 ./../testy/pan_tadeusz.txt ./testing/noise.bin`\n"
     ]
    },
    {
     "name": "stderr",
     "output_type": "stream",
     "text": [
      "    Finished release [optimized] target(s) in 0.02s\n",
      "     Running `/home/dawiderter/Projects/Studies/compression/target/release/check ./testing/noise.bin ./../testy/pan_tadeusz.txt`\n"
     ]
    },
    {
     "name": "stderr",
     "output_type": "stream",
     "text": [
      "    Finished release [optimized] target(s) in 0.02s\n",
      "     Running `/home/dawiderter/Projects/Studies/compression/target/release/coder ./../testy/pan_tadeusz.txt ./testing/coded.bin`\n"
     ]
    },
    {
     "name": "stderr",
     "output_type": "stream",
     "text": [
      "    Finished release [optimized] target(s) in 0.02s\n",
      "     Running `/home/dawiderter/Projects/Studies/compression/target/release/noise 0.48484848484848486 ./testing/coded.bin ./testing/noise.bin`\n"
     ]
    },
    {
     "name": "stderr",
     "output_type": "stream",
     "text": [
      "    Finished release [optimized] target(s) in 0.03s\n",
      "     Running `/home/dawiderter/Projects/Studies/compression/target/release/decoder ./testing/noise.bin ./testing/decoded.bin`\n"
     ]
    },
    {
     "name": "stderr",
     "output_type": "stream",
     "text": [
      "    Finished release [optimized] target(s) in 0.03s\n",
      "     Running `/home/dawiderter/Projects/Studies/compression/target/release/check ./testing/decoded.bin ./../testy/pan_tadeusz.txt`\n",
      "    Finished release [optimized] target(s) in 0.03s\n",
      "     Running `/home/dawiderter/Projects/Studies/compression/target/release/noise 0.494949494949495 ./../testy/pan_tadeusz.txt ./testing/noise.bin`\n"
     ]
    },
    {
     "name": "stderr",
     "output_type": "stream",
     "text": [
      "    Finished release [optimized] target(s) in 0.02s\n",
      "     Running `/home/dawiderter/Projects/Studies/compression/target/release/check ./testing/noise.bin ./../testy/pan_tadeusz.txt`\n"
     ]
    },
    {
     "name": "stderr",
     "output_type": "stream",
     "text": [
      "    Finished release [optimized] target(s) in 0.03s\n",
      "     Running `/home/dawiderter/Projects/Studies/compression/target/release/coder ./../testy/pan_tadeusz.txt ./testing/coded.bin`\n"
     ]
    },
    {
     "name": "stderr",
     "output_type": "stream",
     "text": [
      "    Finished release [optimized] target(s) in 0.03s\n",
      "     Running `/home/dawiderter/Projects/Studies/compression/target/release/noise 0.494949494949495 ./testing/coded.bin ./testing/noise.bin`\n"
     ]
    },
    {
     "name": "stderr",
     "output_type": "stream",
     "text": [
      "    Finished release [optimized] target(s) in 0.02s\n",
      "     Running `/home/dawiderter/Projects/Studies/compression/target/release/decoder ./testing/noise.bin ./testing/decoded.bin`\n"
     ]
    },
    {
     "name": "stderr",
     "output_type": "stream",
     "text": [
      "    Finished release [optimized] target(s) in 0.02s\n",
      "     Running `/home/dawiderter/Projects/Studies/compression/target/release/check ./testing/decoded.bin ./../testy/pan_tadeusz.txt`\n"
     ]
    },
    {
     "name": "stderr",
     "output_type": "stream",
     "text": [
      "    Finished release [optimized] target(s) in 0.03s\n",
      "     Running `/home/dawiderter/Projects/Studies/compression/target/release/noise 0.5050505050505051 ./../testy/pan_tadeusz.txt ./testing/noise.bin`\n"
     ]
    },
    {
     "name": "stderr",
     "output_type": "stream",
     "text": [
      "    Finished release [optimized] target(s) in 0.02s\n",
      "     Running `/home/dawiderter/Projects/Studies/compression/target/release/check ./testing/noise.bin ./../testy/pan_tadeusz.txt`\n"
     ]
    },
    {
     "name": "stderr",
     "output_type": "stream",
     "text": [
      "    Finished release [optimized] target(s) in 0.03s\n",
      "     Running `/home/dawiderter/Projects/Studies/compression/target/release/coder ./../testy/pan_tadeusz.txt ./testing/coded.bin`\n"
     ]
    },
    {
     "name": "stderr",
     "output_type": "stream",
     "text": [
      "    Finished release [optimized] target(s) in 0.02s\n",
      "     Running `/home/dawiderter/Projects/Studies/compression/target/release/noise 0.5050505050505051 ./testing/coded.bin ./testing/noise.bin`\n"
     ]
    },
    {
     "name": "stderr",
     "output_type": "stream",
     "text": [
      "    Finished release [optimized] target(s) in 0.02s\n",
      "     Running `/home/dawiderter/Projects/Studies/compression/target/release/decoder ./testing/noise.bin ./testing/decoded.bin`\n"
     ]
    },
    {
     "name": "stderr",
     "output_type": "stream",
     "text": [
      "    Finished release [optimized] target(s) in 0.02s\n",
      "     Running `/home/dawiderter/Projects/Studies/compression/target/release/check ./testing/decoded.bin ./../testy/pan_tadeusz.txt`\n"
     ]
    },
    {
     "name": "stderr",
     "output_type": "stream",
     "text": [
      "    Finished release [optimized] target(s) in 0.02s\n",
      "     Running `/home/dawiderter/Projects/Studies/compression/target/release/noise 0.5151515151515151 ./../testy/pan_tadeusz.txt ./testing/noise.bin`\n"
     ]
    },
    {
     "name": "stderr",
     "output_type": "stream",
     "text": [
      "    Finished release [optimized] target(s) in 0.02s\n",
      "     Running `/home/dawiderter/Projects/Studies/compression/target/release/check ./testing/noise.bin ./../testy/pan_tadeusz.txt`\n",
      "    Finished release [optimized] target(s) in 0.02s\n",
      "     Running `/home/dawiderter/Projects/Studies/compression/target/release/coder ./../testy/pan_tadeusz.txt ./testing/coded.bin`\n"
     ]
    },
    {
     "name": "stderr",
     "output_type": "stream",
     "text": [
      "    Finished release [optimized] target(s) in 0.02s\n",
      "     Running `/home/dawiderter/Projects/Studies/compression/target/release/noise 0.5151515151515151 ./testing/coded.bin ./testing/noise.bin`\n"
     ]
    },
    {
     "name": "stderr",
     "output_type": "stream",
     "text": [
      "    Finished release [optimized] target(s) in 0.02s\n",
      "     Running `/home/dawiderter/Projects/Studies/compression/target/release/decoder ./testing/noise.bin ./testing/decoded.bin`\n"
     ]
    },
    {
     "name": "stderr",
     "output_type": "stream",
     "text": [
      "    Finished release [optimized] target(s) in 0.03s\n",
      "     Running `/home/dawiderter/Projects/Studies/compression/target/release/check ./testing/decoded.bin ./../testy/pan_tadeusz.txt`\n"
     ]
    },
    {
     "name": "stderr",
     "output_type": "stream",
     "text": [
      "    Finished release [optimized] target(s) in 0.02s\n",
      "     Running `/home/dawiderter/Projects/Studies/compression/target/release/noise 0.5252525252525253 ./../testy/pan_tadeusz.txt ./testing/noise.bin`\n"
     ]
    },
    {
     "name": "stderr",
     "output_type": "stream",
     "text": [
      "    Finished release [optimized] target(s) in 0.03s\n",
      "     Running `/home/dawiderter/Projects/Studies/compression/target/release/check ./testing/noise.bin ./../testy/pan_tadeusz.txt`\n"
     ]
    },
    {
     "name": "stderr",
     "output_type": "stream",
     "text": [
      "    Finished release [optimized] target(s) in 0.03s\n",
      "     Running `/home/dawiderter/Projects/Studies/compression/target/release/coder ./../testy/pan_tadeusz.txt ./testing/coded.bin`\n"
     ]
    },
    {
     "name": "stderr",
     "output_type": "stream",
     "text": [
      "    Finished release [optimized] target(s) in 0.03s\n",
      "     Running `/home/dawiderter/Projects/Studies/compression/target/release/noise 0.5252525252525253 ./testing/coded.bin ./testing/noise.bin`\n"
     ]
    },
    {
     "name": "stderr",
     "output_type": "stream",
     "text": [
      "    Finished release [optimized] target(s) in 0.02s\n",
      "     Running `/home/dawiderter/Projects/Studies/compression/target/release/decoder ./testing/noise.bin ./testing/decoded.bin`\n"
     ]
    },
    {
     "name": "stderr",
     "output_type": "stream",
     "text": [
      "    Finished release [optimized] target(s) in 0.02s\n",
      "     Running `/home/dawiderter/Projects/Studies/compression/target/release/check ./testing/decoded.bin ./../testy/pan_tadeusz.txt`\n"
     ]
    },
    {
     "name": "stderr",
     "output_type": "stream",
     "text": [
      "    Finished release [optimized] target(s) in 0.02s\n",
      "     Running `/home/dawiderter/Projects/Studies/compression/target/release/noise 0.5353535353535354 ./../testy/pan_tadeusz.txt ./testing/noise.bin`\n"
     ]
    },
    {
     "name": "stderr",
     "output_type": "stream",
     "text": [
      "    Finished release [optimized] target(s) in 0.03s\n",
      "     Running `/home/dawiderter/Projects/Studies/compression/target/release/check ./testing/noise.bin ./../testy/pan_tadeusz.txt`\n"
     ]
    },
    {
     "name": "stderr",
     "output_type": "stream",
     "text": [
      "    Finished release [optimized] target(s) in 0.02s\n",
      "     Running `/home/dawiderter/Projects/Studies/compression/target/release/coder ./../testy/pan_tadeusz.txt ./testing/coded.bin`\n"
     ]
    },
    {
     "name": "stderr",
     "output_type": "stream",
     "text": [
      "    Finished release [optimized] target(s) in 0.02s\n",
      "     Running `/home/dawiderter/Projects/Studies/compression/target/release/noise 0.5353535353535354 ./testing/coded.bin ./testing/noise.bin`\n"
     ]
    },
    {
     "name": "stderr",
     "output_type": "stream",
     "text": [
      "    Finished release [optimized] target(s) in 0.03s\n",
      "     Running `/home/dawiderter/Projects/Studies/compression/target/release/decoder ./testing/noise.bin ./testing/decoded.bin`\n"
     ]
    },
    {
     "name": "stderr",
     "output_type": "stream",
     "text": [
      "    Finished release [optimized] target(s) in 0.03s\n",
      "     Running `/home/dawiderter/Projects/Studies/compression/target/release/check ./testing/decoded.bin ./../testy/pan_tadeusz.txt`\n"
     ]
    },
    {
     "name": "stderr",
     "output_type": "stream",
     "text": [
      "    Finished release [optimized] target(s) in 0.03s\n",
      "     Running `/home/dawiderter/Projects/Studies/compression/target/release/noise 0.5454545454545454 ./../testy/pan_tadeusz.txt ./testing/noise.bin`\n"
     ]
    },
    {
     "name": "stderr",
     "output_type": "stream",
     "text": [
      "    Finished release [optimized] target(s) in 0.03s\n",
      "     Running `/home/dawiderter/Projects/Studies/compression/target/release/check ./testing/noise.bin ./../testy/pan_tadeusz.txt`\n"
     ]
    },
    {
     "name": "stderr",
     "output_type": "stream",
     "text": [
      "    Finished release [optimized] target(s) in 0.03s\n",
      "     Running `/home/dawiderter/Projects/Studies/compression/target/release/coder ./../testy/pan_tadeusz.txt ./testing/coded.bin`\n"
     ]
    },
    {
     "name": "stderr",
     "output_type": "stream",
     "text": [
      "    Finished release [optimized] target(s) in 0.02s\n",
      "     Running `/home/dawiderter/Projects/Studies/compression/target/release/noise 0.5454545454545454 ./testing/coded.bin ./testing/noise.bin`\n"
     ]
    },
    {
     "name": "stderr",
     "output_type": "stream",
     "text": [
      "    Finished release [optimized] target(s) in 0.03s\n",
      "     Running `/home/dawiderter/Projects/Studies/compression/target/release/decoder ./testing/noise.bin ./testing/decoded.bin`\n"
     ]
    },
    {
     "name": "stderr",
     "output_type": "stream",
     "text": [
      "    Finished release [optimized] target(s) in 0.03s\n",
      "     Running `/home/dawiderter/Projects/Studies/compression/target/release/check ./testing/decoded.bin ./../testy/pan_tadeusz.txt`\n"
     ]
    },
    {
     "name": "stderr",
     "output_type": "stream",
     "text": [
      "    Finished release [optimized] target(s) in 0.03s\n",
      "     Running `/home/dawiderter/Projects/Studies/compression/target/release/noise 0.5555555555555556 ./../testy/pan_tadeusz.txt ./testing/noise.bin`\n"
     ]
    },
    {
     "name": "stderr",
     "output_type": "stream",
     "text": [
      "    Finished release [optimized] target(s) in 0.02s\n",
      "     Running `/home/dawiderter/Projects/Studies/compression/target/release/check ./testing/noise.bin ./../testy/pan_tadeusz.txt`\n"
     ]
    },
    {
     "name": "stderr",
     "output_type": "stream",
     "text": [
      "    Finished release [optimized] target(s) in 0.02s\n",
      "     Running `/home/dawiderter/Projects/Studies/compression/target/release/coder ./../testy/pan_tadeusz.txt ./testing/coded.bin`\n"
     ]
    },
    {
     "name": "stderr",
     "output_type": "stream",
     "text": [
      "    Finished release [optimized] target(s) in 0.02s\n",
      "     Running `/home/dawiderter/Projects/Studies/compression/target/release/noise 0.5555555555555556 ./testing/coded.bin ./testing/noise.bin`\n"
     ]
    },
    {
     "name": "stderr",
     "output_type": "stream",
     "text": [
      "    Finished release [optimized] target(s) in 0.03s\n",
      "     Running `/home/dawiderter/Projects/Studies/compression/target/release/decoder ./testing/noise.bin ./testing/decoded.bin`\n"
     ]
    },
    {
     "name": "stderr",
     "output_type": "stream",
     "text": [
      "    Finished release [optimized] target(s) in 0.02s\n",
      "     Running `/home/dawiderter/Projects/Studies/compression/target/release/check ./testing/decoded.bin ./../testy/pan_tadeusz.txt`\n"
     ]
    },
    {
     "name": "stderr",
     "output_type": "stream",
     "text": [
      "    Finished release [optimized] target(s) in 0.02s\n",
      "     Running `/home/dawiderter/Projects/Studies/compression/target/release/noise 0.5656565656565656 ./../testy/pan_tadeusz.txt ./testing/noise.bin`\n"
     ]
    },
    {
     "name": "stderr",
     "output_type": "stream",
     "text": [
      "    Finished release [optimized] target(s) in 0.02s\n",
      "     Running `/home/dawiderter/Projects/Studies/compression/target/release/check ./testing/noise.bin ./../testy/pan_tadeusz.txt`\n",
      "    Finished release [optimized] target(s) in 0.03s\n",
      "     Running `/home/dawiderter/Projects/Studies/compression/target/release/coder ./../testy/pan_tadeusz.txt ./testing/coded.bin`\n"
     ]
    },
    {
     "name": "stderr",
     "output_type": "stream",
     "text": [
      "    Finished release [optimized] target(s) in 0.02s\n",
      "     Running `/home/dawiderter/Projects/Studies/compression/target/release/noise 0.5656565656565656 ./testing/coded.bin ./testing/noise.bin`\n"
     ]
    },
    {
     "name": "stderr",
     "output_type": "stream",
     "text": [
      "    Finished release [optimized] target(s) in 0.03s\n",
      "     Running `/home/dawiderter/Projects/Studies/compression/target/release/decoder ./testing/noise.bin ./testing/decoded.bin`\n"
     ]
    },
    {
     "name": "stderr",
     "output_type": "stream",
     "text": [
      "    Finished release [optimized] target(s) in 0.03s\n",
      "     Running `/home/dawiderter/Projects/Studies/compression/target/release/check ./testing/decoded.bin ./../testy/pan_tadeusz.txt`\n"
     ]
    },
    {
     "name": "stderr",
     "output_type": "stream",
     "text": [
      "    Finished release [optimized] target(s) in 0.02s\n",
      "     Running `/home/dawiderter/Projects/Studies/compression/target/release/noise 0.5757575757575758 ./../testy/pan_tadeusz.txt ./testing/noise.bin`\n"
     ]
    },
    {
     "name": "stderr",
     "output_type": "stream",
     "text": [
      "    Finished release [optimized] target(s) in 0.03s\n",
      "     Running `/home/dawiderter/Projects/Studies/compression/target/release/check ./testing/noise.bin ./../testy/pan_tadeusz.txt`\n"
     ]
    },
    {
     "name": "stderr",
     "output_type": "stream",
     "text": [
      "    Finished release [optimized] target(s) in 0.03s\n",
      "     Running `/home/dawiderter/Projects/Studies/compression/target/release/coder ./../testy/pan_tadeusz.txt ./testing/coded.bin`\n"
     ]
    },
    {
     "name": "stderr",
     "output_type": "stream",
     "text": [
      "    Finished release [optimized] target(s) in 0.03s\n",
      "     Running `/home/dawiderter/Projects/Studies/compression/target/release/noise 0.5757575757575758 ./testing/coded.bin ./testing/noise.bin`\n"
     ]
    },
    {
     "name": "stderr",
     "output_type": "stream",
     "text": [
      "    Finished release [optimized] target(s) in 0.02s\n",
      "     Running `/home/dawiderter/Projects/Studies/compression/target/release/decoder ./testing/noise.bin ./testing/decoded.bin`\n"
     ]
    },
    {
     "name": "stderr",
     "output_type": "stream",
     "text": [
      "    Finished release [optimized] target(s) in 0.02s\n",
      "     Running `/home/dawiderter/Projects/Studies/compression/target/release/check ./testing/decoded.bin ./../testy/pan_tadeusz.txt`\n"
     ]
    },
    {
     "name": "stderr",
     "output_type": "stream",
     "text": [
      "    Finished release [optimized] target(s) in 0.02s\n",
      "     Running `/home/dawiderter/Projects/Studies/compression/target/release/noise 0.5858585858585859 ./../testy/pan_tadeusz.txt ./testing/noise.bin`\n"
     ]
    },
    {
     "name": "stderr",
     "output_type": "stream",
     "text": [
      "    Finished release [optimized] target(s) in 0.02s\n",
      "     Running `/home/dawiderter/Projects/Studies/compression/target/release/check ./testing/noise.bin ./../testy/pan_tadeusz.txt`\n"
     ]
    },
    {
     "name": "stderr",
     "output_type": "stream",
     "text": [
      "    Finished release [optimized] target(s) in 0.02s\n",
      "     Running `/home/dawiderter/Projects/Studies/compression/target/release/coder ./../testy/pan_tadeusz.txt ./testing/coded.bin`\n"
     ]
    },
    {
     "name": "stderr",
     "output_type": "stream",
     "text": [
      "    Finished release [optimized] target(s) in 0.02s\n",
      "     Running `/home/dawiderter/Projects/Studies/compression/target/release/noise 0.5858585858585859 ./testing/coded.bin ./testing/noise.bin`\n"
     ]
    },
    {
     "name": "stderr",
     "output_type": "stream",
     "text": [
      "    Finished release [optimized] target(s) in 0.03s\n",
      "     Running `/home/dawiderter/Projects/Studies/compression/target/release/decoder ./testing/noise.bin ./testing/decoded.bin`\n"
     ]
    },
    {
     "name": "stderr",
     "output_type": "stream",
     "text": [
      "    Finished release [optimized] target(s) in 0.03s\n",
      "     Running `/home/dawiderter/Projects/Studies/compression/target/release/check ./testing/decoded.bin ./../testy/pan_tadeusz.txt`\n"
     ]
    },
    {
     "name": "stderr",
     "output_type": "stream",
     "text": [
      "    Finished release [optimized] target(s) in 0.02s\n",
      "     Running `/home/dawiderter/Projects/Studies/compression/target/release/noise 0.5959595959595959 ./../testy/pan_tadeusz.txt ./testing/noise.bin`\n"
     ]
    },
    {
     "name": "stderr",
     "output_type": "stream",
     "text": [
      "    Finished release [optimized] target(s) in 0.02s\n",
      "     Running `/home/dawiderter/Projects/Studies/compression/target/release/check ./testing/noise.bin ./../testy/pan_tadeusz.txt`\n"
     ]
    },
    {
     "name": "stderr",
     "output_type": "stream",
     "text": [
      "    Finished release [optimized] target(s) in 0.03s\n",
      "     Running `/home/dawiderter/Projects/Studies/compression/target/release/coder ./../testy/pan_tadeusz.txt ./testing/coded.bin`\n"
     ]
    },
    {
     "name": "stderr",
     "output_type": "stream",
     "text": [
      "    Finished release [optimized] target(s) in 0.02s\n",
      "     Running `/home/dawiderter/Projects/Studies/compression/target/release/noise 0.5959595959595959 ./testing/coded.bin ./testing/noise.bin`\n"
     ]
    },
    {
     "name": "stderr",
     "output_type": "stream",
     "text": [
      "    Finished release [optimized] target(s) in 0.02s\n",
      "     Running `/home/dawiderter/Projects/Studies/compression/target/release/decoder ./testing/noise.bin ./testing/decoded.bin`\n"
     ]
    },
    {
     "name": "stderr",
     "output_type": "stream",
     "text": [
      "    Finished release [optimized] target(s) in 0.02s\n",
      "     Running `/home/dawiderter/Projects/Studies/compression/target/release/check ./testing/decoded.bin ./../testy/pan_tadeusz.txt`\n",
      "    Finished release [optimized] target(s) in 0.02s\n",
      "     Running `/home/dawiderter/Projects/Studies/compression/target/release/noise 0.6060606060606061 ./../testy/pan_tadeusz.txt ./testing/noise.bin`\n"
     ]
    },
    {
     "name": "stderr",
     "output_type": "stream",
     "text": [
      "    Finished release [optimized] target(s) in 0.02s\n",
      "     Running `/home/dawiderter/Projects/Studies/compression/target/release/check ./testing/noise.bin ./../testy/pan_tadeusz.txt`\n"
     ]
    },
    {
     "name": "stderr",
     "output_type": "stream",
     "text": [
      "    Finished release [optimized] target(s) in 0.02s\n",
      "     Running `/home/dawiderter/Projects/Studies/compression/target/release/coder ./../testy/pan_tadeusz.txt ./testing/coded.bin`\n"
     ]
    },
    {
     "name": "stderr",
     "output_type": "stream",
     "text": [
      "    Finished release [optimized] target(s) in 0.02s\n",
      "     Running `/home/dawiderter/Projects/Studies/compression/target/release/noise 0.6060606060606061 ./testing/coded.bin ./testing/noise.bin`\n"
     ]
    },
    {
     "name": "stderr",
     "output_type": "stream",
     "text": [
      "    Finished release [optimized] target(s) in 0.03s\n",
      "     Running `/home/dawiderter/Projects/Studies/compression/target/release/decoder ./testing/noise.bin ./testing/decoded.bin`\n"
     ]
    },
    {
     "name": "stderr",
     "output_type": "stream",
     "text": [
      "    Finished release [optimized] target(s) in 0.03s\n",
      "     Running `/home/dawiderter/Projects/Studies/compression/target/release/check ./testing/decoded.bin ./../testy/pan_tadeusz.txt`\n"
     ]
    },
    {
     "name": "stderr",
     "output_type": "stream",
     "text": [
      "    Finished release [optimized] target(s) in 0.02s\n",
      "     Running `/home/dawiderter/Projects/Studies/compression/target/release/noise 0.6161616161616161 ./../testy/pan_tadeusz.txt ./testing/noise.bin`\n"
     ]
    },
    {
     "name": "stderr",
     "output_type": "stream",
     "text": [
      "    Finished release [optimized] target(s) in 0.03s\n",
      "     Running `/home/dawiderter/Projects/Studies/compression/target/release/check ./testing/noise.bin ./../testy/pan_tadeusz.txt`\n"
     ]
    },
    {
     "name": "stderr",
     "output_type": "stream",
     "text": [
      "    Finished release [optimized] target(s) in 0.02s\n",
      "     Running `/home/dawiderter/Projects/Studies/compression/target/release/coder ./../testy/pan_tadeusz.txt ./testing/coded.bin`\n"
     ]
    },
    {
     "name": "stderr",
     "output_type": "stream",
     "text": [
      "    Finished release [optimized] target(s) in 0.03s\n",
      "     Running `/home/dawiderter/Projects/Studies/compression/target/release/noise 0.6161616161616161 ./testing/coded.bin ./testing/noise.bin`\n"
     ]
    },
    {
     "name": "stderr",
     "output_type": "stream",
     "text": [
      "    Finished release [optimized] target(s) in 0.02s\n",
      "     Running `/home/dawiderter/Projects/Studies/compression/target/release/decoder ./testing/noise.bin ./testing/decoded.bin`\n"
     ]
    },
    {
     "name": "stderr",
     "output_type": "stream",
     "text": [
      "    Finished release [optimized] target(s) in 0.02s\n",
      "     Running `/home/dawiderter/Projects/Studies/compression/target/release/check ./testing/decoded.bin ./../testy/pan_tadeusz.txt`\n"
     ]
    },
    {
     "name": "stderr",
     "output_type": "stream",
     "text": [
      "    Finished release [optimized] target(s) in 0.02s\n",
      "     Running `/home/dawiderter/Projects/Studies/compression/target/release/noise 0.6262626262626263 ./../testy/pan_tadeusz.txt ./testing/noise.bin`\n"
     ]
    },
    {
     "name": "stderr",
     "output_type": "stream",
     "text": [
      "    Finished release [optimized] target(s) in 0.03s\n",
      "     Running `/home/dawiderter/Projects/Studies/compression/target/release/check ./testing/noise.bin ./../testy/pan_tadeusz.txt`\n"
     ]
    },
    {
     "name": "stderr",
     "output_type": "stream",
     "text": [
      "    Finished release [optimized] target(s) in 0.02s\n",
      "     Running `/home/dawiderter/Projects/Studies/compression/target/release/coder ./../testy/pan_tadeusz.txt ./testing/coded.bin`\n"
     ]
    },
    {
     "name": "stderr",
     "output_type": "stream",
     "text": [
      "    Finished release [optimized] target(s) in 0.02s\n",
      "     Running `/home/dawiderter/Projects/Studies/compression/target/release/noise 0.6262626262626263 ./testing/coded.bin ./testing/noise.bin`\n"
     ]
    },
    {
     "name": "stderr",
     "output_type": "stream",
     "text": [
      "    Finished release [optimized] target(s) in 0.02s\n",
      "     Running `/home/dawiderter/Projects/Studies/compression/target/release/decoder ./testing/noise.bin ./testing/decoded.bin`\n"
     ]
    },
    {
     "name": "stderr",
     "output_type": "stream",
     "text": [
      "    Finished release [optimized] target(s) in 0.02s\n",
      "     Running `/home/dawiderter/Projects/Studies/compression/target/release/check ./testing/decoded.bin ./../testy/pan_tadeusz.txt`\n",
      "    Finished release [optimized] target(s) in 0.02s\n",
      "     Running `/home/dawiderter/Projects/Studies/compression/target/release/noise 0.6363636363636364 ./../testy/pan_tadeusz.txt ./testing/noise.bin`\n"
     ]
    },
    {
     "name": "stderr",
     "output_type": "stream",
     "text": [
      "    Finished release [optimized] target(s) in 0.02s\n",
      "     Running `/home/dawiderter/Projects/Studies/compression/target/release/check ./testing/noise.bin ./../testy/pan_tadeusz.txt`\n"
     ]
    },
    {
     "name": "stderr",
     "output_type": "stream",
     "text": [
      "    Finished release [optimized] target(s) in 0.02s\n",
      "     Running `/home/dawiderter/Projects/Studies/compression/target/release/coder ./../testy/pan_tadeusz.txt ./testing/coded.bin`\n"
     ]
    },
    {
     "name": "stderr",
     "output_type": "stream",
     "text": [
      "    Finished release [optimized] target(s) in 0.03s\n",
      "     Running `/home/dawiderter/Projects/Studies/compression/target/release/noise 0.6363636363636364 ./testing/coded.bin ./testing/noise.bin`\n"
     ]
    },
    {
     "name": "stderr",
     "output_type": "stream",
     "text": [
      "    Finished release [optimized] target(s) in 0.02s\n",
      "     Running `/home/dawiderter/Projects/Studies/compression/target/release/decoder ./testing/noise.bin ./testing/decoded.bin`\n"
     ]
    },
    {
     "name": "stderr",
     "output_type": "stream",
     "text": [
      "    Finished release [optimized] target(s) in 0.02s\n",
      "     Running `/home/dawiderter/Projects/Studies/compression/target/release/check ./testing/decoded.bin ./../testy/pan_tadeusz.txt`\n",
      "    Finished release [optimized] target(s) in 0.02s\n",
      "     Running `/home/dawiderter/Projects/Studies/compression/target/release/noise 0.6464646464646465 ./../testy/pan_tadeusz.txt ./testing/noise.bin`\n"
     ]
    },
    {
     "name": "stderr",
     "output_type": "stream",
     "text": [
      "    Finished release [optimized] target(s) in 0.02s\n",
      "     Running `/home/dawiderter/Projects/Studies/compression/target/release/check ./testing/noise.bin ./../testy/pan_tadeusz.txt`\n"
     ]
    },
    {
     "name": "stderr",
     "output_type": "stream",
     "text": [
      "    Finished release [optimized] target(s) in 0.02s\n",
      "     Running `/home/dawiderter/Projects/Studies/compression/target/release/coder ./../testy/pan_tadeusz.txt ./testing/coded.bin`\n"
     ]
    },
    {
     "name": "stderr",
     "output_type": "stream",
     "text": [
      "    Finished release [optimized] target(s) in 0.02s\n",
      "     Running `/home/dawiderter/Projects/Studies/compression/target/release/noise 0.6464646464646465 ./testing/coded.bin ./testing/noise.bin`\n"
     ]
    },
    {
     "name": "stderr",
     "output_type": "stream",
     "text": [
      "    Finished release [optimized] target(s) in 0.02s\n",
      "     Running `/home/dawiderter/Projects/Studies/compression/target/release/decoder ./testing/noise.bin ./testing/decoded.bin`\n"
     ]
    },
    {
     "name": "stderr",
     "output_type": "stream",
     "text": [
      "    Finished release [optimized] target(s) in 0.02s\n",
      "     Running `/home/dawiderter/Projects/Studies/compression/target/release/check ./testing/decoded.bin ./../testy/pan_tadeusz.txt`\n"
     ]
    },
    {
     "name": "stderr",
     "output_type": "stream",
     "text": [
      "    Finished release [optimized] target(s) in 0.02s\n",
      "     Running `/home/dawiderter/Projects/Studies/compression/target/release/noise 0.6565656565656566 ./../testy/pan_tadeusz.txt ./testing/noise.bin`\n"
     ]
    },
    {
     "name": "stderr",
     "output_type": "stream",
     "text": [
      "    Finished release [optimized] target(s) in 0.02s\n",
      "     Running `/home/dawiderter/Projects/Studies/compression/target/release/check ./testing/noise.bin ./../testy/pan_tadeusz.txt`\n",
      "    Finished release [optimized] target(s) in 0.02s\n",
      "     Running `/home/dawiderter/Projects/Studies/compression/target/release/coder ./../testy/pan_tadeusz.txt ./testing/coded.bin`\n"
     ]
    },
    {
     "name": "stderr",
     "output_type": "stream",
     "text": [
      "    Finished release [optimized] target(s) in 0.02s\n",
      "     Running `/home/dawiderter/Projects/Studies/compression/target/release/noise 0.6565656565656566 ./testing/coded.bin ./testing/noise.bin`\n"
     ]
    },
    {
     "name": "stderr",
     "output_type": "stream",
     "text": [
      "    Finished release [optimized] target(s) in 0.02s\n",
      "     Running `/home/dawiderter/Projects/Studies/compression/target/release/decoder ./testing/noise.bin ./testing/decoded.bin`\n"
     ]
    },
    {
     "name": "stderr",
     "output_type": "stream",
     "text": [
      "    Finished release [optimized] target(s) in 0.02s\n",
      "     Running `/home/dawiderter/Projects/Studies/compression/target/release/check ./testing/decoded.bin ./../testy/pan_tadeusz.txt`\n"
     ]
    },
    {
     "name": "stderr",
     "output_type": "stream",
     "text": [
      "    Finished release [optimized] target(s) in 0.03s\n",
      "     Running `/home/dawiderter/Projects/Studies/compression/target/release/noise 0.6666666666666666 ./../testy/pan_tadeusz.txt ./testing/noise.bin`\n"
     ]
    },
    {
     "name": "stderr",
     "output_type": "stream",
     "text": [
      "    Finished release [optimized] target(s) in 0.03s\n",
      "     Running `/home/dawiderter/Projects/Studies/compression/target/release/check ./testing/noise.bin ./../testy/pan_tadeusz.txt`\n",
      "    Finished release [optimized] target(s) in 0.02s\n",
      "     Running `/home/dawiderter/Projects/Studies/compression/target/release/coder ./../testy/pan_tadeusz.txt ./testing/coded.bin`\n"
     ]
    },
    {
     "name": "stderr",
     "output_type": "stream",
     "text": [
      "    Finished release [optimized] target(s) in 0.02s\n",
      "     Running `/home/dawiderter/Projects/Studies/compression/target/release/noise 0.6666666666666666 ./testing/coded.bin ./testing/noise.bin`\n"
     ]
    },
    {
     "name": "stderr",
     "output_type": "stream",
     "text": [
      "    Finished release [optimized] target(s) in 0.02s\n",
      "     Running `/home/dawiderter/Projects/Studies/compression/target/release/decoder ./testing/noise.bin ./testing/decoded.bin`\n"
     ]
    },
    {
     "name": "stderr",
     "output_type": "stream",
     "text": [
      "    Finished release [optimized] target(s) in 0.02s\n",
      "     Running `/home/dawiderter/Projects/Studies/compression/target/release/check ./testing/decoded.bin ./../testy/pan_tadeusz.txt`\n"
     ]
    },
    {
     "name": "stderr",
     "output_type": "stream",
     "text": [
      "    Finished release [optimized] target(s) in 0.03s\n",
      "     Running `/home/dawiderter/Projects/Studies/compression/target/release/noise 0.6767676767676768 ./../testy/pan_tadeusz.txt ./testing/noise.bin`\n"
     ]
    },
    {
     "name": "stderr",
     "output_type": "stream",
     "text": [
      "    Finished release [optimized] target(s) in 0.02s\n",
      "     Running `/home/dawiderter/Projects/Studies/compression/target/release/check ./testing/noise.bin ./../testy/pan_tadeusz.txt`\n"
     ]
    },
    {
     "name": "stderr",
     "output_type": "stream",
     "text": [
      "    Finished release [optimized] target(s) in 0.02s\n",
      "     Running `/home/dawiderter/Projects/Studies/compression/target/release/coder ./../testy/pan_tadeusz.txt ./testing/coded.bin`\n"
     ]
    },
    {
     "name": "stderr",
     "output_type": "stream",
     "text": [
      "    Finished release [optimized] target(s) in 0.02s\n",
      "     Running `/home/dawiderter/Projects/Studies/compression/target/release/noise 0.6767676767676768 ./testing/coded.bin ./testing/noise.bin`\n"
     ]
    },
    {
     "name": "stderr",
     "output_type": "stream",
     "text": [
      "    Finished release [optimized] target(s) in 0.02s\n",
      "     Running `/home/dawiderter/Projects/Studies/compression/target/release/decoder ./testing/noise.bin ./testing/decoded.bin`\n"
     ]
    },
    {
     "name": "stderr",
     "output_type": "stream",
     "text": [
      "    Finished release [optimized] target(s) in 0.03s\n",
      "     Running `/home/dawiderter/Projects/Studies/compression/target/release/check ./testing/decoded.bin ./../testy/pan_tadeusz.txt`\n"
     ]
    },
    {
     "name": "stderr",
     "output_type": "stream",
     "text": [
      "    Finished release [optimized] target(s) in 0.02s\n",
      "     Running `/home/dawiderter/Projects/Studies/compression/target/release/noise 0.6868686868686869 ./../testy/pan_tadeusz.txt ./testing/noise.bin`\n"
     ]
    },
    {
     "name": "stderr",
     "output_type": "stream",
     "text": [
      "    Finished release [optimized] target(s) in 0.02s\n",
      "     Running `/home/dawiderter/Projects/Studies/compression/target/release/check ./testing/noise.bin ./../testy/pan_tadeusz.txt`\n"
     ]
    },
    {
     "name": "stderr",
     "output_type": "stream",
     "text": [
      "    Finished release [optimized] target(s) in 0.02s\n",
      "     Running `/home/dawiderter/Projects/Studies/compression/target/release/coder ./../testy/pan_tadeusz.txt ./testing/coded.bin`\n"
     ]
    },
    {
     "name": "stderr",
     "output_type": "stream",
     "text": [
      "    Finished release [optimized] target(s) in 0.02s\n",
      "     Running `/home/dawiderter/Projects/Studies/compression/target/release/noise 0.6868686868686869 ./testing/coded.bin ./testing/noise.bin`\n"
     ]
    },
    {
     "name": "stderr",
     "output_type": "stream",
     "text": [
      "    Finished release [optimized] target(s) in 0.02s\n",
      "     Running `/home/dawiderter/Projects/Studies/compression/target/release/decoder ./testing/noise.bin ./testing/decoded.bin`\n"
     ]
    },
    {
     "name": "stderr",
     "output_type": "stream",
     "text": [
      "    Finished release [optimized] target(s) in 0.03s\n",
      "     Running `/home/dawiderter/Projects/Studies/compression/target/release/check ./testing/decoded.bin ./../testy/pan_tadeusz.txt`\n"
     ]
    },
    {
     "name": "stderr",
     "output_type": "stream",
     "text": [
      "    Finished release [optimized] target(s) in 0.03s\n",
      "     Running `/home/dawiderter/Projects/Studies/compression/target/release/noise 0.696969696969697 ./../testy/pan_tadeusz.txt ./testing/noise.bin`\n"
     ]
    },
    {
     "name": "stderr",
     "output_type": "stream",
     "text": [
      "    Finished release [optimized] target(s) in 0.02s\n",
      "     Running `/home/dawiderter/Projects/Studies/compression/target/release/check ./testing/noise.bin ./../testy/pan_tadeusz.txt`\n",
      "    Finished release [optimized] target(s) in 0.02s\n",
      "     Running `/home/dawiderter/Projects/Studies/compression/target/release/coder ./../testy/pan_tadeusz.txt ./testing/coded.bin`\n"
     ]
    },
    {
     "name": "stderr",
     "output_type": "stream",
     "text": [
      "    Finished release [optimized] target(s) in 0.02s\n",
      "     Running `/home/dawiderter/Projects/Studies/compression/target/release/noise 0.696969696969697 ./testing/coded.bin ./testing/noise.bin`\n"
     ]
    },
    {
     "name": "stderr",
     "output_type": "stream",
     "text": [
      "    Finished release [optimized] target(s) in 0.02s\n",
      "     Running `/home/dawiderter/Projects/Studies/compression/target/release/decoder ./testing/noise.bin ./testing/decoded.bin`\n"
     ]
    },
    {
     "name": "stderr",
     "output_type": "stream",
     "text": [
      "    Finished release [optimized] target(s) in 0.02s\n",
      "     Running `/home/dawiderter/Projects/Studies/compression/target/release/check ./testing/decoded.bin ./../testy/pan_tadeusz.txt`\n"
     ]
    },
    {
     "name": "stderr",
     "output_type": "stream",
     "text": [
      "    Finished release [optimized] target(s) in 0.02s\n",
      "     Running `/home/dawiderter/Projects/Studies/compression/target/release/noise 0.7070707070707071 ./../testy/pan_tadeusz.txt ./testing/noise.bin`\n"
     ]
    },
    {
     "name": "stderr",
     "output_type": "stream",
     "text": [
      "    Finished release [optimized] target(s) in 0.02s\n",
      "     Running `/home/dawiderter/Projects/Studies/compression/target/release/check ./testing/noise.bin ./../testy/pan_tadeusz.txt`\n"
     ]
    },
    {
     "name": "stderr",
     "output_type": "stream",
     "text": [
      "    Finished release [optimized] target(s) in 0.02s\n",
      "     Running `/home/dawiderter/Projects/Studies/compression/target/release/coder ./../testy/pan_tadeusz.txt ./testing/coded.bin`\n"
     ]
    },
    {
     "name": "stderr",
     "output_type": "stream",
     "text": [
      "    Finished release [optimized] target(s) in 0.02s\n",
      "     Running `/home/dawiderter/Projects/Studies/compression/target/release/noise 0.7070707070707071 ./testing/coded.bin ./testing/noise.bin`\n"
     ]
    },
    {
     "name": "stderr",
     "output_type": "stream",
     "text": [
      "    Finished release [optimized] target(s) in 0.02s\n",
      "     Running `/home/dawiderter/Projects/Studies/compression/target/release/decoder ./testing/noise.bin ./testing/decoded.bin`\n"
     ]
    },
    {
     "name": "stderr",
     "output_type": "stream",
     "text": [
      "    Finished release [optimized] target(s) in 0.03s\n",
      "     Running `/home/dawiderter/Projects/Studies/compression/target/release/check ./testing/decoded.bin ./../testy/pan_tadeusz.txt`\n"
     ]
    },
    {
     "name": "stderr",
     "output_type": "stream",
     "text": [
      "    Finished release [optimized] target(s) in 0.03s\n",
      "     Running `/home/dawiderter/Projects/Studies/compression/target/release/noise 0.7171717171717171 ./../testy/pan_tadeusz.txt ./testing/noise.bin`\n"
     ]
    },
    {
     "name": "stderr",
     "output_type": "stream",
     "text": [
      "    Finished release [optimized] target(s) in 0.02s\n",
      "     Running `/home/dawiderter/Projects/Studies/compression/target/release/check ./testing/noise.bin ./../testy/pan_tadeusz.txt`\n"
     ]
    },
    {
     "name": "stderr",
     "output_type": "stream",
     "text": [
      "    Finished release [optimized] target(s) in 0.02s\n",
      "     Running `/home/dawiderter/Projects/Studies/compression/target/release/coder ./../testy/pan_tadeusz.txt ./testing/coded.bin`\n"
     ]
    },
    {
     "name": "stderr",
     "output_type": "stream",
     "text": [
      "    Finished release [optimized] target(s) in 0.02s\n",
      "     Running `/home/dawiderter/Projects/Studies/compression/target/release/noise 0.7171717171717171 ./testing/coded.bin ./testing/noise.bin`\n"
     ]
    },
    {
     "name": "stderr",
     "output_type": "stream",
     "text": [
      "    Finished release [optimized] target(s) in 0.02s\n",
      "     Running `/home/dawiderter/Projects/Studies/compression/target/release/decoder ./testing/noise.bin ./testing/decoded.bin`\n"
     ]
    },
    {
     "name": "stderr",
     "output_type": "stream",
     "text": [
      "    Finished release [optimized] target(s) in 0.03s\n",
      "     Running `/home/dawiderter/Projects/Studies/compression/target/release/check ./testing/decoded.bin ./../testy/pan_tadeusz.txt`\n"
     ]
    },
    {
     "name": "stderr",
     "output_type": "stream",
     "text": [
      "    Finished release [optimized] target(s) in 0.03s\n",
      "     Running `/home/dawiderter/Projects/Studies/compression/target/release/noise 0.7272727272727273 ./../testy/pan_tadeusz.txt ./testing/noise.bin`\n"
     ]
    },
    {
     "name": "stderr",
     "output_type": "stream",
     "text": [
      "    Finished release [optimized] target(s) in 0.02s\n",
      "     Running `/home/dawiderter/Projects/Studies/compression/target/release/check ./testing/noise.bin ./../testy/pan_tadeusz.txt`\n"
     ]
    },
    {
     "name": "stderr",
     "output_type": "stream",
     "text": [
      "    Finished release [optimized] target(s) in 0.02s\n",
      "     Running `/home/dawiderter/Projects/Studies/compression/target/release/coder ./../testy/pan_tadeusz.txt ./testing/coded.bin`\n"
     ]
    },
    {
     "name": "stderr",
     "output_type": "stream",
     "text": [
      "    Finished release [optimized] target(s) in 0.02s\n",
      "     Running `/home/dawiderter/Projects/Studies/compression/target/release/noise 0.7272727272727273 ./testing/coded.bin ./testing/noise.bin`\n"
     ]
    },
    {
     "name": "stderr",
     "output_type": "stream",
     "text": [
      "    Finished release [optimized] target(s) in 0.02s\n",
      "     Running `/home/dawiderter/Projects/Studies/compression/target/release/decoder ./testing/noise.bin ./testing/decoded.bin`\n"
     ]
    },
    {
     "name": "stderr",
     "output_type": "stream",
     "text": [
      "    Finished release [optimized] target(s) in 0.02s\n",
      "     Running `/home/dawiderter/Projects/Studies/compression/target/release/check ./testing/decoded.bin ./../testy/pan_tadeusz.txt`\n"
     ]
    },
    {
     "name": "stderr",
     "output_type": "stream",
     "text": [
      "    Finished release [optimized] target(s) in 0.02s\n",
      "     Running `/home/dawiderter/Projects/Studies/compression/target/release/noise 0.7373737373737373 ./../testy/pan_tadeusz.txt ./testing/noise.bin`\n"
     ]
    },
    {
     "name": "stderr",
     "output_type": "stream",
     "text": [
      "    Finished release [optimized] target(s) in 0.02s\n",
      "     Running `/home/dawiderter/Projects/Studies/compression/target/release/check ./testing/noise.bin ./../testy/pan_tadeusz.txt`\n"
     ]
    },
    {
     "name": "stderr",
     "output_type": "stream",
     "text": [
      "    Finished release [optimized] target(s) in 0.02s\n",
      "     Running `/home/dawiderter/Projects/Studies/compression/target/release/coder ./../testy/pan_tadeusz.txt ./testing/coded.bin`\n"
     ]
    },
    {
     "name": "stderr",
     "output_type": "stream",
     "text": [
      "    Finished release [optimized] target(s) in 0.02s\n",
      "     Running `/home/dawiderter/Projects/Studies/compression/target/release/noise 0.7373737373737373 ./testing/coded.bin ./testing/noise.bin`\n"
     ]
    },
    {
     "name": "stderr",
     "output_type": "stream",
     "text": [
      "    Finished release [optimized] target(s) in 0.02s\n",
      "     Running `/home/dawiderter/Projects/Studies/compression/target/release/decoder ./testing/noise.bin ./testing/decoded.bin`\n"
     ]
    },
    {
     "name": "stderr",
     "output_type": "stream",
     "text": [
      "    Finished release [optimized] target(s) in 0.02s\n",
      "     Running `/home/dawiderter/Projects/Studies/compression/target/release/check ./testing/decoded.bin ./../testy/pan_tadeusz.txt`\n"
     ]
    },
    {
     "name": "stderr",
     "output_type": "stream",
     "text": [
      "    Finished release [optimized] target(s) in 0.02s\n",
      "     Running `/home/dawiderter/Projects/Studies/compression/target/release/noise 0.7474747474747475 ./../testy/pan_tadeusz.txt ./testing/noise.bin`\n"
     ]
    },
    {
     "name": "stderr",
     "output_type": "stream",
     "text": [
      "    Finished release [optimized] target(s) in 0.03s\n",
      "     Running `/home/dawiderter/Projects/Studies/compression/target/release/check ./testing/noise.bin ./../testy/pan_tadeusz.txt`\n"
     ]
    },
    {
     "name": "stderr",
     "output_type": "stream",
     "text": [
      "    Finished release [optimized] target(s) in 0.03s\n",
      "     Running `/home/dawiderter/Projects/Studies/compression/target/release/coder ./../testy/pan_tadeusz.txt ./testing/coded.bin`\n"
     ]
    },
    {
     "name": "stderr",
     "output_type": "stream",
     "text": [
      "    Finished release [optimized] target(s) in 0.03s\n",
      "     Running `/home/dawiderter/Projects/Studies/compression/target/release/noise 0.7474747474747475 ./testing/coded.bin ./testing/noise.bin`\n"
     ]
    },
    {
     "name": "stderr",
     "output_type": "stream",
     "text": [
      "    Finished release [optimized] target(s) in 0.02s\n",
      "     Running `/home/dawiderter/Projects/Studies/compression/target/release/decoder ./testing/noise.bin ./testing/decoded.bin`\n"
     ]
    },
    {
     "name": "stderr",
     "output_type": "stream",
     "text": [
      "    Finished release [optimized] target(s) in 0.02s\n",
      "     Running `/home/dawiderter/Projects/Studies/compression/target/release/check ./testing/decoded.bin ./../testy/pan_tadeusz.txt`\n",
      "    Finished release [optimized] target(s) in 0.02s\n",
      "     Running `/home/dawiderter/Projects/Studies/compression/target/release/noise 0.7575757575757576 ./../testy/pan_tadeusz.txt ./testing/noise.bin`\n"
     ]
    },
    {
     "name": "stderr",
     "output_type": "stream",
     "text": [
      "    Finished release [optimized] target(s) in 0.02s\n",
      "     Running `/home/dawiderter/Projects/Studies/compression/target/release/check ./testing/noise.bin ./../testy/pan_tadeusz.txt`\n",
      "    Finished release [optimized] target(s) in 0.02s\n",
      "     Running `/home/dawiderter/Projects/Studies/compression/target/release/coder ./../testy/pan_tadeusz.txt ./testing/coded.bin`\n"
     ]
    },
    {
     "name": "stderr",
     "output_type": "stream",
     "text": [
      "    Finished release [optimized] target(s) in 0.02s\n",
      "     Running `/home/dawiderter/Projects/Studies/compression/target/release/noise 0.7575757575757576 ./testing/coded.bin ./testing/noise.bin`\n"
     ]
    },
    {
     "name": "stderr",
     "output_type": "stream",
     "text": [
      "    Finished release [optimized] target(s) in 0.02s\n",
      "     Running `/home/dawiderter/Projects/Studies/compression/target/release/decoder ./testing/noise.bin ./testing/decoded.bin`\n"
     ]
    },
    {
     "name": "stderr",
     "output_type": "stream",
     "text": [
      "    Finished release [optimized] target(s) in 0.03s\n",
      "     Running `/home/dawiderter/Projects/Studies/compression/target/release/check ./testing/decoded.bin ./../testy/pan_tadeusz.txt`\n"
     ]
    },
    {
     "name": "stderr",
     "output_type": "stream",
     "text": [
      "    Finished release [optimized] target(s) in 0.02s\n",
      "     Running `/home/dawiderter/Projects/Studies/compression/target/release/noise 0.7676767676767676 ./../testy/pan_tadeusz.txt ./testing/noise.bin`\n"
     ]
    },
    {
     "name": "stderr",
     "output_type": "stream",
     "text": [
      "    Finished release [optimized] target(s) in 0.02s\n",
      "     Running `/home/dawiderter/Projects/Studies/compression/target/release/check ./testing/noise.bin ./../testy/pan_tadeusz.txt`\n"
     ]
    },
    {
     "name": "stderr",
     "output_type": "stream",
     "text": [
      "    Finished release [optimized] target(s) in 0.02s\n",
      "     Running `/home/dawiderter/Projects/Studies/compression/target/release/coder ./../testy/pan_tadeusz.txt ./testing/coded.bin`\n"
     ]
    },
    {
     "name": "stderr",
     "output_type": "stream",
     "text": [
      "    Finished release [optimized] target(s) in 0.02s\n",
      "     Running `/home/dawiderter/Projects/Studies/compression/target/release/noise 0.7676767676767676 ./testing/coded.bin ./testing/noise.bin`\n"
     ]
    },
    {
     "name": "stderr",
     "output_type": "stream",
     "text": [
      "    Finished release [optimized] target(s) in 0.02s\n",
      "     Running `/home/dawiderter/Projects/Studies/compression/target/release/decoder ./testing/noise.bin ./testing/decoded.bin`\n"
     ]
    },
    {
     "name": "stderr",
     "output_type": "stream",
     "text": [
      "    Finished release [optimized] target(s) in 0.03s\n",
      "     Running `/home/dawiderter/Projects/Studies/compression/target/release/check ./testing/decoded.bin ./../testy/pan_tadeusz.txt`\n",
      "    Finished release [optimized] target(s) in 0.02s\n",
      "     Running `/home/dawiderter/Projects/Studies/compression/target/release/noise 0.7777777777777778 ./../testy/pan_tadeusz.txt ./testing/noise.bin`\n"
     ]
    },
    {
     "name": "stderr",
     "output_type": "stream",
     "text": [
      "    Finished release [optimized] target(s) in 0.02s\n",
      "     Running `/home/dawiderter/Projects/Studies/compression/target/release/check ./testing/noise.bin ./../testy/pan_tadeusz.txt`\n",
      "    Finished release [optimized] target(s) in 0.02s\n",
      "     Running `/home/dawiderter/Projects/Studies/compression/target/release/coder ./../testy/pan_tadeusz.txt ./testing/coded.bin`\n"
     ]
    },
    {
     "name": "stderr",
     "output_type": "stream",
     "text": [
      "    Finished release [optimized] target(s) in 0.02s\n",
      "     Running `/home/dawiderter/Projects/Studies/compression/target/release/noise 0.7777777777777778 ./testing/coded.bin ./testing/noise.bin`\n"
     ]
    },
    {
     "name": "stderr",
     "output_type": "stream",
     "text": [
      "    Finished release [optimized] target(s) in 0.02s\n",
      "     Running `/home/dawiderter/Projects/Studies/compression/target/release/decoder ./testing/noise.bin ./testing/decoded.bin`\n"
     ]
    },
    {
     "name": "stderr",
     "output_type": "stream",
     "text": [
      "    Finished release [optimized] target(s) in 0.02s\n",
      "     Running `/home/dawiderter/Projects/Studies/compression/target/release/check ./testing/decoded.bin ./../testy/pan_tadeusz.txt`\n"
     ]
    },
    {
     "name": "stderr",
     "output_type": "stream",
     "text": [
      "    Finished release [optimized] target(s) in 0.02s\n",
      "     Running `/home/dawiderter/Projects/Studies/compression/target/release/noise 0.7878787878787878 ./../testy/pan_tadeusz.txt ./testing/noise.bin`\n"
     ]
    },
    {
     "name": "stderr",
     "output_type": "stream",
     "text": [
      "    Finished release [optimized] target(s) in 0.02s\n",
      "     Running `/home/dawiderter/Projects/Studies/compression/target/release/check ./testing/noise.bin ./../testy/pan_tadeusz.txt`\n"
     ]
    },
    {
     "name": "stderr",
     "output_type": "stream",
     "text": [
      "    Finished release [optimized] target(s) in 0.02s\n",
      "     Running `/home/dawiderter/Projects/Studies/compression/target/release/coder ./../testy/pan_tadeusz.txt ./testing/coded.bin`\n",
      "    Finished release [optimized] target(s) in 0.02s\n",
      "     Running `/home/dawiderter/Projects/Studies/compression/target/release/noise 0.7878787878787878 ./testing/coded.bin ./testing/noise.bin`\n"
     ]
    },
    {
     "name": "stderr",
     "output_type": "stream",
     "text": [
      "    Finished release [optimized] target(s) in 0.02s\n",
      "     Running `/home/dawiderter/Projects/Studies/compression/target/release/decoder ./testing/noise.bin ./testing/decoded.bin`\n"
     ]
    },
    {
     "name": "stderr",
     "output_type": "stream",
     "text": [
      "    Finished release [optimized] target(s) in 0.02s\n",
      "     Running `/home/dawiderter/Projects/Studies/compression/target/release/check ./testing/decoded.bin ./../testy/pan_tadeusz.txt`\n"
     ]
    },
    {
     "name": "stderr",
     "output_type": "stream",
     "text": [
      "    Finished release [optimized] target(s) in 0.03s\n",
      "     Running `/home/dawiderter/Projects/Studies/compression/target/release/noise 0.797979797979798 ./../testy/pan_tadeusz.txt ./testing/noise.bin`\n"
     ]
    },
    {
     "name": "stderr",
     "output_type": "stream",
     "text": [
      "    Finished release [optimized] target(s) in 0.02s\n",
      "     Running `/home/dawiderter/Projects/Studies/compression/target/release/check ./testing/noise.bin ./../testy/pan_tadeusz.txt`\n"
     ]
    },
    {
     "name": "stderr",
     "output_type": "stream",
     "text": [
      "    Finished release [optimized] target(s) in 0.03s\n",
      "     Running `/home/dawiderter/Projects/Studies/compression/target/release/coder ./../testy/pan_tadeusz.txt ./testing/coded.bin`\n"
     ]
    },
    {
     "name": "stderr",
     "output_type": "stream",
     "text": [
      "    Finished release [optimized] target(s) in 0.03s\n",
      "     Running `/home/dawiderter/Projects/Studies/compression/target/release/noise 0.797979797979798 ./testing/coded.bin ./testing/noise.bin`\n"
     ]
    },
    {
     "name": "stderr",
     "output_type": "stream",
     "text": [
      "    Finished release [optimized] target(s) in 0.02s\n",
      "     Running `/home/dawiderter/Projects/Studies/compression/target/release/decoder ./testing/noise.bin ./testing/decoded.bin`\n"
     ]
    },
    {
     "name": "stderr",
     "output_type": "stream",
     "text": [
      "    Finished release [optimized] target(s) in 0.03s\n",
      "     Running `/home/dawiderter/Projects/Studies/compression/target/release/check ./testing/decoded.bin ./../testy/pan_tadeusz.txt`\n"
     ]
    },
    {
     "name": "stderr",
     "output_type": "stream",
     "text": [
      "    Finished release [optimized] target(s) in 0.02s\n",
      "     Running `/home/dawiderter/Projects/Studies/compression/target/release/noise 0.8080808080808081 ./../testy/pan_tadeusz.txt ./testing/noise.bin`\n"
     ]
    },
    {
     "name": "stderr",
     "output_type": "stream",
     "text": [
      "    Finished release [optimized] target(s) in 0.02s\n",
      "     Running `/home/dawiderter/Projects/Studies/compression/target/release/check ./testing/noise.bin ./../testy/pan_tadeusz.txt`\n"
     ]
    },
    {
     "name": "stderr",
     "output_type": "stream",
     "text": [
      "    Finished release [optimized] target(s) in 0.02s\n",
      "     Running `/home/dawiderter/Projects/Studies/compression/target/release/coder ./../testy/pan_tadeusz.txt ./testing/coded.bin`\n"
     ]
    },
    {
     "name": "stderr",
     "output_type": "stream",
     "text": [
      "    Finished release [optimized] target(s) in 0.02s\n",
      "     Running `/home/dawiderter/Projects/Studies/compression/target/release/noise 0.8080808080808081 ./testing/coded.bin ./testing/noise.bin`\n"
     ]
    },
    {
     "name": "stderr",
     "output_type": "stream",
     "text": [
      "    Finished release [optimized] target(s) in 0.02s\n",
      "     Running `/home/dawiderter/Projects/Studies/compression/target/release/decoder ./testing/noise.bin ./testing/decoded.bin`\n"
     ]
    },
    {
     "name": "stderr",
     "output_type": "stream",
     "text": [
      "    Finished release [optimized] target(s) in 0.02s\n",
      "     Running `/home/dawiderter/Projects/Studies/compression/target/release/check ./testing/decoded.bin ./../testy/pan_tadeusz.txt`\n"
     ]
    },
    {
     "name": "stderr",
     "output_type": "stream",
     "text": [
      "    Finished release [optimized] target(s) in 0.02s\n",
      "     Running `/home/dawiderter/Projects/Studies/compression/target/release/noise 0.8181818181818182 ./../testy/pan_tadeusz.txt ./testing/noise.bin`\n"
     ]
    },
    {
     "name": "stderr",
     "output_type": "stream",
     "text": [
      "    Finished release [optimized] target(s) in 0.02s\n",
      "     Running `/home/dawiderter/Projects/Studies/compression/target/release/check ./testing/noise.bin ./../testy/pan_tadeusz.txt`\n"
     ]
    },
    {
     "name": "stderr",
     "output_type": "stream",
     "text": [
      "    Finished release [optimized] target(s) in 0.02s\n",
      "     Running `/home/dawiderter/Projects/Studies/compression/target/release/coder ./../testy/pan_tadeusz.txt ./testing/coded.bin`\n"
     ]
    },
    {
     "name": "stderr",
     "output_type": "stream",
     "text": [
      "    Finished release [optimized] target(s) in 0.02s\n",
      "     Running `/home/dawiderter/Projects/Studies/compression/target/release/noise 0.8181818181818182 ./testing/coded.bin ./testing/noise.bin`\n"
     ]
    },
    {
     "name": "stderr",
     "output_type": "stream",
     "text": [
      "    Finished release [optimized] target(s) in 0.02s\n",
      "     Running `/home/dawiderter/Projects/Studies/compression/target/release/decoder ./testing/noise.bin ./testing/decoded.bin`\n"
     ]
    },
    {
     "name": "stderr",
     "output_type": "stream",
     "text": [
      "    Finished release [optimized] target(s) in 0.02s\n",
      "     Running `/home/dawiderter/Projects/Studies/compression/target/release/check ./testing/decoded.bin ./../testy/pan_tadeusz.txt`\n",
      "    Finished release [optimized] target(s) in 0.02s\n",
      "     Running `/home/dawiderter/Projects/Studies/compression/target/release/noise 0.8282828282828283 ./../testy/pan_tadeusz.txt ./testing/noise.bin`\n"
     ]
    },
    {
     "name": "stderr",
     "output_type": "stream",
     "text": [
      "    Finished release [optimized] target(s) in 0.02s\n",
      "     Running `/home/dawiderter/Projects/Studies/compression/target/release/check ./testing/noise.bin ./../testy/pan_tadeusz.txt`\n"
     ]
    },
    {
     "name": "stderr",
     "output_type": "stream",
     "text": [
      "    Finished release [optimized] target(s) in 0.02s\n",
      "     Running `/home/dawiderter/Projects/Studies/compression/target/release/coder ./../testy/pan_tadeusz.txt ./testing/coded.bin`\n",
      "    Finished release [optimized] target(s) in 0.02s\n",
      "     Running `/home/dawiderter/Projects/Studies/compression/target/release/noise 0.8282828282828283 ./testing/coded.bin ./testing/noise.bin`\n"
     ]
    },
    {
     "name": "stderr",
     "output_type": "stream",
     "text": [
      "    Finished release [optimized] target(s) in 0.02s\n",
      "     Running `/home/dawiderter/Projects/Studies/compression/target/release/decoder ./testing/noise.bin ./testing/decoded.bin`\n"
     ]
    },
    {
     "name": "stderr",
     "output_type": "stream",
     "text": [
      "    Finished release [optimized] target(s) in 0.03s\n",
      "     Running `/home/dawiderter/Projects/Studies/compression/target/release/check ./testing/decoded.bin ./../testy/pan_tadeusz.txt`\n"
     ]
    },
    {
     "name": "stderr",
     "output_type": "stream",
     "text": [
      "    Finished release [optimized] target(s) in 0.02s\n",
      "     Running `/home/dawiderter/Projects/Studies/compression/target/release/noise 0.8383838383838383 ./../testy/pan_tadeusz.txt ./testing/noise.bin`\n"
     ]
    },
    {
     "name": "stderr",
     "output_type": "stream",
     "text": [
      "    Finished release [optimized] target(s) in 0.02s\n",
      "     Running `/home/dawiderter/Projects/Studies/compression/target/release/check ./testing/noise.bin ./../testy/pan_tadeusz.txt`\n"
     ]
    },
    {
     "name": "stderr",
     "output_type": "stream",
     "text": [
      "    Finished release [optimized] target(s) in 0.02s\n",
      "     Running `/home/dawiderter/Projects/Studies/compression/target/release/coder ./../testy/pan_tadeusz.txt ./testing/coded.bin`\n"
     ]
    },
    {
     "name": "stderr",
     "output_type": "stream",
     "text": [
      "    Finished release [optimized] target(s) in 0.02s\n",
      "     Running `/home/dawiderter/Projects/Studies/compression/target/release/noise 0.8383838383838383 ./testing/coded.bin ./testing/noise.bin`\n"
     ]
    },
    {
     "name": "stderr",
     "output_type": "stream",
     "text": [
      "    Finished release [optimized] target(s) in 0.02s\n",
      "     Running `/home/dawiderter/Projects/Studies/compression/target/release/decoder ./testing/noise.bin ./testing/decoded.bin`\n"
     ]
    },
    {
     "name": "stderr",
     "output_type": "stream",
     "text": [
      "    Finished release [optimized] target(s) in 0.02s\n",
      "     Running `/home/dawiderter/Projects/Studies/compression/target/release/check ./testing/decoded.bin ./../testy/pan_tadeusz.txt`\n"
     ]
    },
    {
     "name": "stderr",
     "output_type": "stream",
     "text": [
      "    Finished release [optimized] target(s) in 0.02s\n",
      "     Running `/home/dawiderter/Projects/Studies/compression/target/release/noise 0.8484848484848485 ./../testy/pan_tadeusz.txt ./testing/noise.bin`\n"
     ]
    },
    {
     "name": "stderr",
     "output_type": "stream",
     "text": [
      "    Finished release [optimized] target(s) in 0.02s\n",
      "     Running `/home/dawiderter/Projects/Studies/compression/target/release/check ./testing/noise.bin ./../testy/pan_tadeusz.txt`\n"
     ]
    },
    {
     "name": "stderr",
     "output_type": "stream",
     "text": [
      "    Finished release [optimized] target(s) in 0.02s\n",
      "     Running `/home/dawiderter/Projects/Studies/compression/target/release/coder ./../testy/pan_tadeusz.txt ./testing/coded.bin`\n"
     ]
    },
    {
     "name": "stderr",
     "output_type": "stream",
     "text": [
      "    Finished release [optimized] target(s) in 0.03s\n",
      "     Running `/home/dawiderter/Projects/Studies/compression/target/release/noise 0.8484848484848485 ./testing/coded.bin ./testing/noise.bin`\n"
     ]
    },
    {
     "name": "stderr",
     "output_type": "stream",
     "text": [
      "    Finished release [optimized] target(s) in 0.02s\n",
      "     Running `/home/dawiderter/Projects/Studies/compression/target/release/decoder ./testing/noise.bin ./testing/decoded.bin`\n"
     ]
    },
    {
     "name": "stderr",
     "output_type": "stream",
     "text": [
      "    Finished release [optimized] target(s) in 0.03s\n",
      "     Running `/home/dawiderter/Projects/Studies/compression/target/release/check ./testing/decoded.bin ./../testy/pan_tadeusz.txt`\n"
     ]
    },
    {
     "name": "stderr",
     "output_type": "stream",
     "text": [
      "    Finished release [optimized] target(s) in 0.03s\n",
      "     Running `/home/dawiderter/Projects/Studies/compression/target/release/noise 0.8585858585858586 ./../testy/pan_tadeusz.txt ./testing/noise.bin`\n"
     ]
    },
    {
     "name": "stderr",
     "output_type": "stream",
     "text": [
      "    Finished release [optimized] target(s) in 0.02s\n",
      "     Running `/home/dawiderter/Projects/Studies/compression/target/release/check ./testing/noise.bin ./../testy/pan_tadeusz.txt`\n"
     ]
    },
    {
     "name": "stderr",
     "output_type": "stream",
     "text": [
      "    Finished release [optimized] target(s) in 0.02s\n",
      "     Running `/home/dawiderter/Projects/Studies/compression/target/release/coder ./../testy/pan_tadeusz.txt ./testing/coded.bin`\n"
     ]
    },
    {
     "name": "stderr",
     "output_type": "stream",
     "text": [
      "    Finished release [optimized] target(s) in 0.02s\n",
      "     Running `/home/dawiderter/Projects/Studies/compression/target/release/noise 0.8585858585858586 ./testing/coded.bin ./testing/noise.bin`\n"
     ]
    },
    {
     "name": "stderr",
     "output_type": "stream",
     "text": [
      "    Finished release [optimized] target(s) in 0.02s\n",
      "     Running `/home/dawiderter/Projects/Studies/compression/target/release/decoder ./testing/noise.bin ./testing/decoded.bin`\n"
     ]
    },
    {
     "name": "stderr",
     "output_type": "stream",
     "text": [
      "    Finished release [optimized] target(s) in 0.02s\n",
      "     Running `/home/dawiderter/Projects/Studies/compression/target/release/check ./testing/decoded.bin ./../testy/pan_tadeusz.txt`\n"
     ]
    },
    {
     "name": "stderr",
     "output_type": "stream",
     "text": [
      "    Finished release [optimized] target(s) in 0.03s\n",
      "     Running `/home/dawiderter/Projects/Studies/compression/target/release/noise 0.8686868686868687 ./../testy/pan_tadeusz.txt ./testing/noise.bin`\n"
     ]
    },
    {
     "name": "stderr",
     "output_type": "stream",
     "text": [
      "    Finished release [optimized] target(s) in 0.02s\n",
      "     Running `/home/dawiderter/Projects/Studies/compression/target/release/check ./testing/noise.bin ./../testy/pan_tadeusz.txt`\n"
     ]
    },
    {
     "name": "stderr",
     "output_type": "stream",
     "text": [
      "    Finished release [optimized] target(s) in 0.02s\n",
      "     Running `/home/dawiderter/Projects/Studies/compression/target/release/coder ./../testy/pan_tadeusz.txt ./testing/coded.bin`\n"
     ]
    },
    {
     "name": "stderr",
     "output_type": "stream",
     "text": [
      "    Finished release [optimized] target(s) in 0.02s\n",
      "     Running `/home/dawiderter/Projects/Studies/compression/target/release/noise 0.8686868686868687 ./testing/coded.bin ./testing/noise.bin`\n"
     ]
    },
    {
     "name": "stderr",
     "output_type": "stream",
     "text": [
      "    Finished release [optimized] target(s) in 0.02s\n",
      "     Running `/home/dawiderter/Projects/Studies/compression/target/release/decoder ./testing/noise.bin ./testing/decoded.bin`\n"
     ]
    },
    {
     "name": "stderr",
     "output_type": "stream",
     "text": [
      "    Finished release [optimized] target(s) in 0.02s\n",
      "     Running `/home/dawiderter/Projects/Studies/compression/target/release/check ./testing/decoded.bin ./../testy/pan_tadeusz.txt`\n",
      "    Finished release [optimized] target(s) in 0.02s\n",
      "     Running `/home/dawiderter/Projects/Studies/compression/target/release/noise 0.8787878787878788 ./../testy/pan_tadeusz.txt ./testing/noise.bin`\n"
     ]
    },
    {
     "name": "stderr",
     "output_type": "stream",
     "text": [
      "    Finished release [optimized] target(s) in 0.02s\n",
      "     Running `/home/dawiderter/Projects/Studies/compression/target/release/check ./testing/noise.bin ./../testy/pan_tadeusz.txt`\n"
     ]
    },
    {
     "name": "stderr",
     "output_type": "stream",
     "text": [
      "    Finished release [optimized] target(s) in 0.02s\n",
      "     Running `/home/dawiderter/Projects/Studies/compression/target/release/coder ./../testy/pan_tadeusz.txt ./testing/coded.bin`\n",
      "    Finished release [optimized] target(s) in 0.02s\n",
      "     Running `/home/dawiderter/Projects/Studies/compression/target/release/noise 0.8787878787878788 ./testing/coded.bin ./testing/noise.bin`\n"
     ]
    },
    {
     "name": "stderr",
     "output_type": "stream",
     "text": [
      "    Finished release [optimized] target(s) in 0.02s\n",
      "     Running `/home/dawiderter/Projects/Studies/compression/target/release/decoder ./testing/noise.bin ./testing/decoded.bin`\n"
     ]
    },
    {
     "name": "stderr",
     "output_type": "stream",
     "text": [
      "    Finished release [optimized] target(s) in 0.02s\n",
      "     Running `/home/dawiderter/Projects/Studies/compression/target/release/check ./testing/decoded.bin ./../testy/pan_tadeusz.txt`\n"
     ]
    },
    {
     "name": "stderr",
     "output_type": "stream",
     "text": [
      "    Finished release [optimized] target(s) in 0.02s\n",
      "     Running `/home/dawiderter/Projects/Studies/compression/target/release/noise 0.8888888888888888 ./../testy/pan_tadeusz.txt ./testing/noise.bin`\n"
     ]
    },
    {
     "name": "stderr",
     "output_type": "stream",
     "text": [
      "    Finished release [optimized] target(s) in 0.02s\n",
      "     Running `/home/dawiderter/Projects/Studies/compression/target/release/check ./testing/noise.bin ./../testy/pan_tadeusz.txt`\n"
     ]
    },
    {
     "name": "stderr",
     "output_type": "stream",
     "text": [
      "    Finished release [optimized] target(s) in 0.02s\n",
      "     Running `/home/dawiderter/Projects/Studies/compression/target/release/coder ./../testy/pan_tadeusz.txt ./testing/coded.bin`\n"
     ]
    },
    {
     "name": "stderr",
     "output_type": "stream",
     "text": [
      "    Finished release [optimized] target(s) in 0.02s\n",
      "     Running `/home/dawiderter/Projects/Studies/compression/target/release/noise 0.8888888888888888 ./testing/coded.bin ./testing/noise.bin`\n"
     ]
    },
    {
     "name": "stderr",
     "output_type": "stream",
     "text": [
      "    Finished release [optimized] target(s) in 0.02s\n",
      "     Running `/home/dawiderter/Projects/Studies/compression/target/release/decoder ./testing/noise.bin ./testing/decoded.bin`\n"
     ]
    },
    {
     "name": "stderr",
     "output_type": "stream",
     "text": [
      "    Finished release [optimized] target(s) in 0.02s\n",
      "     Running `/home/dawiderter/Projects/Studies/compression/target/release/check ./testing/decoded.bin ./../testy/pan_tadeusz.txt`\n"
     ]
    },
    {
     "name": "stderr",
     "output_type": "stream",
     "text": [
      "    Finished release [optimized] target(s) in 0.02s\n",
      "     Running `/home/dawiderter/Projects/Studies/compression/target/release/noise 0.898989898989899 ./../testy/pan_tadeusz.txt ./testing/noise.bin`\n"
     ]
    },
    {
     "name": "stderr",
     "output_type": "stream",
     "text": [
      "    Finished release [optimized] target(s) in 0.02s\n",
      "     Running `/home/dawiderter/Projects/Studies/compression/target/release/check ./testing/noise.bin ./../testy/pan_tadeusz.txt`\n"
     ]
    },
    {
     "name": "stderr",
     "output_type": "stream",
     "text": [
      "    Finished release [optimized] target(s) in 0.02s\n",
      "     Running `/home/dawiderter/Projects/Studies/compression/target/release/coder ./../testy/pan_tadeusz.txt ./testing/coded.bin`\n"
     ]
    },
    {
     "name": "stderr",
     "output_type": "stream",
     "text": [
      "    Finished release [optimized] target(s) in 0.03s\n",
      "     Running `/home/dawiderter/Projects/Studies/compression/target/release/noise 0.898989898989899 ./testing/coded.bin ./testing/noise.bin`\n"
     ]
    },
    {
     "name": "stderr",
     "output_type": "stream",
     "text": [
      "    Finished release [optimized] target(s) in 0.02s\n",
      "     Running `/home/dawiderter/Projects/Studies/compression/target/release/decoder ./testing/noise.bin ./testing/decoded.bin`\n"
     ]
    },
    {
     "name": "stderr",
     "output_type": "stream",
     "text": [
      "    Finished release [optimized] target(s) in 0.02s\n",
      "     Running `/home/dawiderter/Projects/Studies/compression/target/release/check ./testing/decoded.bin ./../testy/pan_tadeusz.txt`\n"
     ]
    },
    {
     "name": "stderr",
     "output_type": "stream",
     "text": [
      "    Finished release [optimized] target(s) in 0.03s\n",
      "     Running `/home/dawiderter/Projects/Studies/compression/target/release/noise 0.9090909090909091 ./../testy/pan_tadeusz.txt ./testing/noise.bin`\n"
     ]
    },
    {
     "name": "stderr",
     "output_type": "stream",
     "text": [
      "    Finished release [optimized] target(s) in 0.03s\n",
      "     Running `/home/dawiderter/Projects/Studies/compression/target/release/check ./testing/noise.bin ./../testy/pan_tadeusz.txt`\n"
     ]
    },
    {
     "name": "stderr",
     "output_type": "stream",
     "text": [
      "    Finished release [optimized] target(s) in 0.04s\n",
      "     Running `/home/dawiderter/Projects/Studies/compression/target/release/coder ./../testy/pan_tadeusz.txt ./testing/coded.bin`\n"
     ]
    },
    {
     "name": "stderr",
     "output_type": "stream",
     "text": [
      "    Finished release [optimized] target(s) in 0.04s\n",
      "     Running `/home/dawiderter/Projects/Studies/compression/target/release/noise 0.9090909090909091 ./testing/coded.bin ./testing/noise.bin`\n"
     ]
    },
    {
     "name": "stderr",
     "output_type": "stream",
     "text": [
      "    Finished release [optimized] target(s) in 0.03s\n",
      "     Running `/home/dawiderter/Projects/Studies/compression/target/release/decoder ./testing/noise.bin ./testing/decoded.bin`\n"
     ]
    },
    {
     "name": "stderr",
     "output_type": "stream",
     "text": [
      "    Finished release [optimized] target(s) in 0.02s\n",
      "     Running `/home/dawiderter/Projects/Studies/compression/target/release/check ./testing/decoded.bin ./../testy/pan_tadeusz.txt`\n",
      "    Finished release [optimized] target(s) in 0.02s\n",
      "     Running `/home/dawiderter/Projects/Studies/compression/target/release/noise 0.9191919191919192 ./../testy/pan_tadeusz.txt ./testing/noise.bin`\n"
     ]
    },
    {
     "name": "stderr",
     "output_type": "stream",
     "text": [
      "    Finished release [optimized] target(s) in 0.03s\n",
      "     Running `/home/dawiderter/Projects/Studies/compression/target/release/check ./testing/noise.bin ./../testy/pan_tadeusz.txt`\n"
     ]
    },
    {
     "name": "stderr",
     "output_type": "stream",
     "text": [
      "    Finished release [optimized] target(s) in 0.02s\n",
      "     Running `/home/dawiderter/Projects/Studies/compression/target/release/coder ./../testy/pan_tadeusz.txt ./testing/coded.bin`\n"
     ]
    },
    {
     "name": "stderr",
     "output_type": "stream",
     "text": [
      "    Finished release [optimized] target(s) in 0.02s\n",
      "     Running `/home/dawiderter/Projects/Studies/compression/target/release/noise 0.9191919191919192 ./testing/coded.bin ./testing/noise.bin`\n"
     ]
    },
    {
     "name": "stderr",
     "output_type": "stream",
     "text": [
      "    Finished release [optimized] target(s) in 0.02s\n",
      "     Running `/home/dawiderter/Projects/Studies/compression/target/release/decoder ./testing/noise.bin ./testing/decoded.bin`\n"
     ]
    },
    {
     "name": "stderr",
     "output_type": "stream",
     "text": [
      "    Finished release [optimized] target(s) in 0.02s\n",
      "     Running `/home/dawiderter/Projects/Studies/compression/target/release/check ./testing/decoded.bin ./../testy/pan_tadeusz.txt`\n"
     ]
    },
    {
     "name": "stderr",
     "output_type": "stream",
     "text": [
      "    Finished release [optimized] target(s) in 0.03s\n",
      "     Running `/home/dawiderter/Projects/Studies/compression/target/release/noise 0.9292929292929293 ./../testy/pan_tadeusz.txt ./testing/noise.bin`\n"
     ]
    },
    {
     "name": "stderr",
     "output_type": "stream",
     "text": [
      "    Finished release [optimized] target(s) in 0.02s\n",
      "     Running `/home/dawiderter/Projects/Studies/compression/target/release/check ./testing/noise.bin ./../testy/pan_tadeusz.txt`\n",
      "    Finished release [optimized] target(s) in 0.02s\n",
      "     Running `/home/dawiderter/Projects/Studies/compression/target/release/coder ./../testy/pan_tadeusz.txt ./testing/coded.bin`\n"
     ]
    },
    {
     "name": "stderr",
     "output_type": "stream",
     "text": [
      "    Finished release [optimized] target(s) in 0.02s\n",
      "     Running `/home/dawiderter/Projects/Studies/compression/target/release/noise 0.9292929292929293 ./testing/coded.bin ./testing/noise.bin`\n"
     ]
    },
    {
     "name": "stderr",
     "output_type": "stream",
     "text": [
      "    Finished release [optimized] target(s) in 0.03s\n",
      "     Running `/home/dawiderter/Projects/Studies/compression/target/release/decoder ./testing/noise.bin ./testing/decoded.bin`\n"
     ]
    },
    {
     "name": "stderr",
     "output_type": "stream",
     "text": [
      "    Finished release [optimized] target(s) in 0.03s\n",
      "     Running `/home/dawiderter/Projects/Studies/compression/target/release/check ./testing/decoded.bin ./../testy/pan_tadeusz.txt`\n"
     ]
    },
    {
     "name": "stderr",
     "output_type": "stream",
     "text": [
      "    Finished release [optimized] target(s) in 0.02s\n",
      "     Running `/home/dawiderter/Projects/Studies/compression/target/release/noise 0.9393939393939394 ./../testy/pan_tadeusz.txt ./testing/noise.bin`\n"
     ]
    },
    {
     "name": "stderr",
     "output_type": "stream",
     "text": [
      "    Finished release [optimized] target(s) in 0.02s\n",
      "     Running `/home/dawiderter/Projects/Studies/compression/target/release/check ./testing/noise.bin ./../testy/pan_tadeusz.txt`\n",
      "    Finished release [optimized] target(s) in 0.02s\n",
      "     Running `/home/dawiderter/Projects/Studies/compression/target/release/coder ./../testy/pan_tadeusz.txt ./testing/coded.bin`\n"
     ]
    },
    {
     "name": "stderr",
     "output_type": "stream",
     "text": [
      "    Finished release [optimized] target(s) in 0.03s\n",
      "     Running `/home/dawiderter/Projects/Studies/compression/target/release/noise 0.9393939393939394 ./testing/coded.bin ./testing/noise.bin`\n"
     ]
    },
    {
     "name": "stderr",
     "output_type": "stream",
     "text": [
      "    Finished release [optimized] target(s) in 0.02s\n",
      "     Running `/home/dawiderter/Projects/Studies/compression/target/release/decoder ./testing/noise.bin ./testing/decoded.bin`\n"
     ]
    },
    {
     "name": "stderr",
     "output_type": "stream",
     "text": [
      "    Finished release [optimized] target(s) in 0.03s\n",
      "     Running `/home/dawiderter/Projects/Studies/compression/target/release/check ./testing/decoded.bin ./../testy/pan_tadeusz.txt`\n"
     ]
    },
    {
     "name": "stderr",
     "output_type": "stream",
     "text": [
      "    Finished release [optimized] target(s) in 0.02s\n",
      "     Running `/home/dawiderter/Projects/Studies/compression/target/release/noise 0.9494949494949495 ./../testy/pan_tadeusz.txt ./testing/noise.bin`\n"
     ]
    },
    {
     "name": "stderr",
     "output_type": "stream",
     "text": [
      "    Finished release [optimized] target(s) in 0.03s\n",
      "     Running `/home/dawiderter/Projects/Studies/compression/target/release/check ./testing/noise.bin ./../testy/pan_tadeusz.txt`\n",
      "    Finished release [optimized] target(s) in 0.02s\n",
      "     Running `/home/dawiderter/Projects/Studies/compression/target/release/coder ./../testy/pan_tadeusz.txt ./testing/coded.bin`\n"
     ]
    },
    {
     "name": "stderr",
     "output_type": "stream",
     "text": [
      "    Finished release [optimized] target(s) in 0.04s\n",
      "     Running `/home/dawiderter/Projects/Studies/compression/target/release/noise 0.9494949494949495 ./testing/coded.bin ./testing/noise.bin`\n"
     ]
    },
    {
     "name": "stderr",
     "output_type": "stream",
     "text": [
      "    Finished release [optimized] target(s) in 0.02s\n",
      "     Running `/home/dawiderter/Projects/Studies/compression/target/release/decoder ./testing/noise.bin ./testing/decoded.bin`\n"
     ]
    },
    {
     "name": "stderr",
     "output_type": "stream",
     "text": [
      "    Finished release [optimized] target(s) in 0.02s\n",
      "     Running `/home/dawiderter/Projects/Studies/compression/target/release/check ./testing/decoded.bin ./../testy/pan_tadeusz.txt`\n"
     ]
    },
    {
     "name": "stderr",
     "output_type": "stream",
     "text": [
      "    Finished release [optimized] target(s) in 0.03s\n",
      "     Running `/home/dawiderter/Projects/Studies/compression/target/release/noise 0.9595959595959596 ./../testy/pan_tadeusz.txt ./testing/noise.bin`\n"
     ]
    },
    {
     "name": "stderr",
     "output_type": "stream",
     "text": [
      "    Finished release [optimized] target(s) in 0.02s\n",
      "     Running `/home/dawiderter/Projects/Studies/compression/target/release/check ./testing/noise.bin ./../testy/pan_tadeusz.txt`\n"
     ]
    },
    {
     "name": "stderr",
     "output_type": "stream",
     "text": [
      "    Finished release [optimized] target(s) in 0.02s\n",
      "     Running `/home/dawiderter/Projects/Studies/compression/target/release/coder ./../testy/pan_tadeusz.txt ./testing/coded.bin`\n"
     ]
    },
    {
     "name": "stderr",
     "output_type": "stream",
     "text": [
      "    Finished release [optimized] target(s) in 0.03s\n",
      "     Running `/home/dawiderter/Projects/Studies/compression/target/release/noise 0.9595959595959596 ./testing/coded.bin ./testing/noise.bin`\n"
     ]
    },
    {
     "name": "stderr",
     "output_type": "stream",
     "text": [
      "    Finished release [optimized] target(s) in 0.02s\n",
      "     Running `/home/dawiderter/Projects/Studies/compression/target/release/decoder ./testing/noise.bin ./testing/decoded.bin`\n"
     ]
    },
    {
     "name": "stderr",
     "output_type": "stream",
     "text": [
      "    Finished release [optimized] target(s) in 0.03s\n",
      "     Running `/home/dawiderter/Projects/Studies/compression/target/release/check ./testing/decoded.bin ./../testy/pan_tadeusz.txt`\n"
     ]
    },
    {
     "name": "stderr",
     "output_type": "stream",
     "text": [
      "    Finished release [optimized] target(s) in 0.02s\n",
      "     Running `/home/dawiderter/Projects/Studies/compression/target/release/noise 0.9696969696969697 ./../testy/pan_tadeusz.txt ./testing/noise.bin`\n"
     ]
    },
    {
     "name": "stderr",
     "output_type": "stream",
     "text": [
      "    Finished release [optimized] target(s) in 0.02s\n",
      "     Running `/home/dawiderter/Projects/Studies/compression/target/release/check ./testing/noise.bin ./../testy/pan_tadeusz.txt`\n"
     ]
    },
    {
     "name": "stderr",
     "output_type": "stream",
     "text": [
      "    Finished release [optimized] target(s) in 0.03s\n",
      "     Running `/home/dawiderter/Projects/Studies/compression/target/release/coder ./../testy/pan_tadeusz.txt ./testing/coded.bin`\n"
     ]
    },
    {
     "name": "stderr",
     "output_type": "stream",
     "text": [
      "    Finished release [optimized] target(s) in 0.02s\n",
      "     Running `/home/dawiderter/Projects/Studies/compression/target/release/noise 0.9696969696969697 ./testing/coded.bin ./testing/noise.bin`\n"
     ]
    },
    {
     "name": "stderr",
     "output_type": "stream",
     "text": [
      "    Finished release [optimized] target(s) in 0.02s\n",
      "     Running `/home/dawiderter/Projects/Studies/compression/target/release/decoder ./testing/noise.bin ./testing/decoded.bin`\n"
     ]
    },
    {
     "name": "stderr",
     "output_type": "stream",
     "text": [
      "    Finished release [optimized] target(s) in 0.03s\n",
      "     Running `/home/dawiderter/Projects/Studies/compression/target/release/check ./testing/decoded.bin ./../testy/pan_tadeusz.txt`\n"
     ]
    },
    {
     "name": "stderr",
     "output_type": "stream",
     "text": [
      "    Finished release [optimized] target(s) in 0.02s\n",
      "     Running `/home/dawiderter/Projects/Studies/compression/target/release/noise 0.9797979797979798 ./../testy/pan_tadeusz.txt ./testing/noise.bin`\n"
     ]
    },
    {
     "name": "stderr",
     "output_type": "stream",
     "text": [
      "    Finished release [optimized] target(s) in 0.03s\n",
      "     Running `/home/dawiderter/Projects/Studies/compression/target/release/check ./testing/noise.bin ./../testy/pan_tadeusz.txt`\n"
     ]
    },
    {
     "name": "stderr",
     "output_type": "stream",
     "text": [
      "    Finished release [optimized] target(s) in 0.02s\n",
      "     Running `/home/dawiderter/Projects/Studies/compression/target/release/coder ./../testy/pan_tadeusz.txt ./testing/coded.bin`\n"
     ]
    },
    {
     "name": "stderr",
     "output_type": "stream",
     "text": [
      "    Finished release [optimized] target(s) in 0.02s\n",
      "     Running `/home/dawiderter/Projects/Studies/compression/target/release/noise 0.9797979797979798 ./testing/coded.bin ./testing/noise.bin`\n"
     ]
    },
    {
     "name": "stderr",
     "output_type": "stream",
     "text": [
      "    Finished release [optimized] target(s) in 0.02s\n",
      "     Running `/home/dawiderter/Projects/Studies/compression/target/release/decoder ./testing/noise.bin ./testing/decoded.bin`\n"
     ]
    },
    {
     "name": "stderr",
     "output_type": "stream",
     "text": [
      "    Finished release [optimized] target(s) in 0.03s\n",
      "     Running `/home/dawiderter/Projects/Studies/compression/target/release/check ./testing/decoded.bin ./../testy/pan_tadeusz.txt`\n"
     ]
    },
    {
     "name": "stderr",
     "output_type": "stream",
     "text": [
      "    Finished release [optimized] target(s) in 0.02s\n",
      "     Running `/home/dawiderter/Projects/Studies/compression/target/release/noise 0.98989898989899 ./../testy/pan_tadeusz.txt ./testing/noise.bin`\n"
     ]
    },
    {
     "name": "stderr",
     "output_type": "stream",
     "text": [
      "    Finished release [optimized] target(s) in 0.02s\n",
      "     Running `/home/dawiderter/Projects/Studies/compression/target/release/check ./testing/noise.bin ./../testy/pan_tadeusz.txt`\n",
      "    Finished release [optimized] target(s) in 0.02s\n",
      "     Running `/home/dawiderter/Projects/Studies/compression/target/release/coder ./../testy/pan_tadeusz.txt ./testing/coded.bin`\n"
     ]
    },
    {
     "name": "stderr",
     "output_type": "stream",
     "text": [
      "    Finished release [optimized] target(s) in 0.02s\n",
      "     Running `/home/dawiderter/Projects/Studies/compression/target/release/noise 0.98989898989899 ./testing/coded.bin ./testing/noise.bin`\n"
     ]
    },
    {
     "name": "stderr",
     "output_type": "stream",
     "text": [
      "    Finished release [optimized] target(s) in 0.02s\n",
      "     Running `/home/dawiderter/Projects/Studies/compression/target/release/decoder ./testing/noise.bin ./testing/decoded.bin`\n"
     ]
    },
    {
     "name": "stderr",
     "output_type": "stream",
     "text": [
      "    Finished release [optimized] target(s) in 0.03s\n",
      "     Running `/home/dawiderter/Projects/Studies/compression/target/release/check ./testing/decoded.bin ./../testy/pan_tadeusz.txt`\n"
     ]
    },
    {
     "name": "stderr",
     "output_type": "stream",
     "text": [
      "    Finished release [optimized] target(s) in 0.03s\n",
      "     Running `/home/dawiderter/Projects/Studies/compression/target/release/noise 1.0 ./../testy/pan_tadeusz.txt ./testing/noise.bin`\n"
     ]
    },
    {
     "name": "stderr",
     "output_type": "stream",
     "text": [
      "    Finished release [optimized] target(s) in 0.02s\n",
      "     Running `/home/dawiderter/Projects/Studies/compression/target/release/check ./testing/noise.bin ./../testy/pan_tadeusz.txt`\n"
     ]
    },
    {
     "name": "stderr",
     "output_type": "stream",
     "text": [
      "    Finished release [optimized] target(s) in 0.02s\n",
      "     Running `/home/dawiderter/Projects/Studies/compression/target/release/coder ./../testy/pan_tadeusz.txt ./testing/coded.bin`\n"
     ]
    },
    {
     "name": "stderr",
     "output_type": "stream",
     "text": [
      "    Finished release [optimized] target(s) in 0.04s\n",
      "     Running `/home/dawiderter/Projects/Studies/compression/target/release/noise 1.0 ./testing/coded.bin ./testing/noise.bin`\n"
     ]
    },
    {
     "name": "stderr",
     "output_type": "stream",
     "text": [
      "    Finished release [optimized] target(s) in 0.02s\n",
      "     Running `/home/dawiderter/Projects/Studies/compression/target/release/decoder ./testing/noise.bin ./testing/decoded.bin`\n"
     ]
    },
    {
     "name": "stderr",
     "output_type": "stream",
     "text": [
      "    Finished release [optimized] target(s) in 0.02s\n",
      "     Running `/home/dawiderter/Projects/Studies/compression/target/release/check ./testing/decoded.bin ./../testy/pan_tadeusz.txt`\n"
     ]
    }
   ],
   "source": [
    "using Plots\n",
    "\n",
    "exp_p = range(0.0,1.0,length=100)\n",
    "exp_1 = []\n",
    "exp_2 = []\n",
    "exp_3 = []\n",
    "\n",
    "for p in exp_p\n",
    "    e1 = run_experiment_1(p)\n",
    "    (e2, e3) = run_experiment_2_3(p)\n",
    "\n",
    "    push!(exp_1, e1)\n",
    "    push!(exp_2, e2)\n",
    "    push!(exp_3, e3)\n",
    "end"
   ]
  },
  {
   "cell_type": "code",
   "execution_count": 21,
   "metadata": {},
   "outputs": [
    {
     "data": {
      "image/png": "[encoded data removed]",
      "image/svg+xml": [
       "<?xml version=\"1.0\" encoding=\"utf-8\"?>\n",
       "<svg xmlns=\"http://www.w3.org/2000/svg\" xmlns:xlink=\"http://www.w3.org/1999/xlink\" width=\"600\" height=\"400\" viewBox=\"0 0 2400 1600\">\n",
       "<defs>\n",
       "  <clipPath id=\"clip640\">\n",
       "    <rect x=\"0\" y=\"0\" width=\"2400\" height=\"1600\"/>\n",
       "  </clipPath>\n",
       "</defs>\n",
       "<path clip-path=\"url(#clip640)\" d=\"M0 1600 L2400 1600 L2400 0 L0 0  Z\" fill=\"#ffffff\" fill-rule=\"evenodd\" fill-opacity=\"1\"/>\n",
       "<defs>\n",
       "  <clipPath id=\"clip641\">\n",
       "    <rect x=\"480\" y=\"0\" width=\"1681\" height=\"1600\"/>\n",
       "  </clipPath>\n",
       "</defs>\n",
       "<path clip-path=\"url(#clip640)\" d=\"M186.274 1486.45 L2352.76 1486.45 L2352.76 47.2441 L186.274 47.2441  Z\" fill=\"#ffffff\" fill-rule=\"evenodd\" fill-opacity=\"1\"/>\n",
       "<defs>\n",
       "  <clipPath id=\"clip642\">\n",
       "    <rect x=\"186\" y=\"47\" width=\"2167\" height=\"1440\"/>\n",
       "  </clipPath>\n",
       "</defs>\n",
       "<polyline clip-path=\"url(#clip642)\" style=\"stroke:#000000; stroke-linecap:round; stroke-linejoin:round; stroke-width:2; stroke-opacity:0.1; fill:none\" points=\"247.59,1486.45 247.59,47.2441 \"/>\n",
       "<polyline clip-path=\"url(#clip642)\" style=\"stroke:#000000; stroke-linecap:round; stroke-linejoin:round; stroke-width:2; stroke-opacity:0.1; fill:none\" points=\"758.552,1486.45 758.552,47.2441 \"/>\n",
       "<polyline clip-path=\"url(#clip642)\" style=\"stroke:#000000; stroke-linecap:round; stroke-linejoin:round; stroke-width:2; stroke-opacity:0.1; fill:none\" points=\"1269.51,1486.45 1269.51,47.2441 \"/>\n",
       "<polyline clip-path=\"url(#clip642)\" style=\"stroke:#000000; stroke-linecap:round; stroke-linejoin:round; stroke-width:2; stroke-opacity:0.1; fill:none\" points=\"1780.48,1486.45 1780.48,47.2441 \"/>\n",
       "<polyline clip-path=\"url(#clip642)\" style=\"stroke:#000000; stroke-linecap:round; stroke-linejoin:round; stroke-width:2; stroke-opacity:0.1; fill:none\" points=\"2291.44,1486.45 2291.44,47.2441 \"/>\n",
       "<polyline clip-path=\"url(#clip640)\" style=\"stroke:#000000; stroke-linecap:round; stroke-linejoin:round; stroke-width:4; stroke-opacity:1; fill:none\" points=\"186.274,1486.45 2352.76,1486.45 \"/>\n",
       "<polyline clip-path=\"url(#clip640)\" style=\"stroke:#000000; stroke-linecap:round; stroke-linejoin:round; stroke-width:4; stroke-opacity:1; fill:none\" points=\"247.59,1486.45 247.59,1467.55 \"/>\n",
       "<polyline clip-path=\"url(#clip640)\" style=\"stroke:#000000; stroke-linecap:round; stroke-linejoin:round; stroke-width:4; stroke-opacity:1; fill:none\" points=\"758.552,1486.45 758.552,1467.55 \"/>\n",
       "<polyline clip-path=\"url(#clip640)\" style=\"stroke:#000000; stroke-linecap:round; stroke-linejoin:round; stroke-width:4; stroke-opacity:1; fill:none\" points=\"1269.51,1486.45 1269.51,1467.55 \"/>\n",
       "<polyline clip-path=\"url(#clip640)\" style=\"stroke:#000000; stroke-linecap:round; stroke-linejoin:round; stroke-width:4; stroke-opacity:1; fill:none\" points=\"1780.48,1486.45 1780.48,1467.55 \"/>\n",
       "<polyline clip-path=\"url(#clip640)\" style=\"stroke:#000000; stroke-linecap:round; stroke-linejoin:round; stroke-width:4; stroke-opacity:1; fill:none\" points=\"2291.44,1486.45 2291.44,1467.55 \"/>\n",
       "<path clip-path=\"url(#clip640)\" d=\"M209.893 1517.37 Q206.282 1517.37 204.453 1520.93 Q202.648 1524.47 202.648 1531.6 Q202.648 1538.71 204.453 1542.27 Q206.282 1545.82 209.893 1545.82 Q213.527 1545.82 215.333 1542.27 Q217.161 1538.71 217.161 1531.6 Q217.161 1524.47 215.333 1520.93 Q213.527 1517.37 209.893 1517.37 M209.893 1513.66 Q215.703 1513.66 218.759 1518.27 Q221.837 1522.85 221.837 1531.6 Q221.837 1540.33 218.759 1544.94 Q215.703 1549.52 209.893 1549.52 Q204.083 1549.52 201.004 1544.94 Q197.949 1540.33 197.949 1531.6 Q197.949 1522.85 201.004 1518.27 Q204.083 1513.66 209.893 1513.66 Z\" fill=\"#000000\" fill-rule=\"nonzero\" fill-opacity=\"1\" /><path clip-path=\"url(#clip640)\" d=\"M230.055 1542.97 L234.939 1542.97 L234.939 1548.85 L230.055 1548.85 L230.055 1542.97 Z\" fill=\"#000000\" fill-rule=\"nonzero\" fill-opacity=\"1\" /><path clip-path=\"url(#clip640)\" d=\"M255.124 1517.37 Q251.513 1517.37 249.684 1520.93 Q247.879 1524.47 247.879 1531.6 Q247.879 1538.71 249.684 1542.27 Q251.513 1545.82 255.124 1545.82 Q258.758 1545.82 260.564 1542.27 Q262.393 1538.71 262.393 1531.6 Q262.393 1524.47 260.564 1520.93 Q258.758 1517.37 255.124 1517.37 M255.124 1513.66 Q260.934 1513.66 263.99 1518.27 Q267.069 1522.85 267.069 1531.6 Q267.069 1540.33 263.99 1544.94 Q260.934 1549.52 255.124 1549.52 Q249.314 1549.52 246.235 1544.94 Q243.18 1540.33 243.18 1531.6 Q243.18 1522.85 246.235 1518.27 Q249.314 1513.66 255.124 1513.66 Z\" fill=\"#000000\" fill-rule=\"nonzero\" fill-opacity=\"1\" /><path clip-path=\"url(#clip640)\" d=\"M285.286 1517.37 Q281.675 1517.37 279.846 1520.93 Q278.041 1524.47 278.041 1531.6 Q278.041 1538.71 279.846 1542.27 Q281.675 1545.82 285.286 1545.82 Q288.92 1545.82 290.726 1542.27 Q292.555 1538.71 292.555 1531.6 Q292.555 1524.47 290.726 1520.93 Q288.92 1517.37 285.286 1517.37 M285.286 1513.66 Q291.096 1513.66 294.152 1518.27 Q297.23 1522.85 297.23 1531.6 Q297.23 1540.33 294.152 1544.94 Q291.096 1549.52 285.286 1549.52 Q279.476 1549.52 276.397 1544.94 Q273.342 1540.33 273.342 1531.6 Q273.342 1522.85 276.397 1518.27 Q279.476 1513.66 285.286 1513.66 Z\" fill=\"#000000\" fill-rule=\"nonzero\" fill-opacity=\"1\" /><path clip-path=\"url(#clip640)\" d=\"M721.353 1517.37 Q717.742 1517.37 715.914 1520.93 Q714.108 1524.47 714.108 1531.6 Q714.108 1538.71 715.914 1542.27 Q717.742 1545.82 721.353 1545.82 Q724.988 1545.82 726.793 1542.27 Q728.622 1538.71 728.622 1531.6 Q728.622 1524.47 726.793 1520.93 Q724.988 1517.37 721.353 1517.37 M721.353 1513.66 Q727.164 1513.66 730.219 1518.27 Q733.298 1522.85 733.298 1531.6 Q733.298 1540.33 730.219 1544.94 Q727.164 1549.52 721.353 1549.52 Q715.543 1549.52 712.465 1544.94 Q709.409 1540.33 709.409 1531.6 Q709.409 1522.85 712.465 1518.27 Q715.543 1513.66 721.353 1513.66 Z\" fill=\"#000000\" fill-rule=\"nonzero\" fill-opacity=\"1\" /><path clip-path=\"url(#clip640)\" d=\"M741.515 1542.97 L746.4 1542.97 L746.4 1548.85 L741.515 1548.85 L741.515 1542.97 Z\" fill=\"#000000\" fill-rule=\"nonzero\" fill-opacity=\"1\" /><path clip-path=\"url(#clip640)\" d=\"M760.612 1544.91 L776.932 1544.91 L776.932 1548.85 L754.987 1548.85 L754.987 1544.91 Q757.649 1542.16 762.233 1537.53 Q766.839 1532.88 768.02 1531.53 Q770.265 1529.01 771.145 1527.27 Q772.048 1525.51 772.048 1523.82 Q772.048 1521.07 770.103 1519.33 Q768.182 1517.6 765.08 1517.6 Q762.881 1517.6 760.427 1518.36 Q757.997 1519.13 755.219 1520.68 L755.219 1515.95 Q758.043 1514.82 760.497 1514.24 Q762.95 1513.66 764.987 1513.66 Q770.358 1513.66 773.552 1516.35 Q776.747 1519.03 776.747 1523.52 Q776.747 1525.65 775.936 1527.57 Q775.149 1529.47 773.043 1532.07 Q772.464 1532.74 769.362 1535.95 Q766.261 1539.15 760.612 1544.91 Z\" fill=\"#000000\" fill-rule=\"nonzero\" fill-opacity=\"1\" /><path clip-path=\"url(#clip640)\" d=\"M786.793 1514.29 L805.149 1514.29 L805.149 1518.22 L791.075 1518.22 L791.075 1526.7 Q792.094 1526.35 793.112 1526.19 Q794.131 1526 795.149 1526 Q800.936 1526 804.316 1529.17 Q807.695 1532.34 807.695 1537.76 Q807.695 1543.34 804.223 1546.44 Q800.751 1549.52 794.432 1549.52 Q792.256 1549.52 789.987 1549.15 Q787.742 1548.78 785.335 1548.04 L785.335 1543.34 Q787.418 1544.47 789.64 1545.03 Q791.862 1545.58 794.339 1545.58 Q798.344 1545.58 800.682 1543.48 Q803.02 1541.37 803.02 1537.76 Q803.02 1534.15 800.682 1532.04 Q798.344 1529.94 794.339 1529.94 Q792.464 1529.94 790.589 1530.35 Q788.737 1530.77 786.793 1531.65 L786.793 1514.29 Z\" fill=\"#000000\" fill-rule=\"nonzero\" fill-opacity=\"1\" /><path clip-path=\"url(#clip640)\" d=\"M1231.82 1517.37 Q1228.21 1517.37 1226.38 1520.93 Q1224.57 1524.47 1224.57 1531.6 Q1224.57 1538.71 1226.38 1542.27 Q1228.21 1545.82 1231.82 1545.82 Q1235.45 1545.82 1237.26 1542.27 Q1239.09 1538.71 1239.09 1531.6 Q1239.09 1524.47 1237.26 1520.93 Q1235.45 1517.37 1231.82 1517.37 M1231.82 1513.66 Q1237.63 1513.66 1240.68 1518.27 Q1243.76 1522.85 1243.76 1531.6 Q1243.76 1540.33 1240.68 1544.94 Q1237.63 1549.52 1231.82 1549.52 Q1226.01 1549.52 1222.93 1544.94 Q1219.87 1540.33 1219.87 1531.6 Q1219.87 1522.85 1222.93 1518.27 Q1226.01 1513.66 1231.82 1513.66 Z\" fill=\"#000000\" fill-rule=\"nonzero\" fill-opacity=\"1\" /><path clip-path=\"url(#clip640)\" d=\"M1251.98 1542.97 L1256.86 1542.97 L1256.86 1548.85 L1251.98 1548.85 L1251.98 1542.97 Z\" fill=\"#000000\" fill-rule=\"nonzero\" fill-opacity=\"1\" /><path clip-path=\"url(#clip640)\" d=\"M1267.1 1514.29 L1285.45 1514.29 L1285.45 1518.22 L1271.38 1518.22 L1271.38 1526.7 Q1272.4 1526.35 1273.42 1526.19 Q1274.43 1526 1275.45 1526 Q1281.24 1526 1284.62 1529.17 Q1288 1532.34 1288 1537.76 Q1288 1543.34 1284.53 1546.44 Q1281.05 1549.52 1274.73 1549.52 Q1272.56 1549.52 1270.29 1549.15 Q1268.05 1548.78 1265.64 1548.04 L1265.64 1543.34 Q1267.72 1544.47 1269.94 1545.03 Q1272.17 1545.58 1274.64 1545.58 Q1278.65 1545.58 1280.98 1543.48 Q1283.32 1541.37 1283.32 1537.76 Q1283.32 1534.15 1280.98 1532.04 Q1278.65 1529.94 1274.64 1529.94 Q1272.77 1529.94 1270.89 1530.35 Q1269.04 1530.77 1267.1 1531.65 L1267.1 1514.29 Z\" fill=\"#000000\" fill-rule=\"nonzero\" fill-opacity=\"1\" /><path clip-path=\"url(#clip640)\" d=\"M1307.21 1517.37 Q1303.6 1517.37 1301.77 1520.93 Q1299.97 1524.47 1299.97 1531.6 Q1299.97 1538.71 1301.77 1542.27 Q1303.6 1545.82 1307.21 1545.82 Q1310.85 1545.82 1312.65 1542.27 Q1314.48 1538.71 1314.48 1531.6 Q1314.48 1524.47 1312.65 1520.93 Q1310.85 1517.37 1307.21 1517.37 M1307.21 1513.66 Q1313.02 1513.66 1316.08 1518.27 Q1319.16 1522.85 1319.16 1531.6 Q1319.16 1540.33 1316.08 1544.94 Q1313.02 1549.52 1307.21 1549.52 Q1301.4 1549.52 1298.32 1544.94 Q1295.27 1540.33 1295.27 1531.6 Q1295.27 1522.85 1298.32 1518.27 Q1301.4 1513.66 1307.21 1513.66 Z\" fill=\"#000000\" fill-rule=\"nonzero\" fill-opacity=\"1\" /><path clip-path=\"url(#clip640)\" d=\"M1743.28 1517.37 Q1739.67 1517.37 1737.84 1520.93 Q1736.03 1524.47 1736.03 1531.6 Q1736.03 1538.71 1737.84 1542.27 Q1739.67 1545.82 1743.28 1545.82 Q1746.91 1545.82 1748.72 1542.27 Q1750.55 1538.71 1750.55 1531.6 Q1750.55 1524.47 1748.72 1520.93 Q1746.91 1517.37 1743.28 1517.37 M1743.28 1513.66 Q1749.09 1513.66 1752.14 1518.27 Q1755.22 1522.85 1755.22 1531.6 Q1755.22 1540.33 1752.14 1544.94 Q1749.09 1549.52 1743.28 1549.52 Q1737.47 1549.52 1734.39 1544.94 Q1731.33 1540.33 1731.33 1531.6 Q1731.33 1522.85 1734.39 1518.27 Q1737.47 1513.66 1743.28 1513.66 Z\" fill=\"#000000\" fill-rule=\"nonzero\" fill-opacity=\"1\" /><path clip-path=\"url(#clip640)\" d=\"M1763.44 1542.97 L1768.32 1542.97 L1768.32 1548.85 L1763.44 1548.85 L1763.44 1542.97 Z\" fill=\"#000000\" fill-rule=\"nonzero\" fill-opacity=\"1\" /><path clip-path=\"url(#clip640)\" d=\"M1777.33 1514.29 L1799.55 1514.29 L1799.55 1516.28 L1787.01 1548.85 L1782.12 1548.85 L1793.93 1518.22 L1777.33 1518.22 L1777.33 1514.29 Z\" fill=\"#000000\" fill-rule=\"nonzero\" fill-opacity=\"1\" /><path clip-path=\"url(#clip640)\" d=\"M1808.72 1514.29 L1827.07 1514.29 L1827.07 1518.22 L1813 1518.22 L1813 1526.7 Q1814.02 1526.35 1815.04 1526.19 Q1816.06 1526 1817.07 1526 Q1822.86 1526 1826.24 1529.17 Q1829.62 1532.34 1829.62 1537.76 Q1829.62 1543.34 1826.15 1546.44 Q1822.68 1549.52 1816.36 1549.52 Q1814.18 1549.52 1811.91 1549.15 Q1809.67 1548.78 1807.26 1548.04 L1807.26 1543.34 Q1809.34 1544.47 1811.57 1545.03 Q1813.79 1545.58 1816.26 1545.58 Q1820.27 1545.58 1822.61 1543.48 Q1824.95 1541.37 1824.95 1537.76 Q1824.95 1534.15 1822.61 1532.04 Q1820.27 1529.94 1816.26 1529.94 Q1814.39 1529.94 1812.51 1530.35 Q1810.66 1530.77 1808.72 1531.65 L1808.72 1514.29 Z\" fill=\"#000000\" fill-rule=\"nonzero\" fill-opacity=\"1\" /><path clip-path=\"url(#clip640)\" d=\"M2243.51 1544.91 L2251.15 1544.91 L2251.15 1518.55 L2242.84 1520.21 L2242.84 1515.95 L2251.1 1514.29 L2255.78 1514.29 L2255.78 1544.91 L2263.42 1544.91 L2263.42 1548.85 L2243.51 1548.85 L2243.51 1544.91 Z\" fill=\"#000000\" fill-rule=\"nonzero\" fill-opacity=\"1\" /><path clip-path=\"url(#clip640)\" d=\"M2272.86 1542.97 L2277.75 1542.97 L2277.75 1548.85 L2272.86 1548.85 L2272.86 1542.97 Z\" fill=\"#000000\" fill-rule=\"nonzero\" fill-opacity=\"1\" /><path clip-path=\"url(#clip640)\" d=\"M2297.93 1517.37 Q2294.32 1517.37 2292.49 1520.93 Q2290.69 1524.47 2290.69 1531.6 Q2290.69 1538.71 2292.49 1542.27 Q2294.32 1545.82 2297.93 1545.82 Q2301.57 1545.82 2303.37 1542.27 Q2305.2 1538.71 2305.2 1531.6 Q2305.2 1524.47 2303.37 1520.93 Q2301.57 1517.37 2297.93 1517.37 M2297.93 1513.66 Q2303.74 1513.66 2306.8 1518.27 Q2309.88 1522.85 2309.88 1531.6 Q2309.88 1540.33 2306.8 1544.94 Q2303.74 1549.52 2297.93 1549.52 Q2292.12 1549.52 2289.04 1544.94 Q2285.99 1540.33 2285.99 1531.6 Q2285.99 1522.85 2289.04 1518.27 Q2292.12 1513.66 2297.93 1513.66 Z\" fill=\"#000000\" fill-rule=\"nonzero\" fill-opacity=\"1\" /><path clip-path=\"url(#clip640)\" d=\"M2328.1 1517.37 Q2324.48 1517.37 2322.66 1520.93 Q2320.85 1524.47 2320.85 1531.6 Q2320.85 1538.71 2322.66 1542.27 Q2324.48 1545.82 2328.1 1545.82 Q2331.73 1545.82 2333.54 1542.27 Q2335.36 1538.71 2335.36 1531.6 Q2335.36 1524.47 2333.54 1520.93 Q2331.73 1517.37 2328.1 1517.37 M2328.1 1513.66 Q2333.91 1513.66 2336.96 1518.27 Q2340.04 1522.85 2340.04 1531.6 Q2340.04 1540.33 2336.96 1544.94 Q2333.91 1549.52 2328.1 1549.52 Q2322.29 1549.52 2319.21 1544.94 Q2316.15 1540.33 2316.15 1531.6 Q2316.15 1522.85 2319.21 1518.27 Q2322.29 1513.66 2328.1 1513.66 Z\" fill=\"#000000\" fill-rule=\"nonzero\" fill-opacity=\"1\" /><polyline clip-path=\"url(#clip642)\" style=\"stroke:#000000; stroke-linecap:round; stroke-linejoin:round; stroke-width:2; stroke-opacity:0.1; fill:none\" points=\"186.274,1445.72 2352.76,1445.72 \"/>\n",
       "<polyline clip-path=\"url(#clip642)\" style=\"stroke:#000000; stroke-linecap:round; stroke-linejoin:round; stroke-width:2; stroke-opacity:0.1; fill:none\" points=\"186.274,1106.28 2352.76,1106.28 \"/>\n",
       "<polyline clip-path=\"url(#clip642)\" style=\"stroke:#000000; stroke-linecap:round; stroke-linejoin:round; stroke-width:2; stroke-opacity:0.1; fill:none\" points=\"186.274,766.846 2352.76,766.846 \"/>\n",
       "<polyline clip-path=\"url(#clip642)\" style=\"stroke:#000000; stroke-linecap:round; stroke-linejoin:round; stroke-width:2; stroke-opacity:0.1; fill:none\" points=\"186.274,427.411 2352.76,427.411 \"/>\n",
       "<polyline clip-path=\"url(#clip642)\" style=\"stroke:#000000; stroke-linecap:round; stroke-linejoin:round; stroke-width:2; stroke-opacity:0.1; fill:none\" points=\"186.274,87.9763 2352.76,87.9763 \"/>\n",
       "<polyline clip-path=\"url(#clip640)\" style=\"stroke:#000000; stroke-linecap:round; stroke-linejoin:round; stroke-width:4; stroke-opacity:1; fill:none\" points=\"186.274,1486.45 186.274,47.2441 \"/>\n",
       "<polyline clip-path=\"url(#clip640)\" style=\"stroke:#000000; stroke-linecap:round; stroke-linejoin:round; stroke-width:4; stroke-opacity:1; fill:none\" points=\"186.274,1445.72 205.172,1445.72 \"/>\n",
       "<polyline clip-path=\"url(#clip640)\" style=\"stroke:#000000; stroke-linecap:round; stroke-linejoin:round; stroke-width:4; stroke-opacity:1; fill:none\" points=\"186.274,1106.28 205.172,1106.28 \"/>\n",
       "<polyline clip-path=\"url(#clip640)\" style=\"stroke:#000000; stroke-linecap:round; stroke-linejoin:round; stroke-width:4; stroke-opacity:1; fill:none\" points=\"186.274,766.846 205.172,766.846 \"/>\n",
       "<polyline clip-path=\"url(#clip640)\" style=\"stroke:#000000; stroke-linecap:round; stroke-linejoin:round; stroke-width:4; stroke-opacity:1; fill:none\" points=\"186.274,427.411 205.172,427.411 \"/>\n",
       "<polyline clip-path=\"url(#clip640)\" style=\"stroke:#000000; stroke-linecap:round; stroke-linejoin:round; stroke-width:4; stroke-opacity:1; fill:none\" points=\"186.274,87.9763 205.172,87.9763 \"/>\n",
       "<path clip-path=\"url(#clip640)\" d=\"M62.9365 1431.51 Q59.3254 1431.51 57.4967 1435.08 Q55.6912 1438.62 55.6912 1445.75 Q55.6912 1452.86 57.4967 1456.42 Q59.3254 1459.96 62.9365 1459.96 Q66.5707 1459.96 68.3763 1456.42 Q70.205 1452.86 70.205 1445.75 Q70.205 1438.62 68.3763 1435.08 Q66.5707 1431.51 62.9365 1431.51 M62.9365 1427.81 Q68.7467 1427.81 71.8022 1432.42 Q74.8809 1437 74.8809 1445.75 Q74.8809 1454.48 71.8022 1459.08 Q68.7467 1463.67 62.9365 1463.67 Q57.1264 1463.67 54.0477 1459.08 Q50.9921 1454.48 50.9921 1445.75 Q50.9921 1437 54.0477 1432.42 Q57.1264 1427.81 62.9365 1427.81 Z\" fill=\"#000000\" fill-rule=\"nonzero\" fill-opacity=\"1\" /><path clip-path=\"url(#clip640)\" d=\"M83.0984 1457.12 L87.9827 1457.12 L87.9827 1463 L83.0984 1463 L83.0984 1457.12 Z\" fill=\"#000000\" fill-rule=\"nonzero\" fill-opacity=\"1\" /><path clip-path=\"url(#clip640)\" d=\"M108.168 1431.51 Q104.557 1431.51 102.728 1435.08 Q100.922 1438.62 100.922 1445.75 Q100.922 1452.86 102.728 1456.42 Q104.557 1459.96 108.168 1459.96 Q111.802 1459.96 113.608 1456.42 Q115.436 1452.86 115.436 1445.75 Q115.436 1438.62 113.608 1435.08 Q111.802 1431.51 108.168 1431.51 M108.168 1427.81 Q113.978 1427.81 117.033 1432.42 Q120.112 1437 120.112 1445.75 Q120.112 1454.48 117.033 1459.08 Q113.978 1463.67 108.168 1463.67 Q102.358 1463.67 99.2789 1459.08 Q96.2234 1454.48 96.2234 1445.75 Q96.2234 1437 99.2789 1432.42 Q102.358 1427.81 108.168 1427.81 Z\" fill=\"#000000\" fill-rule=\"nonzero\" fill-opacity=\"1\" /><path clip-path=\"url(#clip640)\" d=\"M138.33 1431.51 Q134.719 1431.51 132.89 1435.08 Q131.084 1438.62 131.084 1445.75 Q131.084 1452.86 132.89 1456.42 Q134.719 1459.96 138.33 1459.96 Q141.964 1459.96 143.769 1456.42 Q145.598 1452.86 145.598 1445.75 Q145.598 1438.62 143.769 1435.08 Q141.964 1431.51 138.33 1431.51 M138.33 1427.81 Q144.14 1427.81 147.195 1432.42 Q150.274 1437 150.274 1445.75 Q150.274 1454.48 147.195 1459.08 Q144.14 1463.67 138.33 1463.67 Q132.519 1463.67 129.441 1459.08 Q126.385 1454.48 126.385 1445.75 Q126.385 1437 129.441 1432.42 Q132.519 1427.81 138.33 1427.81 Z\" fill=\"#000000\" fill-rule=\"nonzero\" fill-opacity=\"1\" /><path clip-path=\"url(#clip640)\" d=\"M63.9319 1092.08 Q60.3208 1092.08 58.4921 1095.64 Q56.6865 1099.19 56.6865 1106.32 Q56.6865 1113.42 58.4921 1116.99 Q60.3208 1120.53 63.9319 1120.53 Q67.5661 1120.53 69.3717 1116.99 Q71.2004 1113.42 71.2004 1106.32 Q71.2004 1099.19 69.3717 1095.64 Q67.5661 1092.08 63.9319 1092.08 M63.9319 1088.38 Q69.742 1088.38 72.7976 1092.98 Q75.8763 1097.57 75.8763 1106.32 Q75.8763 1115.04 72.7976 1119.65 Q69.742 1124.23 63.9319 1124.23 Q58.1217 1124.23 55.043 1119.65 Q51.9875 1115.04 51.9875 1106.32 Q51.9875 1097.57 55.043 1092.98 Q58.1217 1088.38 63.9319 1088.38 Z\" fill=\"#000000\" fill-rule=\"nonzero\" fill-opacity=\"1\" /><path clip-path=\"url(#clip640)\" d=\"M84.0938 1117.68 L88.978 1117.68 L88.978 1123.56 L84.0938 1123.56 L84.0938 1117.68 Z\" fill=\"#000000\" fill-rule=\"nonzero\" fill-opacity=\"1\" /><path clip-path=\"url(#clip640)\" d=\"M103.191 1119.63 L119.51 1119.63 L119.51 1123.56 L97.566 1123.56 L97.566 1119.63 Q100.228 1116.87 104.811 1112.24 Q109.418 1107.59 110.598 1106.25 Q112.844 1103.72 113.723 1101.99 Q114.626 1100.23 114.626 1098.54 Q114.626 1095.78 112.682 1094.05 Q110.76 1092.31 107.658 1092.31 Q105.459 1092.31 103.006 1093.07 Q100.575 1093.84 97.7974 1095.39 L97.7974 1090.67 Q100.621 1089.53 103.075 1088.95 Q105.529 1088.38 107.566 1088.38 Q112.936 1088.38 116.131 1091.06 Q119.325 1093.75 119.325 1098.24 Q119.325 1100.37 118.515 1102.29 Q117.728 1104.19 115.621 1106.78 Q115.043 1107.45 111.941 1110.67 Q108.839 1113.86 103.191 1119.63 Z\" fill=\"#000000\" fill-rule=\"nonzero\" fill-opacity=\"1\" /><path clip-path=\"url(#clip640)\" d=\"M129.371 1089 L147.728 1089 L147.728 1092.94 L133.654 1092.94 L133.654 1101.41 Q134.672 1101.06 135.691 1100.9 Q136.709 1100.71 137.728 1100.71 Q143.515 1100.71 146.894 1103.89 Q150.274 1107.06 150.274 1112.47 Q150.274 1118.05 146.802 1121.15 Q143.33 1124.23 137.01 1124.23 Q134.834 1124.23 132.566 1123.86 Q130.32 1123.49 127.913 1122.75 L127.913 1118.05 Q129.996 1119.19 132.219 1119.74 Q134.441 1120.3 136.918 1120.3 Q140.922 1120.3 143.26 1118.19 Q145.598 1116.08 145.598 1112.47 Q145.598 1108.86 143.26 1106.76 Q140.922 1104.65 136.918 1104.65 Q135.043 1104.65 133.168 1105.07 Q131.316 1105.48 129.371 1106.36 L129.371 1089 Z\" fill=\"#000000\" fill-rule=\"nonzero\" fill-opacity=\"1\" /><path clip-path=\"url(#clip640)\" d=\"M62.9365 752.645 Q59.3254 752.645 57.4967 756.209 Q55.6912 759.751 55.6912 766.881 Q55.6912 773.987 57.4967 777.552 Q59.3254 781.094 62.9365 781.094 Q66.5707 781.094 68.3763 777.552 Q70.205 773.987 70.205 766.881 Q70.205 759.751 68.3763 756.209 Q66.5707 752.645 62.9365 752.645 M62.9365 748.941 Q68.7467 748.941 71.8022 753.547 Q74.8809 758.131 74.8809 766.881 Q74.8809 775.608 71.8022 780.214 Q68.7467 784.797 62.9365 784.797 Q57.1264 784.797 54.0477 780.214 Q50.9921 775.608 50.9921 766.881 Q50.9921 758.131 54.0477 753.547 Q57.1264 748.941 62.9365 748.941 Z\" fill=\"#000000\" fill-rule=\"nonzero\" fill-opacity=\"1\" /><path clip-path=\"url(#clip640)\" d=\"M83.0984 778.246 L87.9827 778.246 L87.9827 784.126 L83.0984 784.126 L83.0984 778.246 Z\" fill=\"#000000\" fill-rule=\"nonzero\" fill-opacity=\"1\" /><path clip-path=\"url(#clip640)\" d=\"M98.2141 749.566 L116.57 749.566 L116.57 753.501 L102.496 753.501 L102.496 761.973 Q103.515 761.626 104.534 761.464 Q105.552 761.279 106.571 761.279 Q112.358 761.279 115.737 764.45 Q119.117 767.621 119.117 773.038 Q119.117 778.617 115.645 781.719 Q112.172 784.797 105.853 784.797 Q103.677 784.797 101.409 784.427 Q99.1632 784.057 96.7558 783.316 L96.7558 778.617 Q98.8391 779.751 101.061 780.307 Q103.284 780.862 105.76 780.862 Q109.765 780.862 112.103 778.756 Q114.441 776.649 114.441 773.038 Q114.441 769.427 112.103 767.321 Q109.765 765.214 105.76 765.214 Q103.885 765.214 102.01 765.631 Q100.159 766.047 98.2141 766.927 L98.2141 749.566 Z\" fill=\"#000000\" fill-rule=\"nonzero\" fill-opacity=\"1\" /><path clip-path=\"url(#clip640)\" d=\"M138.33 752.645 Q134.719 752.645 132.89 756.209 Q131.084 759.751 131.084 766.881 Q131.084 773.987 132.89 777.552 Q134.719 781.094 138.33 781.094 Q141.964 781.094 143.769 777.552 Q145.598 773.987 145.598 766.881 Q145.598 759.751 143.769 756.209 Q141.964 752.645 138.33 752.645 M138.33 748.941 Q144.14 748.941 147.195 753.547 Q150.274 758.131 150.274 766.881 Q150.274 775.608 147.195 780.214 Q144.14 784.797 138.33 784.797 Q132.519 784.797 129.441 780.214 Q126.385 775.608 126.385 766.881 Q126.385 758.131 129.441 753.547 Q132.519 748.941 138.33 748.941 Z\" fill=\"#000000\" fill-rule=\"nonzero\" fill-opacity=\"1\" /><path clip-path=\"url(#clip640)\" d=\"M63.9319 413.21 Q60.3208 413.21 58.4921 416.775 Q56.6865 420.316 56.6865 427.446 Q56.6865 434.552 58.4921 438.117 Q60.3208 441.659 63.9319 441.659 Q67.5661 441.659 69.3717 438.117 Q71.2004 434.552 71.2004 427.446 Q71.2004 420.316 69.3717 416.775 Q67.5661 413.21 63.9319 413.21 M63.9319 409.506 Q69.742 409.506 72.7976 414.113 Q75.8763 418.696 75.8763 427.446 Q75.8763 436.173 72.7976 440.779 Q69.742 445.362 63.9319 445.362 Q58.1217 445.362 55.043 440.779 Q51.9875 436.173 51.9875 427.446 Q51.9875 418.696 55.043 414.113 Q58.1217 409.506 63.9319 409.506 Z\" fill=\"#000000\" fill-rule=\"nonzero\" fill-opacity=\"1\" /><path clip-path=\"url(#clip640)\" d=\"M84.0938 438.812 L88.978 438.812 L88.978 444.691 L84.0938 444.691 L84.0938 438.812 Z\" fill=\"#000000\" fill-rule=\"nonzero\" fill-opacity=\"1\" /><path clip-path=\"url(#clip640)\" d=\"M97.9826 410.131 L120.205 410.131 L120.205 412.122 L107.658 444.691 L102.774 444.691 L114.58 414.066 L97.9826 414.066 L97.9826 410.131 Z\" fill=\"#000000\" fill-rule=\"nonzero\" fill-opacity=\"1\" /><path clip-path=\"url(#clip640)\" d=\"M129.371 410.131 L147.728 410.131 L147.728 414.066 L133.654 414.066 L133.654 422.538 Q134.672 422.191 135.691 422.029 Q136.709 421.844 137.728 421.844 Q143.515 421.844 146.894 425.015 Q150.274 428.187 150.274 433.603 Q150.274 439.182 146.802 442.284 Q143.33 445.362 137.01 445.362 Q134.834 445.362 132.566 444.992 Q130.32 444.622 127.913 443.881 L127.913 439.182 Q129.996 440.316 132.219 440.872 Q134.441 441.427 136.918 441.427 Q140.922 441.427 143.26 439.321 Q145.598 437.214 145.598 433.603 Q145.598 429.992 143.26 427.886 Q140.922 425.779 136.918 425.779 Q135.043 425.779 133.168 426.196 Q131.316 426.613 129.371 427.492 L129.371 410.131 Z\" fill=\"#000000\" fill-rule=\"nonzero\" fill-opacity=\"1\" /><path clip-path=\"url(#clip640)\" d=\"M53.7467 101.321 L61.3856 101.321 L61.3856 74.9555 L53.0754 76.6222 L53.0754 72.3629 L61.3393 70.6963 L66.0152 70.6963 L66.0152 101.321 L73.654 101.321 L73.654 105.256 L53.7467 105.256 L53.7467 101.321 Z\" fill=\"#000000\" fill-rule=\"nonzero\" fill-opacity=\"1\" /><path clip-path=\"url(#clip640)\" d=\"M83.0984 99.3767 L87.9827 99.3767 L87.9827 105.256 L83.0984 105.256 L83.0984 99.3767 Z\" fill=\"#000000\" fill-rule=\"nonzero\" fill-opacity=\"1\" /><path clip-path=\"url(#clip640)\" d=\"M108.168 73.775 Q104.557 73.775 102.728 77.3398 Q100.922 80.8814 100.922 88.011 Q100.922 95.1174 102.728 98.6822 Q104.557 102.224 108.168 102.224 Q111.802 102.224 113.608 98.6822 Q115.436 95.1174 115.436 88.011 Q115.436 80.8814 113.608 77.3398 Q111.802 73.775 108.168 73.775 M108.168 70.0713 Q113.978 70.0713 117.033 74.6777 Q120.112 79.261 120.112 88.011 Q120.112 96.7378 117.033 101.344 Q113.978 105.928 108.168 105.928 Q102.358 105.928 99.2789 101.344 Q96.2234 96.7378 96.2234 88.011 Q96.2234 79.261 99.2789 74.6777 Q102.358 70.0713 108.168 70.0713 Z\" fill=\"#000000\" fill-rule=\"nonzero\" fill-opacity=\"1\" /><path clip-path=\"url(#clip640)\" d=\"M138.33 73.775 Q134.719 73.775 132.89 77.3398 Q131.084 80.8814 131.084 88.011 Q131.084 95.1174 132.89 98.6822 Q134.719 102.224 138.33 102.224 Q141.964 102.224 143.769 98.6822 Q145.598 95.1174 145.598 88.011 Q145.598 80.8814 143.769 77.3398 Q141.964 73.775 138.33 73.775 M138.33 70.0713 Q144.14 70.0713 147.195 74.6777 Q150.274 79.261 150.274 88.011 Q150.274 96.7378 147.195 101.344 Q144.14 105.928 138.33 105.928 Q132.519 105.928 129.441 101.344 Q126.385 96.7378 126.385 88.011 Q126.385 79.261 129.441 74.6777 Q132.519 70.0713 138.33 70.0713 Z\" fill=\"#000000\" fill-rule=\"nonzero\" fill-opacity=\"1\" /><polyline clip-path=\"url(#clip642)\" style=\"stroke:#009af9; stroke-linecap:round; stroke-linejoin:round; stroke-width:4; stroke-opacity:1; fill:none\" points=\"247.59,1445.72 268.234,1391.27 288.879,1339.31 309.524,1288.25 330.169,1238.73 350.814,1191.97 371.459,1144.71 392.104,1101.45 412.749,1056.46 433.394,1014.8 454.039,974.933 474.684,934.931 495.329,897.764 515.974,862.518 536.619,825.871 557.264,792.537 577.909,759.06 598.554,726.393 619.199,696.452 639.844,666.293 660.489,639.694 681.134,612.069 701.779,585.253 722.424,559.627 743.069,536.029 763.713,511.743 784.358,488.916 805.003,467.977 825.648,446.689 846.293,427.396 866.938,408.908 887.583,390.226 908.228,372.991 928.873,356.389 949.518,339.371 970.163,324.956 990.808,310.73 1011.45,296.78 1032.1,283.395 1052.74,271.065 1073.39,259.892 1094.03,247.967 1114.68,237.49 1135.32,227.506 1155.97,217.462 1176.61,208.001 1197.26,199.381 1217.9,191.482 1238.55,183.485 1259.19,177.232 1279.84,169.422 1300.48,163.502 1321.13,156.744 1341.77,151.24 1362.42,145.807 1383.06,140.894 1403.71,136.105 1424.35,132.06 1445,127.712 1465.64,124.292 1486.29,120.466 1506.93,117.601 1527.58,114.688 1548.22,111.634 1568.87,108.917 1589.51,106.793 1610.16,104.576 1630.8,102.917 1651.45,100.758 1672.09,99.3592 1692.74,97.9608 1713.38,96.6552 1734.03,95.4397 1754.67,94.3944 1775.32,93.6347 1795.96,92.7047 1816.61,91.893 1837.25,91.2754 1857.9,90.6282 1878.54,90.1865 1899.19,89.7813 1919.83,89.4352 1940.48,89.1271 1961.12,88.9301 1981.77,88.6853 2002.41,88.5193 2023.06,88.3913 2043.7,88.2633 2064.35,88.1592 2084.99,88.1212 2105.64,88.0677 2126.28,88.0269 2146.93,88.0199 2167.57,87.9889 2188.22,87.9847 2208.86,87.9819 2229.51,87.9805 2250.15,87.9791 2270.8,87.9763 2291.44,87.9763 \"/>\n",
       "<polyline clip-path=\"url(#clip642)\" style=\"stroke:#e26f46; stroke-linecap:round; stroke-linejoin:round; stroke-width:4; stroke-opacity:1; fill:none\" points=\"247.59,1445.72 268.234,1441.99 288.879,1431.96 309.524,1417 330.169,1397.01 350.814,1374.27 371.459,1348.99 392.104,1321.53 412.749,1293.64 433.394,1265.4 454.039,1235.29 474.684,1207.22 495.329,1178.95 515.974,1151.23 536.619,1124.62 557.264,1099.81 577.909,1075.19 598.554,1051.24 619.199,1030.06 639.844,1009.92 660.489,992.009 681.134,975.077 701.779,959.155 722.424,946.232 743.069,932.223 763.713,921.467 784.358,910.665 805.003,902.611 825.648,892.428 846.293,885.854 866.938,879.374 887.583,874.956 908.228,870.419 928.873,865.737 949.518,863.509 970.163,859.129 990.808,857.876 1011.45,856.623 1032.1,854.623 1052.74,852.546 1073.39,852.812 1094.03,853.611 1114.68,851.989 1135.32,852.34 1155.97,852.109 1176.61,851.134 1197.26,852.081 1217.9,851.037 1238.55,853.447 1259.19,851.21 1279.84,853.04 1300.48,851.128 1321.13,851.597 1341.77,852.524 1362.42,852.403 1383.06,852.683 1403.71,851.709 1424.35,852.313 1445,852.638 1465.64,852.597 1486.29,853.724 1506.93,855.411 1527.58,856.145 1548.22,858.329 1568.87,861.038 1589.51,861.571 1610.16,866.96 1630.8,869.671 1651.45,875.105 1672.09,880.119 1692.74,886.547 1713.38,893.168 1734.03,901.598 1754.67,909.573 1775.32,920.487 1795.96,933.243 1816.61,945.211 1837.25,960.464 1857.9,974.732 1878.54,993.535 1899.19,1010.75 1919.83,1029.88 1940.48,1051.69 1961.12,1074.12 1981.77,1098.31 2002.41,1124.34 2023.06,1150.5 2043.7,1180.07 2064.35,1206.92 2084.99,1235.1 2105.64,1265.03 2126.28,1293.4 2146.93,1321.84 2167.57,1348.36 2188.22,1374.12 2208.86,1397.52 2229.51,1416.87 2250.15,1432.06 2270.8,1442.02 2291.44,1445.72 \"/>\n",
       "<polyline clip-path=\"url(#clip642)\" style=\"stroke:#3da44d; stroke-linecap:round; stroke-linejoin:round; stroke-width:4; stroke-opacity:1; fill:none\" points=\"247.59,1445.72 268.234,1442.73 288.879,1434.3 309.524,1421.36 330.169,1403.25 350.814,1381.87 371.459,1356.94 392.104,1329.2 412.749,1298.99 433.394,1266.62 454.039,1231.68 474.684,1196.18 495.329,1158.79 515.974,1121.68 536.619,1081.7 557.264,1044.09 577.909,1005.84 598.554,964.572 619.199,927.301 639.844,888.331 660.489,850.637 681.134,811.564 701.779,775.957 722.424,739.899 743.069,704.777 763.713,670.866 784.358,637.282 805.003,605.909 825.648,573.993 846.293,544.514 866.938,514.67 887.583,486.779 908.228,460.789 928.873,435.564 949.518,410.906 970.163,388.047 990.808,366.916 1011.45,347.027 1032.1,327.337 1052.74,307.888 1073.39,290.964 1094.03,274.222 1114.68,259.426 1135.32,245.196 1155.97,231.677 1176.61,218.962 1197.26,207.666 1217.9,196.428 1238.55,186.219 1259.19,177.166 1279.84,168.485 1300.48,160.783 1321.13,153.577 1341.77,146.586 1362.42,140.705 1383.06,135.649 1403.71,130.056 1424.35,125.7 1445,121.143 1465.64,117.187 1486.29,113.547 1506.93,111.123 1527.58,108.139 1548.22,105.653 1568.87,103.657 1589.51,101.391 1610.16,99.7981 1630.8,98.2379 1651.45,96.862 1672.09,95.7126 1692.74,94.6138 1713.38,93.5868 1734.03,92.7891 1754.67,92.0787 1775.32,91.4977 1795.96,90.9377 1816.61,90.4425 1837.25,89.9445 1857.9,89.6265 1878.54,89.3747 1899.19,89.1215 1919.83,88.9062 1940.48,88.7107 1961.12,88.608 1981.77,88.4419 2002.41,88.2984 2023.06,88.2576 2043.7,88.1915 2064.35,88.1395 2084.99,88.086 2105.64,88.0368 2126.28,88.0213 2146.93,88.01 2167.57,87.9918 2188.22,87.9833 2208.86,87.9763 2229.51,87.9763 2250.15,87.9763 2270.8,87.9763 2291.44,87.9763 \"/>\n",
       "<path clip-path=\"url(#clip640)\" d=\"M258.49 302.578 L497.893 302.578 L497.893 95.2176 L258.49 95.2176  Z\" fill=\"#ffffff\" fill-rule=\"evenodd\" fill-opacity=\"1\"/>\n",
       "<polyline clip-path=\"url(#clip640)\" style=\"stroke:#000000; stroke-linecap:round; stroke-linejoin:round; stroke-width:4; stroke-opacity:1; fill:none\" points=\"258.49,302.578 497.893,302.578 497.893,95.2176 258.49,95.2176 258.49,302.578 \"/>\n",
       "<polyline clip-path=\"url(#clip640)\" style=\"stroke:#009af9; stroke-linecap:round; stroke-linejoin:round; stroke-width:4; stroke-opacity:1; fill:none\" points=\"282.562,147.058 426.994,147.058 \"/>\n",
       "<path clip-path=\"url(#clip640)\" d=\"M451.738 160.402 L459.376 160.402 L459.376 134.037 L451.066 135.703 L451.066 131.444 L459.33 129.778 L464.006 129.778 L464.006 160.402 L471.645 160.402 L471.645 164.338 L451.738 164.338 L451.738 160.402 Z\" fill=\"#000000\" fill-rule=\"nonzero\" fill-opacity=\"1\" /><polyline clip-path=\"url(#clip640)\" style=\"stroke:#e26f46; stroke-linecap:round; stroke-linejoin:round; stroke-width:4; stroke-opacity:1; fill:none\" points=\"282.562,198.898 426.994,198.898 \"/>\n",
       "<path clip-path=\"url(#clip640)\" d=\"M456.691 212.242 L473.011 212.242 L473.011 216.178 L451.066 216.178 L451.066 212.242 Q453.728 209.488 458.312 204.858 Q462.918 200.205 464.099 198.863 Q466.344 196.34 467.224 194.604 Q468.126 192.844 468.126 191.155 Q468.126 188.4 466.182 186.664 Q464.261 184.928 461.159 184.928 Q458.96 184.928 456.506 185.692 Q454.075 186.455 451.298 188.006 L451.298 183.284 Q454.122 182.15 456.575 181.571 Q459.029 180.993 461.066 180.993 Q466.437 180.993 469.631 183.678 Q472.825 186.363 472.825 190.854 Q472.825 192.983 472.015 194.905 Q471.228 196.803 469.122 199.395 Q468.543 200.067 465.441 203.284 Q462.339 206.479 456.691 212.242 Z\" fill=\"#000000\" fill-rule=\"nonzero\" fill-opacity=\"1\" /><polyline clip-path=\"url(#clip640)\" style=\"stroke:#3da44d; stroke-linecap:round; stroke-linejoin:round; stroke-width:4; stroke-opacity:1; fill:none\" points=\"282.562,250.738 426.994,250.738 \"/>\n",
       "<path clip-path=\"url(#clip640)\" d=\"M466.691 249.383 Q470.048 250.101 471.923 252.369 Q473.821 254.638 473.821 257.971 Q473.821 263.087 470.302 265.888 Q466.784 268.689 460.302 268.689 Q458.126 268.689 455.812 268.249 Q453.52 267.832 451.066 266.976 L451.066 262.462 Q453.011 263.596 455.325 264.175 Q457.64 264.754 460.163 264.754 Q464.562 264.754 466.853 263.018 Q469.168 261.281 469.168 257.971 Q469.168 254.916 467.015 253.203 Q464.886 251.467 461.066 251.467 L457.038 251.467 L457.038 247.624 L461.251 247.624 Q464.7 247.624 466.529 246.258 Q468.358 244.87 468.358 242.277 Q468.358 239.615 466.46 238.203 Q464.585 236.768 461.066 236.768 Q459.145 236.768 456.946 237.184 Q454.747 237.601 452.108 238.481 L452.108 234.314 Q454.77 233.573 457.085 233.203 Q459.423 232.833 461.483 232.833 Q466.807 232.833 469.909 235.263 Q473.011 237.67 473.011 241.791 Q473.011 244.661 471.367 246.652 Q469.724 248.62 466.691 249.383 Z\" fill=\"#000000\" fill-rule=\"nonzero\" fill-opacity=\"1\" /></svg>\n"
      ],
      "text/html": [
       "<?xml version=\"1.0\" encoding=\"utf-8\"?>\n",
       "<svg xmlns=\"http://www.w3.org/2000/svg\" xmlns:xlink=\"http://www.w3.org/1999/xlink\" width=\"600\" height=\"400\" viewBox=\"0 0 2400 1600\">\n",
       "<defs>\n",
       "  <clipPath id=\"clip690\">\n",
       "    <rect x=\"0\" y=\"0\" width=\"2400\" height=\"1600\"/>\n",
       "  </clipPath>\n",
       "</defs>\n",
       "<path clip-path=\"url(#clip690)\" d=\"M0 1600 L2400 1600 L2400 0 L0 0  Z\" fill=\"#ffffff\" fill-rule=\"evenodd\" fill-opacity=\"1\"/>\n",
       "<defs>\n",
       "  <clipPath id=\"clip691\">\n",
       "    <rect x=\"480\" y=\"0\" width=\"1681\" height=\"1600\"/>\n",
       "  </clipPath>\n",
       "</defs>\n",
       "<path clip-path=\"url(#clip690)\" d=\"M186.274 1486.45 L2352.76 1486.45 L2352.76 47.2441 L186.274 47.2441  Z\" fill=\"#ffffff\" fill-rule=\"evenodd\" fill-opacity=\"1\"/>\n",
       "<defs>\n",
       "  <clipPath id=\"clip692\">\n",
       "    <rect x=\"186\" y=\"47\" width=\"2167\" height=\"1440\"/>\n",
       "  </clipPath>\n",
       "</defs>\n",
       "<polyline clip-path=\"url(#clip692)\" style=\"stroke:#000000; stroke-linecap:round; stroke-linejoin:round; stroke-width:2; stroke-opacity:0.1; fill:none\" points=\"247.59,1486.45 247.59,47.2441 \"/>\n",
       "<polyline clip-path=\"url(#clip692)\" style=\"stroke:#000000; stroke-linecap:round; stroke-linejoin:round; stroke-width:2; stroke-opacity:0.1; fill:none\" points=\"758.552,1486.45 758.552,47.2441 \"/>\n",
       "<polyline clip-path=\"url(#clip692)\" style=\"stroke:#000000; stroke-linecap:round; stroke-linejoin:round; stroke-width:2; stroke-opacity:0.1; fill:none\" points=\"1269.51,1486.45 1269.51,47.2441 \"/>\n",
       "<polyline clip-path=\"url(#clip692)\" style=\"stroke:#000000; stroke-linecap:round; stroke-linejoin:round; stroke-width:2; stroke-opacity:0.1; fill:none\" points=\"1780.48,1486.45 1780.48,47.2441 \"/>\n",
       "<polyline clip-path=\"url(#clip692)\" style=\"stroke:#000000; stroke-linecap:round; stroke-linejoin:round; stroke-width:2; stroke-opacity:0.1; fill:none\" points=\"2291.44,1486.45 2291.44,47.2441 \"/>\n",
       "<polyline clip-path=\"url(#clip690)\" style=\"stroke:#000000; stroke-linecap:round; stroke-linejoin:round; stroke-width:4; stroke-opacity:1; fill:none\" points=\"186.274,1486.45 2352.76,1486.45 \"/>\n",
       "<polyline clip-path=\"url(#clip690)\" style=\"stroke:#000000; stroke-linecap:round; stroke-linejoin:round; stroke-width:4; stroke-opacity:1; fill:none\" points=\"247.59,1486.45 247.59,1467.55 \"/>\n",
       "<polyline clip-path=\"url(#clip690)\" style=\"stroke:#000000; stroke-linecap:round; stroke-linejoin:round; stroke-width:4; stroke-opacity:1; fill:none\" points=\"758.552,1486.45 758.552,1467.55 \"/>\n",
       "<polyline clip-path=\"url(#clip690)\" style=\"stroke:#000000; stroke-linecap:round; stroke-linejoin:round; stroke-width:4; stroke-opacity:1; fill:none\" points=\"1269.51,1486.45 1269.51,1467.55 \"/>\n",
       "<polyline clip-path=\"url(#clip690)\" style=\"stroke:#000000; stroke-linecap:round; stroke-linejoin:round; stroke-width:4; stroke-opacity:1; fill:none\" points=\"1780.48,1486.45 1780.48,1467.55 \"/>\n",
       "<polyline clip-path=\"url(#clip690)\" style=\"stroke:#000000; stroke-linecap:round; stroke-linejoin:round; stroke-width:4; stroke-opacity:1; fill:none\" points=\"2291.44,1486.45 2291.44,1467.55 \"/>\n",
       "<path clip-path=\"url(#clip690)\" d=\"M209.893 1517.37 Q206.282 1517.37 204.453 1520.93 Q202.648 1524.47 202.648 1531.6 Q202.648 1538.71 204.453 1542.27 Q206.282 1545.82 209.893 1545.82 Q213.527 1545.82 215.333 1542.27 Q217.161 1538.71 217.161 1531.6 Q217.161 1524.47 215.333 1520.93 Q213.527 1517.37 209.893 1517.37 M209.893 1513.66 Q215.703 1513.66 218.759 1518.27 Q221.837 1522.85 221.837 1531.6 Q221.837 1540.33 218.759 1544.94 Q215.703 1549.52 209.893 1549.52 Q204.083 1549.52 201.004 1544.94 Q197.949 1540.33 197.949 1531.6 Q197.949 1522.85 201.004 1518.27 Q204.083 1513.66 209.893 1513.66 Z\" fill=\"#000000\" fill-rule=\"nonzero\" fill-opacity=\"1\" /><path clip-path=\"url(#clip690)\" d=\"M230.055 1542.97 L234.939 1542.97 L234.939 1548.85 L230.055 1548.85 L230.055 1542.97 Z\" fill=\"#000000\" fill-rule=\"nonzero\" fill-opacity=\"1\" /><path clip-path=\"url(#clip690)\" d=\"M255.124 1517.37 Q251.513 1517.37 249.684 1520.93 Q247.879 1524.47 247.879 1531.6 Q247.879 1538.71 249.684 1542.27 Q251.513 1545.82 255.124 1545.82 Q258.758 1545.82 260.564 1542.27 Q262.393 1538.71 262.393 1531.6 Q262.393 1524.47 260.564 1520.93 Q258.758 1517.37 255.124 1517.37 M255.124 1513.66 Q260.934 1513.66 263.99 1518.27 Q267.069 1522.85 267.069 1531.6 Q267.069 1540.33 263.99 1544.94 Q260.934 1549.52 255.124 1549.52 Q249.314 1549.52 246.235 1544.94 Q243.18 1540.33 243.18 1531.6 Q243.18 1522.85 246.235 1518.27 Q249.314 1513.66 255.124 1513.66 Z\" fill=\"#000000\" fill-rule=\"nonzero\" fill-opacity=\"1\" /><path clip-path=\"url(#clip690)\" d=\"M285.286 1517.37 Q281.675 1517.37 279.846 1520.93 Q278.041 1524.47 278.041 1531.6 Q278.041 1538.71 279.846 1542.27 Q281.675 1545.82 285.286 1545.82 Q288.92 1545.82 290.726 1542.27 Q292.555 1538.71 292.555 1531.6 Q292.555 1524.47 290.726 1520.93 Q288.92 1517.37 285.286 1517.37 M285.286 1513.66 Q291.096 1513.66 294.152 1518.27 Q297.23 1522.85 297.23 1531.6 Q297.23 1540.33 294.152 1544.94 Q291.096 1549.52 285.286 1549.52 Q279.476 1549.52 276.397 1544.94 Q273.342 1540.33 273.342 1531.6 Q273.342 1522.85 276.397 1518.27 Q279.476 1513.66 285.286 1513.66 Z\" fill=\"#000000\" fill-rule=\"nonzero\" fill-opacity=\"1\" /><path clip-path=\"url(#clip690)\" d=\"M721.353 1517.37 Q717.742 1517.37 715.914 1520.93 Q714.108 1524.47 714.108 1531.6 Q714.108 1538.71 715.914 1542.27 Q717.742 1545.82 721.353 1545.82 Q724.988 1545.82 726.793 1542.27 Q728.622 1538.71 728.622 1531.6 Q728.622 1524.47 726.793 1520.93 Q724.988 1517.37 721.353 1517.37 M721.353 1513.66 Q727.164 1513.66 730.219 1518.27 Q733.298 1522.85 733.298 1531.6 Q733.298 1540.33 730.219 1544.94 Q727.164 1549.52 721.353 1549.52 Q715.543 1549.52 712.465 1544.94 Q709.409 1540.33 709.409 1531.6 Q709.409 1522.85 712.465 1518.27 Q715.543 1513.66 721.353 1513.66 Z\" fill=\"#000000\" fill-rule=\"nonzero\" fill-opacity=\"1\" /><path clip-path=\"url(#clip690)\" d=\"M741.515 1542.97 L746.4 1542.97 L746.4 1548.85 L741.515 1548.85 L741.515 1542.97 Z\" fill=\"#000000\" fill-rule=\"nonzero\" fill-opacity=\"1\" /><path clip-path=\"url(#clip690)\" d=\"M760.612 1544.91 L776.932 1544.91 L776.932 1548.85 L754.987 1548.85 L754.987 1544.91 Q757.649 1542.16 762.233 1537.53 Q766.839 1532.88 768.02 1531.53 Q770.265 1529.01 771.145 1527.27 Q772.048 1525.51 772.048 1523.82 Q772.048 1521.07 770.103 1519.33 Q768.182 1517.6 765.08 1517.6 Q762.881 1517.6 760.427 1518.36 Q757.997 1519.13 755.219 1520.68 L755.219 1515.95 Q758.043 1514.82 760.497 1514.24 Q762.95 1513.66 764.987 1513.66 Q770.358 1513.66 773.552 1516.35 Q776.747 1519.03 776.747 1523.52 Q776.747 1525.65 775.936 1527.57 Q775.149 1529.47 773.043 1532.07 Q772.464 1532.74 769.362 1535.95 Q766.261 1539.15 760.612 1544.91 Z\" fill=\"#000000\" fill-rule=\"nonzero\" fill-opacity=\"1\" /><path clip-path=\"url(#clip690)\" d=\"M786.793 1514.29 L805.149 1514.29 L805.149 1518.22 L791.075 1518.22 L791.075 1526.7 Q792.094 1526.35 793.112 1526.19 Q794.131 1526 795.149 1526 Q800.936 1526 804.316 1529.17 Q807.695 1532.34 807.695 1537.76 Q807.695 1543.34 804.223 1546.44 Q800.751 1549.52 794.432 1549.52 Q792.256 1549.52 789.987 1549.15 Q787.742 1548.78 785.335 1548.04 L785.335 1543.34 Q787.418 1544.47 789.64 1545.03 Q791.862 1545.58 794.339 1545.58 Q798.344 1545.58 800.682 1543.48 Q803.02 1541.37 803.02 1537.76 Q803.02 1534.15 800.682 1532.04 Q798.344 1529.94 794.339 1529.94 Q792.464 1529.94 790.589 1530.35 Q788.737 1530.77 786.793 1531.65 L786.793 1514.29 Z\" fill=\"#000000\" fill-rule=\"nonzero\" fill-opacity=\"1\" /><path clip-path=\"url(#clip690)\" d=\"M1231.82 1517.37 Q1228.21 1517.37 1226.38 1520.93 Q1224.57 1524.47 1224.57 1531.6 Q1224.57 1538.71 1226.38 1542.27 Q1228.21 1545.82 1231.82 1545.82 Q1235.45 1545.82 1237.26 1542.27 Q1239.09 1538.71 1239.09 1531.6 Q1239.09 1524.47 1237.26 1520.93 Q1235.45 1517.37 1231.82 1517.37 M1231.82 1513.66 Q1237.63 1513.66 1240.68 1518.27 Q1243.76 1522.85 1243.76 1531.6 Q1243.76 1540.33 1240.68 1544.94 Q1237.63 1549.52 1231.82 1549.52 Q1226.01 1549.52 1222.93 1544.94 Q1219.87 1540.33 1219.87 1531.6 Q1219.87 1522.85 1222.93 1518.27 Q1226.01 1513.66 1231.82 1513.66 Z\" fill=\"#000000\" fill-rule=\"nonzero\" fill-opacity=\"1\" /><path clip-path=\"url(#clip690)\" d=\"M1251.98 1542.97 L1256.86 1542.97 L1256.86 1548.85 L1251.98 1548.85 L1251.98 1542.97 Z\" fill=\"#000000\" fill-rule=\"nonzero\" fill-opacity=\"1\" /><path clip-path=\"url(#clip690)\" d=\"M1267.1 1514.29 L1285.45 1514.29 L1285.45 1518.22 L1271.38 1518.22 L1271.38 1526.7 Q1272.4 1526.35 1273.42 1526.19 Q1274.43 1526 1275.45 1526 Q1281.24 1526 1284.62 1529.17 Q1288 1532.34 1288 1537.76 Q1288 1543.34 1284.53 1546.44 Q1281.05 1549.52 1274.73 1549.52 Q1272.56 1549.52 1270.29 1549.15 Q1268.05 1548.78 1265.64 1548.04 L1265.64 1543.34 Q1267.72 1544.47 1269.94 1545.03 Q1272.17 1545.58 1274.64 1545.58 Q1278.65 1545.58 1280.98 1543.48 Q1283.32 1541.37 1283.32 1537.76 Q1283.32 1534.15 1280.98 1532.04 Q1278.65 1529.94 1274.64 1529.94 Q1272.77 1529.94 1270.89 1530.35 Q1269.04 1530.77 1267.1 1531.65 L1267.1 1514.29 Z\" fill=\"#000000\" fill-rule=\"nonzero\" fill-opacity=\"1\" /><path clip-path=\"url(#clip690)\" d=\"M1307.21 1517.37 Q1303.6 1517.37 1301.77 1520.93 Q1299.97 1524.47 1299.97 1531.6 Q1299.97 1538.71 1301.77 1542.27 Q1303.6 1545.82 1307.21 1545.82 Q1310.85 1545.82 1312.65 1542.27 Q1314.48 1538.71 1314.48 1531.6 Q1314.48 1524.47 1312.65 1520.93 Q1310.85 1517.37 1307.21 1517.37 M1307.21 1513.66 Q1313.02 1513.66 1316.08 1518.27 Q1319.16 1522.85 1319.16 1531.6 Q1319.16 1540.33 1316.08 1544.94 Q1313.02 1549.52 1307.21 1549.52 Q1301.4 1549.52 1298.32 1544.94 Q1295.27 1540.33 1295.27 1531.6 Q1295.27 1522.85 1298.32 1518.27 Q1301.4 1513.66 1307.21 1513.66 Z\" fill=\"#000000\" fill-rule=\"nonzero\" fill-opacity=\"1\" /><path clip-path=\"url(#clip690)\" d=\"M1743.28 1517.37 Q1739.67 1517.37 1737.84 1520.93 Q1736.03 1524.47 1736.03 1531.6 Q1736.03 1538.71 1737.84 1542.27 Q1739.67 1545.82 1743.28 1545.82 Q1746.91 1545.82 1748.72 1542.27 Q1750.55 1538.71 1750.55 1531.6 Q1750.55 1524.47 1748.72 1520.93 Q1746.91 1517.37 1743.28 1517.37 M1743.28 1513.66 Q1749.09 1513.66 1752.14 1518.27 Q1755.22 1522.85 1755.22 1531.6 Q1755.22 1540.33 1752.14 1544.94 Q1749.09 1549.52 1743.28 1549.52 Q1737.47 1549.52 1734.39 1544.94 Q1731.33 1540.33 1731.33 1531.6 Q1731.33 1522.85 1734.39 1518.27 Q1737.47 1513.66 1743.28 1513.66 Z\" fill=\"#000000\" fill-rule=\"nonzero\" fill-opacity=\"1\" /><path clip-path=\"url(#clip690)\" d=\"M1763.44 1542.97 L1768.32 1542.97 L1768.32 1548.85 L1763.44 1548.85 L1763.44 1542.97 Z\" fill=\"#000000\" fill-rule=\"nonzero\" fill-opacity=\"1\" /><path clip-path=\"url(#clip690)\" d=\"M1777.33 1514.29 L1799.55 1514.29 L1799.55 1516.28 L1787.01 1548.85 L1782.12 1548.85 L1793.93 1518.22 L1777.33 1518.22 L1777.33 1514.29 Z\" fill=\"#000000\" fill-rule=\"nonzero\" fill-opacity=\"1\" /><path clip-path=\"url(#clip690)\" d=\"M1808.72 1514.29 L1827.07 1514.29 L1827.07 1518.22 L1813 1518.22 L1813 1526.7 Q1814.02 1526.35 1815.04 1526.19 Q1816.06 1526 1817.07 1526 Q1822.86 1526 1826.24 1529.17 Q1829.62 1532.34 1829.62 1537.76 Q1829.62 1543.34 1826.15 1546.44 Q1822.68 1549.52 1816.36 1549.52 Q1814.18 1549.52 1811.91 1549.15 Q1809.67 1548.78 1807.26 1548.04 L1807.26 1543.34 Q1809.34 1544.47 1811.57 1545.03 Q1813.79 1545.58 1816.26 1545.58 Q1820.27 1545.58 1822.61 1543.48 Q1824.95 1541.37 1824.95 1537.76 Q1824.95 1534.15 1822.61 1532.04 Q1820.27 1529.94 1816.26 1529.94 Q1814.39 1529.94 1812.51 1530.35 Q1810.66 1530.77 1808.72 1531.65 L1808.72 1514.29 Z\" fill=\"#000000\" fill-rule=\"nonzero\" fill-opacity=\"1\" /><path clip-path=\"url(#clip690)\" d=\"M2243.51 1544.91 L2251.15 1544.91 L2251.15 1518.55 L2242.84 1520.21 L2242.84 1515.95 L2251.1 1514.29 L2255.78 1514.29 L2255.78 1544.91 L2263.42 1544.91 L2263.42 1548.85 L2243.51 1548.85 L2243.51 1544.91 Z\" fill=\"#000000\" fill-rule=\"nonzero\" fill-opacity=\"1\" /><path clip-path=\"url(#clip690)\" d=\"M2272.86 1542.97 L2277.75 1542.97 L2277.75 1548.85 L2272.86 1548.85 L2272.86 1542.97 Z\" fill=\"#000000\" fill-rule=\"nonzero\" fill-opacity=\"1\" /><path clip-path=\"url(#clip690)\" d=\"M2297.93 1517.37 Q2294.32 1517.37 2292.49 1520.93 Q2290.69 1524.47 2290.69 1531.6 Q2290.69 1538.71 2292.49 1542.27 Q2294.32 1545.82 2297.93 1545.82 Q2301.57 1545.82 2303.37 1542.27 Q2305.2 1538.71 2305.2 1531.6 Q2305.2 1524.47 2303.37 1520.93 Q2301.57 1517.37 2297.93 1517.37 M2297.93 1513.66 Q2303.74 1513.66 2306.8 1518.27 Q2309.88 1522.85 2309.88 1531.6 Q2309.88 1540.33 2306.8 1544.94 Q2303.74 1549.52 2297.93 1549.52 Q2292.12 1549.52 2289.04 1544.94 Q2285.99 1540.33 2285.99 1531.6 Q2285.99 1522.85 2289.04 1518.27 Q2292.12 1513.66 2297.93 1513.66 Z\" fill=\"#000000\" fill-rule=\"nonzero\" fill-opacity=\"1\" /><path clip-path=\"url(#clip690)\" d=\"M2328.1 1517.37 Q2324.48 1517.37 2322.66 1520.93 Q2320.85 1524.47 2320.85 1531.6 Q2320.85 1538.71 2322.66 1542.27 Q2324.48 1545.82 2328.1 1545.82 Q2331.73 1545.82 2333.54 1542.27 Q2335.36 1538.71 2335.36 1531.6 Q2335.36 1524.47 2333.54 1520.93 Q2331.73 1517.37 2328.1 1517.37 M2328.1 1513.66 Q2333.91 1513.66 2336.96 1518.27 Q2340.04 1522.85 2340.04 1531.6 Q2340.04 1540.33 2336.96 1544.94 Q2333.91 1549.52 2328.1 1549.52 Q2322.29 1549.52 2319.21 1544.94 Q2316.15 1540.33 2316.15 1531.6 Q2316.15 1522.85 2319.21 1518.27 Q2322.29 1513.66 2328.1 1513.66 Z\" fill=\"#000000\" fill-rule=\"nonzero\" fill-opacity=\"1\" /><polyline clip-path=\"url(#clip692)\" style=\"stroke:#000000; stroke-linecap:round; stroke-linejoin:round; stroke-width:2; stroke-opacity:0.1; fill:none\" points=\"186.274,1445.72 2352.76,1445.72 \"/>\n",
       "<polyline clip-path=\"url(#clip692)\" style=\"stroke:#000000; stroke-linecap:round; stroke-linejoin:round; stroke-width:2; stroke-opacity:0.1; fill:none\" points=\"186.274,1106.28 2352.76,1106.28 \"/>\n",
       "<polyline clip-path=\"url(#clip692)\" style=\"stroke:#000000; stroke-linecap:round; stroke-linejoin:round; stroke-width:2; stroke-opacity:0.1; fill:none\" points=\"186.274,766.846 2352.76,766.846 \"/>\n",
       "<polyline clip-path=\"url(#clip692)\" style=\"stroke:#000000; stroke-linecap:round; stroke-linejoin:round; stroke-width:2; stroke-opacity:0.1; fill:none\" points=\"186.274,427.411 2352.76,427.411 \"/>\n",
       "<polyline clip-path=\"url(#clip692)\" style=\"stroke:#000000; stroke-linecap:round; stroke-linejoin:round; stroke-width:2; stroke-opacity:0.1; fill:none\" points=\"186.274,87.9763 2352.76,87.9763 \"/>\n",
       "<polyline clip-path=\"url(#clip690)\" style=\"stroke:#000000; stroke-linecap:round; stroke-linejoin:round; stroke-width:4; stroke-opacity:1; fill:none\" points=\"186.274,1486.45 186.274,47.2441 \"/>\n",
       "<polyline clip-path=\"url(#clip690)\" style=\"stroke:#000000; stroke-linecap:round; stroke-linejoin:round; stroke-width:4; stroke-opacity:1; fill:none\" points=\"186.274,1445.72 205.172,1445.72 \"/>\n",
       "<polyline clip-path=\"url(#clip690)\" style=\"stroke:#000000; stroke-linecap:round; stroke-linejoin:round; stroke-width:4; stroke-opacity:1; fill:none\" points=\"186.274,1106.28 205.172,1106.28 \"/>\n",
       "<polyline clip-path=\"url(#clip690)\" style=\"stroke:#000000; stroke-linecap:round; stroke-linejoin:round; stroke-width:4; stroke-opacity:1; fill:none\" points=\"186.274,766.846 205.172,766.846 \"/>\n",
       "<polyline clip-path=\"url(#clip690)\" style=\"stroke:#000000; stroke-linecap:round; stroke-linejoin:round; stroke-width:4; stroke-opacity:1; fill:none\" points=\"186.274,427.411 205.172,427.411 \"/>\n",
       "<polyline clip-path=\"url(#clip690)\" style=\"stroke:#000000; stroke-linecap:round; stroke-linejoin:round; stroke-width:4; stroke-opacity:1; fill:none\" points=\"186.274,87.9763 205.172,87.9763 \"/>\n",
       "<path clip-path=\"url(#clip690)\" d=\"M62.9365 1431.51 Q59.3254 1431.51 57.4967 1435.08 Q55.6912 1438.62 55.6912 1445.75 Q55.6912 1452.86 57.4967 1456.42 Q59.3254 1459.96 62.9365 1459.96 Q66.5707 1459.96 68.3763 1456.42 Q70.205 1452.86 70.205 1445.75 Q70.205 1438.62 68.3763 1435.08 Q66.5707 1431.51 62.9365 1431.51 M62.9365 1427.81 Q68.7467 1427.81 71.8022 1432.42 Q74.8809 1437 74.8809 1445.75 Q74.8809 1454.48 71.8022 1459.08 Q68.7467 1463.67 62.9365 1463.67 Q57.1264 1463.67 54.0477 1459.08 Q50.9921 1454.48 50.9921 1445.75 Q50.9921 1437 54.0477 1432.42 Q57.1264 1427.81 62.9365 1427.81 Z\" fill=\"#000000\" fill-rule=\"nonzero\" fill-opacity=\"1\" /><path clip-path=\"url(#clip690)\" d=\"M83.0984 1457.12 L87.9827 1457.12 L87.9827 1463 L83.0984 1463 L83.0984 1457.12 Z\" fill=\"#000000\" fill-rule=\"nonzero\" fill-opacity=\"1\" /><path clip-path=\"url(#clip690)\" d=\"M108.168 1431.51 Q104.557 1431.51 102.728 1435.08 Q100.922 1438.62 100.922 1445.75 Q100.922 1452.86 102.728 1456.42 Q104.557 1459.96 108.168 1459.96 Q111.802 1459.96 113.608 1456.42 Q115.436 1452.86 115.436 1445.75 Q115.436 1438.62 113.608 1435.08 Q111.802 1431.51 108.168 1431.51 M108.168 1427.81 Q113.978 1427.81 117.033 1432.42 Q120.112 1437 120.112 1445.75 Q120.112 1454.48 117.033 1459.08 Q113.978 1463.67 108.168 1463.67 Q102.358 1463.67 99.2789 1459.08 Q96.2234 1454.48 96.2234 1445.75 Q96.2234 1437 99.2789 1432.42 Q102.358 1427.81 108.168 1427.81 Z\" fill=\"#000000\" fill-rule=\"nonzero\" fill-opacity=\"1\" /><path clip-path=\"url(#clip690)\" d=\"M138.33 1431.51 Q134.719 1431.51 132.89 1435.08 Q131.084 1438.62 131.084 1445.75 Q131.084 1452.86 132.89 1456.42 Q134.719 1459.96 138.33 1459.96 Q141.964 1459.96 143.769 1456.42 Q145.598 1452.86 145.598 1445.75 Q145.598 1438.62 143.769 1435.08 Q141.964 1431.51 138.33 1431.51 M138.33 1427.81 Q144.14 1427.81 147.195 1432.42 Q150.274 1437 150.274 1445.75 Q150.274 1454.48 147.195 1459.08 Q144.14 1463.67 138.33 1463.67 Q132.519 1463.67 129.441 1459.08 Q126.385 1454.48 126.385 1445.75 Q126.385 1437 129.441 1432.42 Q132.519 1427.81 138.33 1427.81 Z\" fill=\"#000000\" fill-rule=\"nonzero\" fill-opacity=\"1\" /><path clip-path=\"url(#clip690)\" d=\"M63.9319 1092.08 Q60.3208 1092.08 58.4921 1095.64 Q56.6865 1099.19 56.6865 1106.32 Q56.6865 1113.42 58.4921 1116.99 Q60.3208 1120.53 63.9319 1120.53 Q67.5661 1120.53 69.3717 1116.99 Q71.2004 1113.42 71.2004 1106.32 Q71.2004 1099.19 69.3717 1095.64 Q67.5661 1092.08 63.9319 1092.08 M63.9319 1088.38 Q69.742 1088.38 72.7976 1092.98 Q75.8763 1097.57 75.8763 1106.32 Q75.8763 1115.04 72.7976 1119.65 Q69.742 1124.23 63.9319 1124.23 Q58.1217 1124.23 55.043 1119.65 Q51.9875 1115.04 51.9875 1106.32 Q51.9875 1097.57 55.043 1092.98 Q58.1217 1088.38 63.9319 1088.38 Z\" fill=\"#000000\" fill-rule=\"nonzero\" fill-opacity=\"1\" /><path clip-path=\"url(#clip690)\" d=\"M84.0938 1117.68 L88.978 1117.68 L88.978 1123.56 L84.0938 1123.56 L84.0938 1117.68 Z\" fill=\"#000000\" fill-rule=\"nonzero\" fill-opacity=\"1\" /><path clip-path=\"url(#clip690)\" d=\"M103.191 1119.63 L119.51 1119.63 L119.51 1123.56 L97.566 1123.56 L97.566 1119.63 Q100.228 1116.87 104.811 1112.24 Q109.418 1107.59 110.598 1106.25 Q112.844 1103.72 113.723 1101.99 Q114.626 1100.23 114.626 1098.54 Q114.626 1095.78 112.682 1094.05 Q110.76 1092.31 107.658 1092.31 Q105.459 1092.31 103.006 1093.07 Q100.575 1093.84 97.7974 1095.39 L97.7974 1090.67 Q100.621 1089.53 103.075 1088.95 Q105.529 1088.38 107.566 1088.38 Q112.936 1088.38 116.131 1091.06 Q119.325 1093.75 119.325 1098.24 Q119.325 1100.37 118.515 1102.29 Q117.728 1104.19 115.621 1106.78 Q115.043 1107.45 111.941 1110.67 Q108.839 1113.86 103.191 1119.63 Z\" fill=\"#000000\" fill-rule=\"nonzero\" fill-opacity=\"1\" /><path clip-path=\"url(#clip690)\" d=\"M129.371 1089 L147.728 1089 L147.728 1092.94 L133.654 1092.94 L133.654 1101.41 Q134.672 1101.06 135.691 1100.9 Q136.709 1100.71 137.728 1100.71 Q143.515 1100.71 146.894 1103.89 Q150.274 1107.06 150.274 1112.47 Q150.274 1118.05 146.802 1121.15 Q143.33 1124.23 137.01 1124.23 Q134.834 1124.23 132.566 1123.86 Q130.32 1123.49 127.913 1122.75 L127.913 1118.05 Q129.996 1119.19 132.219 1119.74 Q134.441 1120.3 136.918 1120.3 Q140.922 1120.3 143.26 1118.19 Q145.598 1116.08 145.598 1112.47 Q145.598 1108.86 143.26 1106.76 Q140.922 1104.65 136.918 1104.65 Q135.043 1104.65 133.168 1105.07 Q131.316 1105.48 129.371 1106.36 L129.371 1089 Z\" fill=\"#000000\" fill-rule=\"nonzero\" fill-opacity=\"1\" /><path clip-path=\"url(#clip690)\" d=\"M62.9365 752.645 Q59.3254 752.645 57.4967 756.209 Q55.6912 759.751 55.6912 766.881 Q55.6912 773.987 57.4967 777.552 Q59.3254 781.094 62.9365 781.094 Q66.5707 781.094 68.3763 777.552 Q70.205 773.987 70.205 766.881 Q70.205 759.751 68.3763 756.209 Q66.5707 752.645 62.9365 752.645 M62.9365 748.941 Q68.7467 748.941 71.8022 753.547 Q74.8809 758.131 74.8809 766.881 Q74.8809 775.608 71.8022 780.214 Q68.7467 784.797 62.9365 784.797 Q57.1264 784.797 54.0477 780.214 Q50.9921 775.608 50.9921 766.881 Q50.9921 758.131 54.0477 753.547 Q57.1264 748.941 62.9365 748.941 Z\" fill=\"#000000\" fill-rule=\"nonzero\" fill-opacity=\"1\" /><path clip-path=\"url(#clip690)\" d=\"M83.0984 778.246 L87.9827 778.246 L87.9827 784.126 L83.0984 784.126 L83.0984 778.246 Z\" fill=\"#000000\" fill-rule=\"nonzero\" fill-opacity=\"1\" /><path clip-path=\"url(#clip690)\" d=\"M98.2141 749.566 L116.57 749.566 L116.57 753.501 L102.496 753.501 L102.496 761.973 Q103.515 761.626 104.534 761.464 Q105.552 761.279 106.571 761.279 Q112.358 761.279 115.737 764.45 Q119.117 767.621 119.117 773.038 Q119.117 778.617 115.645 781.719 Q112.172 784.797 105.853 784.797 Q103.677 784.797 101.409 784.427 Q99.1632 784.057 96.7558 783.316 L96.7558 778.617 Q98.8391 779.751 101.061 780.307 Q103.284 780.862 105.76 780.862 Q109.765 780.862 112.103 778.756 Q114.441 776.649 114.441 773.038 Q114.441 769.427 112.103 767.321 Q109.765 765.214 105.76 765.214 Q103.885 765.214 102.01 765.631 Q100.159 766.047 98.2141 766.927 L98.2141 749.566 Z\" fill=\"#000000\" fill-rule=\"nonzero\" fill-opacity=\"1\" /><path clip-path=\"url(#clip690)\" d=\"M138.33 752.645 Q134.719 752.645 132.89 756.209 Q131.084 759.751 131.084 766.881 Q131.084 773.987 132.89 777.552 Q134.719 781.094 138.33 781.094 Q141.964 781.094 143.769 777.552 Q145.598 773.987 145.598 766.881 Q145.598 759.751 143.769 756.209 Q141.964 752.645 138.33 752.645 M138.33 748.941 Q144.14 748.941 147.195 753.547 Q150.274 758.131 150.274 766.881 Q150.274 775.608 147.195 780.214 Q144.14 784.797 138.33 784.797 Q132.519 784.797 129.441 780.214 Q126.385 775.608 126.385 766.881 Q126.385 758.131 129.441 753.547 Q132.519 748.941 138.33 748.941 Z\" fill=\"#000000\" fill-rule=\"nonzero\" fill-opacity=\"1\" /><path clip-path=\"url(#clip690)\" d=\"M63.9319 413.21 Q60.3208 413.21 58.4921 416.775 Q56.6865 420.316 56.6865 427.446 Q56.6865 434.552 58.4921 438.117 Q60.3208 441.659 63.9319 441.659 Q67.5661 441.659 69.3717 438.117 Q71.2004 434.552 71.2004 427.446 Q71.2004 420.316 69.3717 416.775 Q67.5661 413.21 63.9319 413.21 M63.9319 409.506 Q69.742 409.506 72.7976 414.113 Q75.8763 418.696 75.8763 427.446 Q75.8763 436.173 72.7976 440.779 Q69.742 445.362 63.9319 445.362 Q58.1217 445.362 55.043 440.779 Q51.9875 436.173 51.9875 427.446 Q51.9875 418.696 55.043 414.113 Q58.1217 409.506 63.9319 409.506 Z\" fill=\"#000000\" fill-rule=\"nonzero\" fill-opacity=\"1\" /><path clip-path=\"url(#clip690)\" d=\"M84.0938 438.812 L88.978 438.812 L88.978 444.691 L84.0938 444.691 L84.0938 438.812 Z\" fill=\"#000000\" fill-rule=\"nonzero\" fill-opacity=\"1\" /><path clip-path=\"url(#clip690)\" d=\"M97.9826 410.131 L120.205 410.131 L120.205 412.122 L107.658 444.691 L102.774 444.691 L114.58 414.066 L97.9826 414.066 L97.9826 410.131 Z\" fill=\"#000000\" fill-rule=\"nonzero\" fill-opacity=\"1\" /><path clip-path=\"url(#clip690)\" d=\"M129.371 410.131 L147.728 410.131 L147.728 414.066 L133.654 414.066 L133.654 422.538 Q134.672 422.191 135.691 422.029 Q136.709 421.844 137.728 421.844 Q143.515 421.844 146.894 425.015 Q150.274 428.187 150.274 433.603 Q150.274 439.182 146.802 442.284 Q143.33 445.362 137.01 445.362 Q134.834 445.362 132.566 444.992 Q130.32 444.622 127.913 443.881 L127.913 439.182 Q129.996 440.316 132.219 440.872 Q134.441 441.427 136.918 441.427 Q140.922 441.427 143.26 439.321 Q145.598 437.214 145.598 433.603 Q145.598 429.992 143.26 427.886 Q140.922 425.779 136.918 425.779 Q135.043 425.779 133.168 426.196 Q131.316 426.613 129.371 427.492 L129.371 410.131 Z\" fill=\"#000000\" fill-rule=\"nonzero\" fill-opacity=\"1\" /><path clip-path=\"url(#clip690)\" d=\"M53.7467 101.321 L61.3856 101.321 L61.3856 74.9555 L53.0754 76.6222 L53.0754 72.3629 L61.3393 70.6963 L66.0152 70.6963 L66.0152 101.321 L73.654 101.321 L73.654 105.256 L53.7467 105.256 L53.7467 101.321 Z\" fill=\"#000000\" fill-rule=\"nonzero\" fill-opacity=\"1\" /><path clip-path=\"url(#clip690)\" d=\"M83.0984 99.3767 L87.9827 99.3767 L87.9827 105.256 L83.0984 105.256 L83.0984 99.3767 Z\" fill=\"#000000\" fill-rule=\"nonzero\" fill-opacity=\"1\" /><path clip-path=\"url(#clip690)\" d=\"M108.168 73.775 Q104.557 73.775 102.728 77.3398 Q100.922 80.8814 100.922 88.011 Q100.922 95.1174 102.728 98.6822 Q104.557 102.224 108.168 102.224 Q111.802 102.224 113.608 98.6822 Q115.436 95.1174 115.436 88.011 Q115.436 80.8814 113.608 77.3398 Q111.802 73.775 108.168 73.775 M108.168 70.0713 Q113.978 70.0713 117.033 74.6777 Q120.112 79.261 120.112 88.011 Q120.112 96.7378 117.033 101.344 Q113.978 105.928 108.168 105.928 Q102.358 105.928 99.2789 101.344 Q96.2234 96.7378 96.2234 88.011 Q96.2234 79.261 99.2789 74.6777 Q102.358 70.0713 108.168 70.0713 Z\" fill=\"#000000\" fill-rule=\"nonzero\" fill-opacity=\"1\" /><path clip-path=\"url(#clip690)\" d=\"M138.33 73.775 Q134.719 73.775 132.89 77.3398 Q131.084 80.8814 131.084 88.011 Q131.084 95.1174 132.89 98.6822 Q134.719 102.224 138.33 102.224 Q141.964 102.224 143.769 98.6822 Q145.598 95.1174 145.598 88.011 Q145.598 80.8814 143.769 77.3398 Q141.964 73.775 138.33 73.775 M138.33 70.0713 Q144.14 70.0713 147.195 74.6777 Q150.274 79.261 150.274 88.011 Q150.274 96.7378 147.195 101.344 Q144.14 105.928 138.33 105.928 Q132.519 105.928 129.441 101.344 Q126.385 96.7378 126.385 88.011 Q126.385 79.261 129.441 74.6777 Q132.519 70.0713 138.33 70.0713 Z\" fill=\"#000000\" fill-rule=\"nonzero\" fill-opacity=\"1\" /><polyline clip-path=\"url(#clip692)\" style=\"stroke:#009af9; stroke-linecap:round; stroke-linejoin:round; stroke-width:4; stroke-opacity:1; fill:none\" points=\"247.59,1445.72 268.234,1391.27 288.879,1339.31 309.524,1288.25 330.169,1238.73 350.814,1191.97 371.459,1144.71 392.104,1101.45 412.749,1056.46 433.394,1014.8 454.039,974.933 474.684,934.931 495.329,897.764 515.974,862.518 536.619,825.871 557.264,792.537 577.909,759.06 598.554,726.393 619.199,696.452 639.844,666.293 660.489,639.694 681.134,612.069 701.779,585.253 722.424,559.627 743.069,536.029 763.713,511.743 784.358,488.916 805.003,467.977 825.648,446.689 846.293,427.396 866.938,408.908 887.583,390.226 908.228,372.991 928.873,356.389 949.518,339.371 970.163,324.956 990.808,310.73 1011.45,296.78 1032.1,283.395 1052.74,271.065 1073.39,259.892 1094.03,247.967 1114.68,237.49 1135.32,227.506 1155.97,217.462 1176.61,208.001 1197.26,199.381 1217.9,191.482 1238.55,183.485 1259.19,177.232 1279.84,169.422 1300.48,163.502 1321.13,156.744 1341.77,151.24 1362.42,145.807 1383.06,140.894 1403.71,136.105 1424.35,132.06 1445,127.712 1465.64,124.292 1486.29,120.466 1506.93,117.601 1527.58,114.688 1548.22,111.634 1568.87,108.917 1589.51,106.793 1610.16,104.576 1630.8,102.917 1651.45,100.758 1672.09,99.3592 1692.74,97.9608 1713.38,96.6552 1734.03,95.4397 1754.67,94.3944 1775.32,93.6347 1795.96,92.7047 1816.61,91.893 1837.25,91.2754 1857.9,90.6282 1878.54,90.1865 1899.19,89.7813 1919.83,89.4352 1940.48,89.1271 1961.12,88.9301 1981.77,88.6853 2002.41,88.5193 2023.06,88.3913 2043.7,88.2633 2064.35,88.1592 2084.99,88.1212 2105.64,88.0677 2126.28,88.0269 2146.93,88.0199 2167.57,87.9889 2188.22,87.9847 2208.86,87.9819 2229.51,87.9805 2250.15,87.9791 2270.8,87.9763 2291.44,87.9763 \"/>\n",
       "<polyline clip-path=\"url(#clip692)\" style=\"stroke:#e26f46; stroke-linecap:round; stroke-linejoin:round; stroke-width:4; stroke-opacity:1; fill:none\" points=\"247.59,1445.72 268.234,1441.99 288.879,1431.96 309.524,1417 330.169,1397.01 350.814,1374.27 371.459,1348.99 392.104,1321.53 412.749,1293.64 433.394,1265.4 454.039,1235.29 474.684,1207.22 495.329,1178.95 515.974,1151.23 536.619,1124.62 557.264,1099.81 577.909,1075.19 598.554,1051.24 619.199,1030.06 639.844,1009.92 660.489,992.009 681.134,975.077 701.779,959.155 722.424,946.232 743.069,932.223 763.713,921.467 784.358,910.665 805.003,902.611 825.648,892.428 846.293,885.854 866.938,879.374 887.583,874.956 908.228,870.419 928.873,865.737 949.518,863.509 970.163,859.129 990.808,857.876 1011.45,856.623 1032.1,854.623 1052.74,852.546 1073.39,852.812 1094.03,853.611 1114.68,851.989 1135.32,852.34 1155.97,852.109 1176.61,851.134 1197.26,852.081 1217.9,851.037 1238.55,853.447 1259.19,851.21 1279.84,853.04 1300.48,851.128 1321.13,851.597 1341.77,852.524 1362.42,852.403 1383.06,852.683 1403.71,851.709 1424.35,852.313 1445,852.638 1465.64,852.597 1486.29,853.724 1506.93,855.411 1527.58,856.145 1548.22,858.329 1568.87,861.038 1589.51,861.571 1610.16,866.96 1630.8,869.671 1651.45,875.105 1672.09,880.119 1692.74,886.547 1713.38,893.168 1734.03,901.598 1754.67,909.573 1775.32,920.487 1795.96,933.243 1816.61,945.211 1837.25,960.464 1857.9,974.732 1878.54,993.535 1899.19,1010.75 1919.83,1029.88 1940.48,1051.69 1961.12,1074.12 1981.77,1098.31 2002.41,1124.34 2023.06,1150.5 2043.7,1180.07 2064.35,1206.92 2084.99,1235.1 2105.64,1265.03 2126.28,1293.4 2146.93,1321.84 2167.57,1348.36 2188.22,1374.12 2208.86,1397.52 2229.51,1416.87 2250.15,1432.06 2270.8,1442.02 2291.44,1445.72 \"/>\n",
       "<polyline clip-path=\"url(#clip692)\" style=\"stroke:#3da44d; stroke-linecap:round; stroke-linejoin:round; stroke-width:4; stroke-opacity:1; fill:none\" points=\"247.59,1445.72 268.234,1442.73 288.879,1434.3 309.524,1421.36 330.169,1403.25 350.814,1381.87 371.459,1356.94 392.104,1329.2 412.749,1298.99 433.394,1266.62 454.039,1231.68 474.684,1196.18 495.329,1158.79 515.974,1121.68 536.619,1081.7 557.264,1044.09 577.909,1005.84 598.554,964.572 619.199,927.301 639.844,888.331 660.489,850.637 681.134,811.564 701.779,775.957 722.424,739.899 743.069,704.777 763.713,670.866 784.358,637.282 805.003,605.909 825.648,573.993 846.293,544.514 866.938,514.67 887.583,486.779 908.228,460.789 928.873,435.564 949.518,410.906 970.163,388.047 990.808,366.916 1011.45,347.027 1032.1,327.337 1052.74,307.888 1073.39,290.964 1094.03,274.222 1114.68,259.426 1135.32,245.196 1155.97,231.677 1176.61,218.962 1197.26,207.666 1217.9,196.428 1238.55,186.219 1259.19,177.166 1279.84,168.485 1300.48,160.783 1321.13,153.577 1341.77,146.586 1362.42,140.705 1383.06,135.649 1403.71,130.056 1424.35,125.7 1445,121.143 1465.64,117.187 1486.29,113.547 1506.93,111.123 1527.58,108.139 1548.22,105.653 1568.87,103.657 1589.51,101.391 1610.16,99.7981 1630.8,98.2379 1651.45,96.862 1672.09,95.7126 1692.74,94.6138 1713.38,93.5868 1734.03,92.7891 1754.67,92.0787 1775.32,91.4977 1795.96,90.9377 1816.61,90.4425 1837.25,89.9445 1857.9,89.6265 1878.54,89.3747 1899.19,89.1215 1919.83,88.9062 1940.48,88.7107 1961.12,88.608 1981.77,88.4419 2002.41,88.2984 2023.06,88.2576 2043.7,88.1915 2064.35,88.1395 2084.99,88.086 2105.64,88.0368 2126.28,88.0213 2146.93,88.01 2167.57,87.9918 2188.22,87.9833 2208.86,87.9763 2229.51,87.9763 2250.15,87.9763 2270.8,87.9763 2291.44,87.9763 \"/>\n",
       "<path clip-path=\"url(#clip690)\" d=\"M258.49 302.578 L497.893 302.578 L497.893 95.2176 L258.49 95.2176  Z\" fill=\"#ffffff\" fill-rule=\"evenodd\" fill-opacity=\"1\"/>\n",
       "<polyline clip-path=\"url(#clip690)\" style=\"stroke:#000000; stroke-linecap:round; stroke-linejoin:round; stroke-width:4; stroke-opacity:1; fill:none\" points=\"258.49,302.578 497.893,302.578 497.893,95.2176 258.49,95.2176 258.49,302.578 \"/>\n",
       "<polyline clip-path=\"url(#clip690)\" style=\"stroke:#009af9; stroke-linecap:round; stroke-linejoin:round; stroke-width:4; stroke-opacity:1; fill:none\" points=\"282.562,147.058 426.994,147.058 \"/>\n",
       "<path clip-path=\"url(#clip690)\" d=\"M451.738 160.402 L459.376 160.402 L459.376 134.037 L451.066 135.703 L451.066 131.444 L459.33 129.778 L464.006 129.778 L464.006 160.402 L471.645 160.402 L471.645 164.338 L451.738 164.338 L451.738 160.402 Z\" fill=\"#000000\" fill-rule=\"nonzero\" fill-opacity=\"1\" /><polyline clip-path=\"url(#clip690)\" style=\"stroke:#e26f46; stroke-linecap:round; stroke-linejoin:round; stroke-width:4; stroke-opacity:1; fill:none\" points=\"282.562,198.898 426.994,198.898 \"/>\n",
       "<path clip-path=\"url(#clip690)\" d=\"M456.691 212.242 L473.011 212.242 L473.011 216.178 L451.066 216.178 L451.066 212.242 Q453.728 209.488 458.312 204.858 Q462.918 200.205 464.099 198.863 Q466.344 196.34 467.224 194.604 Q468.126 192.844 468.126 191.155 Q468.126 188.4 466.182 186.664 Q464.261 184.928 461.159 184.928 Q458.96 184.928 456.506 185.692 Q454.075 186.455 451.298 188.006 L451.298 183.284 Q454.122 182.15 456.575 181.571 Q459.029 180.993 461.066 180.993 Q466.437 180.993 469.631 183.678 Q472.825 186.363 472.825 190.854 Q472.825 192.983 472.015 194.905 Q471.228 196.803 469.122 199.395 Q468.543 200.067 465.441 203.284 Q462.339 206.479 456.691 212.242 Z\" fill=\"#000000\" fill-rule=\"nonzero\" fill-opacity=\"1\" /><polyline clip-path=\"url(#clip690)\" style=\"stroke:#3da44d; stroke-linecap:round; stroke-linejoin:round; stroke-width:4; stroke-opacity:1; fill:none\" points=\"282.562,250.738 426.994,250.738 \"/>\n",
       "<path clip-path=\"url(#clip690)\" d=\"M466.691 249.383 Q470.048 250.101 471.923 252.369 Q473.821 254.638 473.821 257.971 Q473.821 263.087 470.302 265.888 Q466.784 268.689 460.302 268.689 Q458.126 268.689 455.812 268.249 Q453.52 267.832 451.066 266.976 L451.066 262.462 Q453.011 263.596 455.325 264.175 Q457.64 264.754 460.163 264.754 Q464.562 264.754 466.853 263.018 Q469.168 261.281 469.168 257.971 Q469.168 254.916 467.015 253.203 Q464.886 251.467 461.066 251.467 L457.038 251.467 L457.038 247.624 L461.251 247.624 Q464.7 247.624 466.529 246.258 Q468.358 244.87 468.358 242.277 Q468.358 239.615 466.46 238.203 Q464.585 236.768 461.066 236.768 Q459.145 236.768 456.946 237.184 Q454.747 237.601 452.108 238.481 L452.108 234.314 Q454.77 233.573 457.085 233.203 Q459.423 232.833 461.483 232.833 Q466.807 232.833 469.909 235.263 Q473.011 237.67 473.011 241.791 Q473.011 244.661 471.367 246.652 Q469.724 248.62 466.691 249.383 Z\" fill=\"#000000\" fill-rule=\"nonzero\" fill-opacity=\"1\" /></svg>\n"
      ]
     },
     "metadata": {},
     "output_type": "display_data"
    }
   ],
   "source": [
    "using Plots\n",
    "\n",
    "# display(plot(exp_p, exp_1))\n",
    "# display(plot(exp_p, exp_2))\n",
    "# display(plot(exp_p, exp_3))\n",
    "\n",
    "plot(exp_p, [exp_1 exp_2 exp_3], labels=[\"1\" \"2\" \"3\"])"
   ]
  }
 ],
 "metadata": {
  "kernelspec": {
   "display_name": "Julia 1.10.0",
   "language": "julia",
   "name": "julia-1.10"
  },
  "language_info": {
   "file_extension": ".jl",
   "mimetype": "application/julia",
   "name": "julia",
   "version": "1.10.0"
  }
 },
 "nbformat": 4,
 "nbformat_minor": 2
}
